{
 "cells": [
  {
   "cell_type": "code",
   "execution_count": 5,
   "id": "a480129f",
   "metadata": {},
   "outputs": [],
   "source": [
    "# Import libraries\n",
    "import pandas as pd\n",
    "import numpy as np\n",
    "import time\n",
    "from sklearn.model_selection import train_test_split\n",
    "from sklearn.preprocessing import StandardScaler\n",
    "from sklearn.impute import SimpleImputer\n",
    "from sklearn.metrics import classification_report, roc_auc_score\n",
    "from imblearn.over_sampling import SMOTE"
   ]
  },
  {
   "cell_type": "code",
   "execution_count": 6,
   "id": "08a68290",
   "metadata": {},
   "outputs": [],
   "source": [
    "from sklearn.tree import DecisionTreeClassifier\n",
    "from sklearn.ensemble import RandomForestClassifier\n",
    "from sklearn.neural_network import MLPClassifier"
   ]
  },
  {
   "cell_type": "code",
   "execution_count": 7,
   "id": "3a862bae",
   "metadata": {},
   "outputs": [],
   "source": [
    "# Start timing\n",
    "start_time = time.time()"
   ]
  },
  {
   "cell_type": "code",
   "execution_count": 8,
   "id": "29bac05c",
   "metadata": {},
   "outputs": [
    {
     "name": "stdout",
     "output_type": "stream",
     "text": [
      "Train shape: (260753, 299), Test shape: (173836, 298)\n"
     ]
    }
   ],
   "source": [
    "\n",
    "# Load datasets\n",
    "train_data = pd.read_csv(\"C:/Users/shahp/OneDrive/Desktop/train.csv\")\n",
    "test_data = pd.read_csv(\"C:/Users/shahp/OneDrive/Desktop/test.csv\")\n",
    "\n",
    "print(f\"Train shape: {train_data.shape}, Test shape: {test_data.shape}\")"
   ]
  },
  {
   "cell_type": "code",
   "execution_count": 9,
   "id": "3401602c",
   "metadata": {},
   "outputs": [
    {
     "name": "stdout",
     "output_type": "stream",
     "text": [
      "Target distribution:\n",
      " QuoteConversion_Flag\n",
      "0    211859\n",
      "1     48894\n",
      "Name: count, dtype: int64\n"
     ]
    }
   ],
   "source": [
    "# Prepare features and target\n",
    "X = train_data.drop(columns=['QuoteConversion_Flag'])\n",
    "y = train_data['QuoteConversion_Flag'].fillna(train_data['QuoteConversion_Flag'].mode()[0])\n",
    "\n",
    "print(\"Target distribution:\\n\", y.value_counts())"
   ]
  },
  {
   "cell_type": "code",
   "execution_count": 10,
   "id": "85abea4b",
   "metadata": {},
   "outputs": [
    {
     "name": "stdout",
     "output_type": "stream",
     "text": [
      "Numeric columns: 270 | Non-numeric columns: 28\n"
     ]
    }
   ],
   "source": [
    "# Train/Validation split\n",
    "X_train, X_valid, y_train, y_valid = train_test_split(\n",
    "    X, y, test_size=0.2, random_state=42, stratify=y\n",
    ")\n",
    "\n",
    "# Identify common columns\n",
    "common_cols = X_train.columns.intersection(test_data.columns)\n",
    "\n",
    "# Separate numeric and non-numeric columns\n",
    "numeric_cols = X_train[common_cols].select_dtypes(include=['int64', 'float64']).columns\n",
    "non_numeric_cols = X_train[common_cols].select_dtypes(exclude=['int64', 'float64']).columns\n",
    "\n",
    "print(f\"Numeric columns: {len(numeric_cols)} | Non-numeric columns: {len(non_numeric_cols)}\")"
   ]
  },
  {
   "cell_type": "code",
   "execution_count": 11,
   "id": "967df581",
   "metadata": {},
   "outputs": [],
   "source": [
    "# Impute missing values\n",
    "num_imputer = SimpleImputer(strategy='mean')\n",
    "cat_imputer = SimpleImputer(strategy='most_frequent')\n",
    "\n",
    "# Impute numeric\n",
    "X_train[numeric_cols] = num_imputer.fit_transform(X_train[numeric_cols])\n",
    "X_valid[numeric_cols] = num_imputer.transform(X_valid[numeric_cols])\n",
    "test_data[numeric_cols] = num_imputer.transform(test_data[numeric_cols])\n",
    "\n",
    "# Impute non-numeric\n",
    "X_train[non_numeric_cols] = cat_imputer.fit_transform(X_train[non_numeric_cols])\n",
    "X_valid[non_numeric_cols] = cat_imputer.transform(X_valid[non_numeric_cols])\n",
    "test_data[non_numeric_cols] = cat_imputer.transform(test_data[non_numeric_cols])"
   ]
  },
  {
   "cell_type": "code",
   "execution_count": 12,
   "id": "fe43cd61",
   "metadata": {},
   "outputs": [
    {
     "name": "stderr",
     "output_type": "stream",
     "text": [
      "C:\\Users\\shahp\\AppData\\Local\\Temp\\ipykernel_12448\\1027020528.py:9: PerformanceWarning: DataFrame is highly fragmented.  This is usually the result of calling `frame.insert` many times, which has poor performance.  Consider joining all columns at once using pd.concat(axis=1) instead. To get a de-fragmented frame, use `newframe = frame.copy()`\n",
      "  df[f\"{col}_year\"] = df[col].dt.year\n",
      "C:\\Users\\shahp\\AppData\\Local\\Temp\\ipykernel_12448\\1027020528.py:10: PerformanceWarning: DataFrame is highly fragmented.  This is usually the result of calling `frame.insert` many times, which has poor performance.  Consider joining all columns at once using pd.concat(axis=1) instead. To get a de-fragmented frame, use `newframe = frame.copy()`\n",
      "  df[f\"{col}_month\"] = df[col].dt.month\n",
      "C:\\Users\\shahp\\AppData\\Local\\Temp\\ipykernel_12448\\1027020528.py:11: PerformanceWarning: DataFrame is highly fragmented.  This is usually the result of calling `frame.insert` many times, which has poor performance.  Consider joining all columns at once using pd.concat(axis=1) instead. To get a de-fragmented frame, use `newframe = frame.copy()`\n",
      "  df[f\"{col}_day\"] = df[col].dt.day\n",
      "C:\\Users\\shahp\\AppData\\Local\\Temp\\ipykernel_12448\\1027020528.py:9: PerformanceWarning: DataFrame is highly fragmented.  This is usually the result of calling `frame.insert` many times, which has poor performance.  Consider joining all columns at once using pd.concat(axis=1) instead. To get a de-fragmented frame, use `newframe = frame.copy()`\n",
      "  df[f\"{col}_year\"] = df[col].dt.year\n",
      "C:\\Users\\shahp\\AppData\\Local\\Temp\\ipykernel_12448\\1027020528.py:10: PerformanceWarning: DataFrame is highly fragmented.  This is usually the result of calling `frame.insert` many times, which has poor performance.  Consider joining all columns at once using pd.concat(axis=1) instead. To get a de-fragmented frame, use `newframe = frame.copy()`\n",
      "  df[f\"{col}_month\"] = df[col].dt.month\n",
      "C:\\Users\\shahp\\AppData\\Local\\Temp\\ipykernel_12448\\1027020528.py:11: PerformanceWarning: DataFrame is highly fragmented.  This is usually the result of calling `frame.insert` many times, which has poor performance.  Consider joining all columns at once using pd.concat(axis=1) instead. To get a de-fragmented frame, use `newframe = frame.copy()`\n",
      "  df[f\"{col}_day\"] = df[col].dt.day\n",
      "C:\\Users\\shahp\\AppData\\Local\\Temp\\ipykernel_12448\\1027020528.py:9: PerformanceWarning: DataFrame is highly fragmented.  This is usually the result of calling `frame.insert` many times, which has poor performance.  Consider joining all columns at once using pd.concat(axis=1) instead. To get a de-fragmented frame, use `newframe = frame.copy()`\n",
      "  df[f\"{col}_year\"] = df[col].dt.year\n",
      "C:\\Users\\shahp\\AppData\\Local\\Temp\\ipykernel_12448\\1027020528.py:10: PerformanceWarning: DataFrame is highly fragmented.  This is usually the result of calling `frame.insert` many times, which has poor performance.  Consider joining all columns at once using pd.concat(axis=1) instead. To get a de-fragmented frame, use `newframe = frame.copy()`\n",
      "  df[f\"{col}_month\"] = df[col].dt.month\n",
      "C:\\Users\\shahp\\AppData\\Local\\Temp\\ipykernel_12448\\1027020528.py:11: PerformanceWarning: DataFrame is highly fragmented.  This is usually the result of calling `frame.insert` many times, which has poor performance.  Consider joining all columns at once using pd.concat(axis=1) instead. To get a de-fragmented frame, use `newframe = frame.copy()`\n",
      "  df[f\"{col}_day\"] = df[col].dt.day\n"
     ]
    },
    {
     "name": "stdout",
     "output_type": "stream",
     "text": [
      "Processed datetime column: Original_Quote_Date\n"
     ]
    },
    {
     "name": "stderr",
     "output_type": "stream",
     "text": [
      "C:\\Users\\shahp\\AppData\\Local\\Temp\\ipykernel_12448\\1027020528.py:4: UserWarning: Could not infer format, so each element will be parsed individually, falling back to `dateutil`. To ensure parsing is consistent and as-expected, please specify a format.\n",
      "  X_train[col] = pd.to_datetime(X_train[col], errors='coerce')\n",
      "C:\\Users\\shahp\\AppData\\Local\\Temp\\ipykernel_12448\\1027020528.py:5: UserWarning: Could not infer format, so each element will be parsed individually, falling back to `dateutil`. To ensure parsing is consistent and as-expected, please specify a format.\n",
      "  X_valid[col] = pd.to_datetime(X_valid[col], errors='coerce')\n",
      "C:\\Users\\shahp\\AppData\\Local\\Temp\\ipykernel_12448\\1027020528.py:6: UserWarning: Could not infer format, so each element will be parsed individually, falling back to `dateutil`. To ensure parsing is consistent and as-expected, please specify a format.\n",
      "  test_data[col] = pd.to_datetime(test_data[col], errors='coerce')\n",
      "C:\\Users\\shahp\\AppData\\Local\\Temp\\ipykernel_12448\\1027020528.py:9: PerformanceWarning: DataFrame is highly fragmented.  This is usually the result of calling `frame.insert` many times, which has poor performance.  Consider joining all columns at once using pd.concat(axis=1) instead. To get a de-fragmented frame, use `newframe = frame.copy()`\n",
      "  df[f\"{col}_year\"] = df[col].dt.year\n",
      "C:\\Users\\shahp\\AppData\\Local\\Temp\\ipykernel_12448\\1027020528.py:10: PerformanceWarning: DataFrame is highly fragmented.  This is usually the result of calling `frame.insert` many times, which has poor performance.  Consider joining all columns at once using pd.concat(axis=1) instead. To get a de-fragmented frame, use `newframe = frame.copy()`\n",
      "  df[f\"{col}_month\"] = df[col].dt.month\n",
      "C:\\Users\\shahp\\AppData\\Local\\Temp\\ipykernel_12448\\1027020528.py:11: PerformanceWarning: DataFrame is highly fragmented.  This is usually the result of calling `frame.insert` many times, which has poor performance.  Consider joining all columns at once using pd.concat(axis=1) instead. To get a de-fragmented frame, use `newframe = frame.copy()`\n",
      "  df[f\"{col}_day\"] = df[col].dt.day\n",
      "C:\\Users\\shahp\\AppData\\Local\\Temp\\ipykernel_12448\\1027020528.py:9: PerformanceWarning: DataFrame is highly fragmented.  This is usually the result of calling `frame.insert` many times, which has poor performance.  Consider joining all columns at once using pd.concat(axis=1) instead. To get a de-fragmented frame, use `newframe = frame.copy()`\n",
      "  df[f\"{col}_year\"] = df[col].dt.year\n",
      "C:\\Users\\shahp\\AppData\\Local\\Temp\\ipykernel_12448\\1027020528.py:10: PerformanceWarning: DataFrame is highly fragmented.  This is usually the result of calling `frame.insert` many times, which has poor performance.  Consider joining all columns at once using pd.concat(axis=1) instead. To get a de-fragmented frame, use `newframe = frame.copy()`\n",
      "  df[f\"{col}_month\"] = df[col].dt.month\n",
      "C:\\Users\\shahp\\AppData\\Local\\Temp\\ipykernel_12448\\1027020528.py:11: PerformanceWarning: DataFrame is highly fragmented.  This is usually the result of calling `frame.insert` many times, which has poor performance.  Consider joining all columns at once using pd.concat(axis=1) instead. To get a de-fragmented frame, use `newframe = frame.copy()`\n",
      "  df[f\"{col}_day\"] = df[col].dt.day\n",
      "C:\\Users\\shahp\\AppData\\Local\\Temp\\ipykernel_12448\\1027020528.py:9: PerformanceWarning: DataFrame is highly fragmented.  This is usually the result of calling `frame.insert` many times, which has poor performance.  Consider joining all columns at once using pd.concat(axis=1) instead. To get a de-fragmented frame, use `newframe = frame.copy()`\n",
      "  df[f\"{col}_year\"] = df[col].dt.year\n",
      "C:\\Users\\shahp\\AppData\\Local\\Temp\\ipykernel_12448\\1027020528.py:10: PerformanceWarning: DataFrame is highly fragmented.  This is usually the result of calling `frame.insert` many times, which has poor performance.  Consider joining all columns at once using pd.concat(axis=1) instead. To get a de-fragmented frame, use `newframe = frame.copy()`\n",
      "  df[f\"{col}_month\"] = df[col].dt.month\n",
      "C:\\Users\\shahp\\AppData\\Local\\Temp\\ipykernel_12448\\1027020528.py:11: PerformanceWarning: DataFrame is highly fragmented.  This is usually the result of calling `frame.insert` many times, which has poor performance.  Consider joining all columns at once using pd.concat(axis=1) instead. To get a de-fragmented frame, use `newframe = frame.copy()`\n",
      "  df[f\"{col}_day\"] = df[col].dt.day\n"
     ]
    },
    {
     "name": "stdout",
     "output_type": "stream",
     "text": [
      "Processed datetime column: Field6\n"
     ]
    },
    {
     "name": "stderr",
     "output_type": "stream",
     "text": [
      "C:\\Users\\shahp\\AppData\\Local\\Temp\\ipykernel_12448\\1027020528.py:4: UserWarning: Could not infer format, so each element will be parsed individually, falling back to `dateutil`. To ensure parsing is consistent and as-expected, please specify a format.\n",
      "  X_train[col] = pd.to_datetime(X_train[col], errors='coerce')\n",
      "C:\\Users\\shahp\\AppData\\Local\\Temp\\ipykernel_12448\\1027020528.py:5: UserWarning: Could not infer format, so each element will be parsed individually, falling back to `dateutil`. To ensure parsing is consistent and as-expected, please specify a format.\n",
      "  X_valid[col] = pd.to_datetime(X_valid[col], errors='coerce')\n",
      "C:\\Users\\shahp\\AppData\\Local\\Temp\\ipykernel_12448\\1027020528.py:6: UserWarning: Could not infer format, so each element will be parsed individually, falling back to `dateutil`. To ensure parsing is consistent and as-expected, please specify a format.\n",
      "  test_data[col] = pd.to_datetime(test_data[col], errors='coerce')\n",
      "C:\\Users\\shahp\\AppData\\Local\\Temp\\ipykernel_12448\\1027020528.py:9: PerformanceWarning: DataFrame is highly fragmented.  This is usually the result of calling `frame.insert` many times, which has poor performance.  Consider joining all columns at once using pd.concat(axis=1) instead. To get a de-fragmented frame, use `newframe = frame.copy()`\n",
      "  df[f\"{col}_year\"] = df[col].dt.year\n",
      "C:\\Users\\shahp\\AppData\\Local\\Temp\\ipykernel_12448\\1027020528.py:10: PerformanceWarning: DataFrame is highly fragmented.  This is usually the result of calling `frame.insert` many times, which has poor performance.  Consider joining all columns at once using pd.concat(axis=1) instead. To get a de-fragmented frame, use `newframe = frame.copy()`\n",
      "  df[f\"{col}_month\"] = df[col].dt.month\n",
      "C:\\Users\\shahp\\AppData\\Local\\Temp\\ipykernel_12448\\1027020528.py:11: PerformanceWarning: DataFrame is highly fragmented.  This is usually the result of calling `frame.insert` many times, which has poor performance.  Consider joining all columns at once using pd.concat(axis=1) instead. To get a de-fragmented frame, use `newframe = frame.copy()`\n",
      "  df[f\"{col}_day\"] = df[col].dt.day\n",
      "C:\\Users\\shahp\\AppData\\Local\\Temp\\ipykernel_12448\\1027020528.py:9: PerformanceWarning: DataFrame is highly fragmented.  This is usually the result of calling `frame.insert` many times, which has poor performance.  Consider joining all columns at once using pd.concat(axis=1) instead. To get a de-fragmented frame, use `newframe = frame.copy()`\n",
      "  df[f\"{col}_year\"] = df[col].dt.year\n",
      "C:\\Users\\shahp\\AppData\\Local\\Temp\\ipykernel_12448\\1027020528.py:10: PerformanceWarning: DataFrame is highly fragmented.  This is usually the result of calling `frame.insert` many times, which has poor performance.  Consider joining all columns at once using pd.concat(axis=1) instead. To get a de-fragmented frame, use `newframe = frame.copy()`\n",
      "  df[f\"{col}_month\"] = df[col].dt.month\n",
      "C:\\Users\\shahp\\AppData\\Local\\Temp\\ipykernel_12448\\1027020528.py:11: PerformanceWarning: DataFrame is highly fragmented.  This is usually the result of calling `frame.insert` many times, which has poor performance.  Consider joining all columns at once using pd.concat(axis=1) instead. To get a de-fragmented frame, use `newframe = frame.copy()`\n",
      "  df[f\"{col}_day\"] = df[col].dt.day\n",
      "C:\\Users\\shahp\\AppData\\Local\\Temp\\ipykernel_12448\\1027020528.py:9: PerformanceWarning: DataFrame is highly fragmented.  This is usually the result of calling `frame.insert` many times, which has poor performance.  Consider joining all columns at once using pd.concat(axis=1) instead. To get a de-fragmented frame, use `newframe = frame.copy()`\n",
      "  df[f\"{col}_year\"] = df[col].dt.year\n",
      "C:\\Users\\shahp\\AppData\\Local\\Temp\\ipykernel_12448\\1027020528.py:10: PerformanceWarning: DataFrame is highly fragmented.  This is usually the result of calling `frame.insert` many times, which has poor performance.  Consider joining all columns at once using pd.concat(axis=1) instead. To get a de-fragmented frame, use `newframe = frame.copy()`\n",
      "  df[f\"{col}_month\"] = df[col].dt.month\n",
      "C:\\Users\\shahp\\AppData\\Local\\Temp\\ipykernel_12448\\1027020528.py:11: PerformanceWarning: DataFrame is highly fragmented.  This is usually the result of calling `frame.insert` many times, which has poor performance.  Consider joining all columns at once using pd.concat(axis=1) instead. To get a de-fragmented frame, use `newframe = frame.copy()`\n",
      "  df[f\"{col}_day\"] = df[col].dt.day\n"
     ]
    },
    {
     "name": "stdout",
     "output_type": "stream",
     "text": [
      "Processed datetime column: Field10\n"
     ]
    },
    {
     "name": "stderr",
     "output_type": "stream",
     "text": [
      "C:\\Users\\shahp\\AppData\\Local\\Temp\\ipykernel_12448\\1027020528.py:4: UserWarning: Could not infer format, so each element will be parsed individually, falling back to `dateutil`. To ensure parsing is consistent and as-expected, please specify a format.\n",
      "  X_train[col] = pd.to_datetime(X_train[col], errors='coerce')\n",
      "C:\\Users\\shahp\\AppData\\Local\\Temp\\ipykernel_12448\\1027020528.py:5: UserWarning: Could not infer format, so each element will be parsed individually, falling back to `dateutil`. To ensure parsing is consistent and as-expected, please specify a format.\n",
      "  X_valid[col] = pd.to_datetime(X_valid[col], errors='coerce')\n",
      "C:\\Users\\shahp\\AppData\\Local\\Temp\\ipykernel_12448\\1027020528.py:6: UserWarning: Could not infer format, so each element will be parsed individually, falling back to `dateutil`. To ensure parsing is consistent and as-expected, please specify a format.\n",
      "  test_data[col] = pd.to_datetime(test_data[col], errors='coerce')\n",
      "C:\\Users\\shahp\\AppData\\Local\\Temp\\ipykernel_12448\\1027020528.py:9: PerformanceWarning: DataFrame is highly fragmented.  This is usually the result of calling `frame.insert` many times, which has poor performance.  Consider joining all columns at once using pd.concat(axis=1) instead. To get a de-fragmented frame, use `newframe = frame.copy()`\n",
      "  df[f\"{col}_year\"] = df[col].dt.year\n",
      "C:\\Users\\shahp\\AppData\\Local\\Temp\\ipykernel_12448\\1027020528.py:10: PerformanceWarning: DataFrame is highly fragmented.  This is usually the result of calling `frame.insert` many times, which has poor performance.  Consider joining all columns at once using pd.concat(axis=1) instead. To get a de-fragmented frame, use `newframe = frame.copy()`\n",
      "  df[f\"{col}_month\"] = df[col].dt.month\n",
      "C:\\Users\\shahp\\AppData\\Local\\Temp\\ipykernel_12448\\1027020528.py:11: PerformanceWarning: DataFrame is highly fragmented.  This is usually the result of calling `frame.insert` many times, which has poor performance.  Consider joining all columns at once using pd.concat(axis=1) instead. To get a de-fragmented frame, use `newframe = frame.copy()`\n",
      "  df[f\"{col}_day\"] = df[col].dt.day\n",
      "C:\\Users\\shahp\\AppData\\Local\\Temp\\ipykernel_12448\\1027020528.py:9: PerformanceWarning: DataFrame is highly fragmented.  This is usually the result of calling `frame.insert` many times, which has poor performance.  Consider joining all columns at once using pd.concat(axis=1) instead. To get a de-fragmented frame, use `newframe = frame.copy()`\n",
      "  df[f\"{col}_year\"] = df[col].dt.year\n",
      "C:\\Users\\shahp\\AppData\\Local\\Temp\\ipykernel_12448\\1027020528.py:10: PerformanceWarning: DataFrame is highly fragmented.  This is usually the result of calling `frame.insert` many times, which has poor performance.  Consider joining all columns at once using pd.concat(axis=1) instead. To get a de-fragmented frame, use `newframe = frame.copy()`\n",
      "  df[f\"{col}_month\"] = df[col].dt.month\n",
      "C:\\Users\\shahp\\AppData\\Local\\Temp\\ipykernel_12448\\1027020528.py:11: PerformanceWarning: DataFrame is highly fragmented.  This is usually the result of calling `frame.insert` many times, which has poor performance.  Consider joining all columns at once using pd.concat(axis=1) instead. To get a de-fragmented frame, use `newframe = frame.copy()`\n",
      "  df[f\"{col}_day\"] = df[col].dt.day\n",
      "C:\\Users\\shahp\\AppData\\Local\\Temp\\ipykernel_12448\\1027020528.py:9: PerformanceWarning: DataFrame is highly fragmented.  This is usually the result of calling `frame.insert` many times, which has poor performance.  Consider joining all columns at once using pd.concat(axis=1) instead. To get a de-fragmented frame, use `newframe = frame.copy()`\n",
      "  df[f\"{col}_year\"] = df[col].dt.year\n",
      "C:\\Users\\shahp\\AppData\\Local\\Temp\\ipykernel_12448\\1027020528.py:10: PerformanceWarning: DataFrame is highly fragmented.  This is usually the result of calling `frame.insert` many times, which has poor performance.  Consider joining all columns at once using pd.concat(axis=1) instead. To get a de-fragmented frame, use `newframe = frame.copy()`\n",
      "  df[f\"{col}_month\"] = df[col].dt.month\n",
      "C:\\Users\\shahp\\AppData\\Local\\Temp\\ipykernel_12448\\1027020528.py:11: PerformanceWarning: DataFrame is highly fragmented.  This is usually the result of calling `frame.insert` many times, which has poor performance.  Consider joining all columns at once using pd.concat(axis=1) instead. To get a de-fragmented frame, use `newframe = frame.copy()`\n",
      "  df[f\"{col}_day\"] = df[col].dt.day\n"
     ]
    },
    {
     "name": "stdout",
     "output_type": "stream",
     "text": [
      "Processed datetime column: Field12\n"
     ]
    },
    {
     "name": "stderr",
     "output_type": "stream",
     "text": [
      "C:\\Users\\shahp\\AppData\\Local\\Temp\\ipykernel_12448\\1027020528.py:4: UserWarning: Could not infer format, so each element will be parsed individually, falling back to `dateutil`. To ensure parsing is consistent and as-expected, please specify a format.\n",
      "  X_train[col] = pd.to_datetime(X_train[col], errors='coerce')\n",
      "C:\\Users\\shahp\\AppData\\Local\\Temp\\ipykernel_12448\\1027020528.py:5: UserWarning: Could not infer format, so each element will be parsed individually, falling back to `dateutil`. To ensure parsing is consistent and as-expected, please specify a format.\n",
      "  X_valid[col] = pd.to_datetime(X_valid[col], errors='coerce')\n",
      "C:\\Users\\shahp\\AppData\\Local\\Temp\\ipykernel_12448\\1027020528.py:6: UserWarning: Could not infer format, so each element will be parsed individually, falling back to `dateutil`. To ensure parsing is consistent and as-expected, please specify a format.\n",
      "  test_data[col] = pd.to_datetime(test_data[col], errors='coerce')\n",
      "C:\\Users\\shahp\\AppData\\Local\\Temp\\ipykernel_12448\\1027020528.py:9: PerformanceWarning: DataFrame is highly fragmented.  This is usually the result of calling `frame.insert` many times, which has poor performance.  Consider joining all columns at once using pd.concat(axis=1) instead. To get a de-fragmented frame, use `newframe = frame.copy()`\n",
      "  df[f\"{col}_year\"] = df[col].dt.year\n",
      "C:\\Users\\shahp\\AppData\\Local\\Temp\\ipykernel_12448\\1027020528.py:10: PerformanceWarning: DataFrame is highly fragmented.  This is usually the result of calling `frame.insert` many times, which has poor performance.  Consider joining all columns at once using pd.concat(axis=1) instead. To get a de-fragmented frame, use `newframe = frame.copy()`\n",
      "  df[f\"{col}_month\"] = df[col].dt.month\n",
      "C:\\Users\\shahp\\AppData\\Local\\Temp\\ipykernel_12448\\1027020528.py:11: PerformanceWarning: DataFrame is highly fragmented.  This is usually the result of calling `frame.insert` many times, which has poor performance.  Consider joining all columns at once using pd.concat(axis=1) instead. To get a de-fragmented frame, use `newframe = frame.copy()`\n",
      "  df[f\"{col}_day\"] = df[col].dt.day\n",
      "C:\\Users\\shahp\\AppData\\Local\\Temp\\ipykernel_12448\\1027020528.py:9: PerformanceWarning: DataFrame is highly fragmented.  This is usually the result of calling `frame.insert` many times, which has poor performance.  Consider joining all columns at once using pd.concat(axis=1) instead. To get a de-fragmented frame, use `newframe = frame.copy()`\n",
      "  df[f\"{col}_year\"] = df[col].dt.year\n",
      "C:\\Users\\shahp\\AppData\\Local\\Temp\\ipykernel_12448\\1027020528.py:10: PerformanceWarning: DataFrame is highly fragmented.  This is usually the result of calling `frame.insert` many times, which has poor performance.  Consider joining all columns at once using pd.concat(axis=1) instead. To get a de-fragmented frame, use `newframe = frame.copy()`\n",
      "  df[f\"{col}_month\"] = df[col].dt.month\n",
      "C:\\Users\\shahp\\AppData\\Local\\Temp\\ipykernel_12448\\1027020528.py:11: PerformanceWarning: DataFrame is highly fragmented.  This is usually the result of calling `frame.insert` many times, which has poor performance.  Consider joining all columns at once using pd.concat(axis=1) instead. To get a de-fragmented frame, use `newframe = frame.copy()`\n",
      "  df[f\"{col}_day\"] = df[col].dt.day\n",
      "C:\\Users\\shahp\\AppData\\Local\\Temp\\ipykernel_12448\\1027020528.py:9: PerformanceWarning: DataFrame is highly fragmented.  This is usually the result of calling `frame.insert` many times, which has poor performance.  Consider joining all columns at once using pd.concat(axis=1) instead. To get a de-fragmented frame, use `newframe = frame.copy()`\n",
      "  df[f\"{col}_year\"] = df[col].dt.year\n",
      "C:\\Users\\shahp\\AppData\\Local\\Temp\\ipykernel_12448\\1027020528.py:10: PerformanceWarning: DataFrame is highly fragmented.  This is usually the result of calling `frame.insert` many times, which has poor performance.  Consider joining all columns at once using pd.concat(axis=1) instead. To get a de-fragmented frame, use `newframe = frame.copy()`\n",
      "  df[f\"{col}_month\"] = df[col].dt.month\n",
      "C:\\Users\\shahp\\AppData\\Local\\Temp\\ipykernel_12448\\1027020528.py:11: PerformanceWarning: DataFrame is highly fragmented.  This is usually the result of calling `frame.insert` many times, which has poor performance.  Consider joining all columns at once using pd.concat(axis=1) instead. To get a de-fragmented frame, use `newframe = frame.copy()`\n",
      "  df[f\"{col}_day\"] = df[col].dt.day\n"
     ]
    },
    {
     "name": "stdout",
     "output_type": "stream",
     "text": [
      "Processed datetime column: CoverageField8\n"
     ]
    },
    {
     "name": "stderr",
     "output_type": "stream",
     "text": [
      "C:\\Users\\shahp\\AppData\\Local\\Temp\\ipykernel_12448\\1027020528.py:4: UserWarning: Could not infer format, so each element will be parsed individually, falling back to `dateutil`. To ensure parsing is consistent and as-expected, please specify a format.\n",
      "  X_train[col] = pd.to_datetime(X_train[col], errors='coerce')\n",
      "C:\\Users\\shahp\\AppData\\Local\\Temp\\ipykernel_12448\\1027020528.py:5: UserWarning: Could not infer format, so each element will be parsed individually, falling back to `dateutil`. To ensure parsing is consistent and as-expected, please specify a format.\n",
      "  X_valid[col] = pd.to_datetime(X_valid[col], errors='coerce')\n",
      "C:\\Users\\shahp\\AppData\\Local\\Temp\\ipykernel_12448\\1027020528.py:6: UserWarning: Could not infer format, so each element will be parsed individually, falling back to `dateutil`. To ensure parsing is consistent and as-expected, please specify a format.\n",
      "  test_data[col] = pd.to_datetime(test_data[col], errors='coerce')\n",
      "C:\\Users\\shahp\\AppData\\Local\\Temp\\ipykernel_12448\\1027020528.py:9: PerformanceWarning: DataFrame is highly fragmented.  This is usually the result of calling `frame.insert` many times, which has poor performance.  Consider joining all columns at once using pd.concat(axis=1) instead. To get a de-fragmented frame, use `newframe = frame.copy()`\n",
      "  df[f\"{col}_year\"] = df[col].dt.year\n",
      "C:\\Users\\shahp\\AppData\\Local\\Temp\\ipykernel_12448\\1027020528.py:10: PerformanceWarning: DataFrame is highly fragmented.  This is usually the result of calling `frame.insert` many times, which has poor performance.  Consider joining all columns at once using pd.concat(axis=1) instead. To get a de-fragmented frame, use `newframe = frame.copy()`\n",
      "  df[f\"{col}_month\"] = df[col].dt.month\n",
      "C:\\Users\\shahp\\AppData\\Local\\Temp\\ipykernel_12448\\1027020528.py:11: PerformanceWarning: DataFrame is highly fragmented.  This is usually the result of calling `frame.insert` many times, which has poor performance.  Consider joining all columns at once using pd.concat(axis=1) instead. To get a de-fragmented frame, use `newframe = frame.copy()`\n",
      "  df[f\"{col}_day\"] = df[col].dt.day\n",
      "C:\\Users\\shahp\\AppData\\Local\\Temp\\ipykernel_12448\\1027020528.py:9: PerformanceWarning: DataFrame is highly fragmented.  This is usually the result of calling `frame.insert` many times, which has poor performance.  Consider joining all columns at once using pd.concat(axis=1) instead. To get a de-fragmented frame, use `newframe = frame.copy()`\n",
      "  df[f\"{col}_year\"] = df[col].dt.year\n",
      "C:\\Users\\shahp\\AppData\\Local\\Temp\\ipykernel_12448\\1027020528.py:10: PerformanceWarning: DataFrame is highly fragmented.  This is usually the result of calling `frame.insert` many times, which has poor performance.  Consider joining all columns at once using pd.concat(axis=1) instead. To get a de-fragmented frame, use `newframe = frame.copy()`\n",
      "  df[f\"{col}_month\"] = df[col].dt.month\n",
      "C:\\Users\\shahp\\AppData\\Local\\Temp\\ipykernel_12448\\1027020528.py:11: PerformanceWarning: DataFrame is highly fragmented.  This is usually the result of calling `frame.insert` many times, which has poor performance.  Consider joining all columns at once using pd.concat(axis=1) instead. To get a de-fragmented frame, use `newframe = frame.copy()`\n",
      "  df[f\"{col}_day\"] = df[col].dt.day\n",
      "C:\\Users\\shahp\\AppData\\Local\\Temp\\ipykernel_12448\\1027020528.py:9: PerformanceWarning: DataFrame is highly fragmented.  This is usually the result of calling `frame.insert` many times, which has poor performance.  Consider joining all columns at once using pd.concat(axis=1) instead. To get a de-fragmented frame, use `newframe = frame.copy()`\n",
      "  df[f\"{col}_year\"] = df[col].dt.year\n",
      "C:\\Users\\shahp\\AppData\\Local\\Temp\\ipykernel_12448\\1027020528.py:10: PerformanceWarning: DataFrame is highly fragmented.  This is usually the result of calling `frame.insert` many times, which has poor performance.  Consider joining all columns at once using pd.concat(axis=1) instead. To get a de-fragmented frame, use `newframe = frame.copy()`\n",
      "  df[f\"{col}_month\"] = df[col].dt.month\n",
      "C:\\Users\\shahp\\AppData\\Local\\Temp\\ipykernel_12448\\1027020528.py:11: PerformanceWarning: DataFrame is highly fragmented.  This is usually the result of calling `frame.insert` many times, which has poor performance.  Consider joining all columns at once using pd.concat(axis=1) instead. To get a de-fragmented frame, use `newframe = frame.copy()`\n",
      "  df[f\"{col}_day\"] = df[col].dt.day\n"
     ]
    },
    {
     "name": "stdout",
     "output_type": "stream",
     "text": [
      "Processed datetime column: CoverageField9\n"
     ]
    },
    {
     "name": "stderr",
     "output_type": "stream",
     "text": [
      "C:\\Users\\shahp\\AppData\\Local\\Temp\\ipykernel_12448\\1027020528.py:4: UserWarning: Could not infer format, so each element will be parsed individually, falling back to `dateutil`. To ensure parsing is consistent and as-expected, please specify a format.\n",
      "  X_train[col] = pd.to_datetime(X_train[col], errors='coerce')\n",
      "C:\\Users\\shahp\\AppData\\Local\\Temp\\ipykernel_12448\\1027020528.py:5: UserWarning: Could not infer format, so each element will be parsed individually, falling back to `dateutil`. To ensure parsing is consistent and as-expected, please specify a format.\n",
      "  X_valid[col] = pd.to_datetime(X_valid[col], errors='coerce')\n",
      "C:\\Users\\shahp\\AppData\\Local\\Temp\\ipykernel_12448\\1027020528.py:6: UserWarning: Could not infer format, so each element will be parsed individually, falling back to `dateutil`. To ensure parsing is consistent and as-expected, please specify a format.\n",
      "  test_data[col] = pd.to_datetime(test_data[col], errors='coerce')\n",
      "C:\\Users\\shahp\\AppData\\Local\\Temp\\ipykernel_12448\\1027020528.py:9: PerformanceWarning: DataFrame is highly fragmented.  This is usually the result of calling `frame.insert` many times, which has poor performance.  Consider joining all columns at once using pd.concat(axis=1) instead. To get a de-fragmented frame, use `newframe = frame.copy()`\n",
      "  df[f\"{col}_year\"] = df[col].dt.year\n",
      "C:\\Users\\shahp\\AppData\\Local\\Temp\\ipykernel_12448\\1027020528.py:10: PerformanceWarning: DataFrame is highly fragmented.  This is usually the result of calling `frame.insert` many times, which has poor performance.  Consider joining all columns at once using pd.concat(axis=1) instead. To get a de-fragmented frame, use `newframe = frame.copy()`\n",
      "  df[f\"{col}_month\"] = df[col].dt.month\n",
      "C:\\Users\\shahp\\AppData\\Local\\Temp\\ipykernel_12448\\1027020528.py:11: PerformanceWarning: DataFrame is highly fragmented.  This is usually the result of calling `frame.insert` many times, which has poor performance.  Consider joining all columns at once using pd.concat(axis=1) instead. To get a de-fragmented frame, use `newframe = frame.copy()`\n",
      "  df[f\"{col}_day\"] = df[col].dt.day\n",
      "C:\\Users\\shahp\\AppData\\Local\\Temp\\ipykernel_12448\\1027020528.py:9: PerformanceWarning: DataFrame is highly fragmented.  This is usually the result of calling `frame.insert` many times, which has poor performance.  Consider joining all columns at once using pd.concat(axis=1) instead. To get a de-fragmented frame, use `newframe = frame.copy()`\n",
      "  df[f\"{col}_year\"] = df[col].dt.year\n",
      "C:\\Users\\shahp\\AppData\\Local\\Temp\\ipykernel_12448\\1027020528.py:10: PerformanceWarning: DataFrame is highly fragmented.  This is usually the result of calling `frame.insert` many times, which has poor performance.  Consider joining all columns at once using pd.concat(axis=1) instead. To get a de-fragmented frame, use `newframe = frame.copy()`\n",
      "  df[f\"{col}_month\"] = df[col].dt.month\n",
      "C:\\Users\\shahp\\AppData\\Local\\Temp\\ipykernel_12448\\1027020528.py:11: PerformanceWarning: DataFrame is highly fragmented.  This is usually the result of calling `frame.insert` many times, which has poor performance.  Consider joining all columns at once using pd.concat(axis=1) instead. To get a de-fragmented frame, use `newframe = frame.copy()`\n",
      "  df[f\"{col}_day\"] = df[col].dt.day\n",
      "C:\\Users\\shahp\\AppData\\Local\\Temp\\ipykernel_12448\\1027020528.py:9: PerformanceWarning: DataFrame is highly fragmented.  This is usually the result of calling `frame.insert` many times, which has poor performance.  Consider joining all columns at once using pd.concat(axis=1) instead. To get a de-fragmented frame, use `newframe = frame.copy()`\n",
      "  df[f\"{col}_year\"] = df[col].dt.year\n",
      "C:\\Users\\shahp\\AppData\\Local\\Temp\\ipykernel_12448\\1027020528.py:10: PerformanceWarning: DataFrame is highly fragmented.  This is usually the result of calling `frame.insert` many times, which has poor performance.  Consider joining all columns at once using pd.concat(axis=1) instead. To get a de-fragmented frame, use `newframe = frame.copy()`\n",
      "  df[f\"{col}_month\"] = df[col].dt.month\n",
      "C:\\Users\\shahp\\AppData\\Local\\Temp\\ipykernel_12448\\1027020528.py:11: PerformanceWarning: DataFrame is highly fragmented.  This is usually the result of calling `frame.insert` many times, which has poor performance.  Consider joining all columns at once using pd.concat(axis=1) instead. To get a de-fragmented frame, use `newframe = frame.copy()`\n",
      "  df[f\"{col}_day\"] = df[col].dt.day\n"
     ]
    },
    {
     "name": "stdout",
     "output_type": "stream",
     "text": [
      "Processed datetime column: SalesField7\n"
     ]
    },
    {
     "name": "stderr",
     "output_type": "stream",
     "text": [
      "C:\\Users\\shahp\\AppData\\Local\\Temp\\ipykernel_12448\\1027020528.py:4: UserWarning: Could not infer format, so each element will be parsed individually, falling back to `dateutil`. To ensure parsing is consistent and as-expected, please specify a format.\n",
      "  X_train[col] = pd.to_datetime(X_train[col], errors='coerce')\n",
      "C:\\Users\\shahp\\AppData\\Local\\Temp\\ipykernel_12448\\1027020528.py:5: UserWarning: Could not infer format, so each element will be parsed individually, falling back to `dateutil`. To ensure parsing is consistent and as-expected, please specify a format.\n",
      "  X_valid[col] = pd.to_datetime(X_valid[col], errors='coerce')\n",
      "C:\\Users\\shahp\\AppData\\Local\\Temp\\ipykernel_12448\\1027020528.py:6: UserWarning: Could not infer format, so each element will be parsed individually, falling back to `dateutil`. To ensure parsing is consistent and as-expected, please specify a format.\n",
      "  test_data[col] = pd.to_datetime(test_data[col], errors='coerce')\n",
      "C:\\Users\\shahp\\AppData\\Local\\Temp\\ipykernel_12448\\1027020528.py:9: PerformanceWarning: DataFrame is highly fragmented.  This is usually the result of calling `frame.insert` many times, which has poor performance.  Consider joining all columns at once using pd.concat(axis=1) instead. To get a de-fragmented frame, use `newframe = frame.copy()`\n",
      "  df[f\"{col}_year\"] = df[col].dt.year\n",
      "C:\\Users\\shahp\\AppData\\Local\\Temp\\ipykernel_12448\\1027020528.py:10: PerformanceWarning: DataFrame is highly fragmented.  This is usually the result of calling `frame.insert` many times, which has poor performance.  Consider joining all columns at once using pd.concat(axis=1) instead. To get a de-fragmented frame, use `newframe = frame.copy()`\n",
      "  df[f\"{col}_month\"] = df[col].dt.month\n",
      "C:\\Users\\shahp\\AppData\\Local\\Temp\\ipykernel_12448\\1027020528.py:11: PerformanceWarning: DataFrame is highly fragmented.  This is usually the result of calling `frame.insert` many times, which has poor performance.  Consider joining all columns at once using pd.concat(axis=1) instead. To get a de-fragmented frame, use `newframe = frame.copy()`\n",
      "  df[f\"{col}_day\"] = df[col].dt.day\n",
      "C:\\Users\\shahp\\AppData\\Local\\Temp\\ipykernel_12448\\1027020528.py:9: PerformanceWarning: DataFrame is highly fragmented.  This is usually the result of calling `frame.insert` many times, which has poor performance.  Consider joining all columns at once using pd.concat(axis=1) instead. To get a de-fragmented frame, use `newframe = frame.copy()`\n",
      "  df[f\"{col}_year\"] = df[col].dt.year\n",
      "C:\\Users\\shahp\\AppData\\Local\\Temp\\ipykernel_12448\\1027020528.py:10: PerformanceWarning: DataFrame is highly fragmented.  This is usually the result of calling `frame.insert` many times, which has poor performance.  Consider joining all columns at once using pd.concat(axis=1) instead. To get a de-fragmented frame, use `newframe = frame.copy()`\n",
      "  df[f\"{col}_month\"] = df[col].dt.month\n",
      "C:\\Users\\shahp\\AppData\\Local\\Temp\\ipykernel_12448\\1027020528.py:11: PerformanceWarning: DataFrame is highly fragmented.  This is usually the result of calling `frame.insert` many times, which has poor performance.  Consider joining all columns at once using pd.concat(axis=1) instead. To get a de-fragmented frame, use `newframe = frame.copy()`\n",
      "  df[f\"{col}_day\"] = df[col].dt.day\n",
      "C:\\Users\\shahp\\AppData\\Local\\Temp\\ipykernel_12448\\1027020528.py:9: PerformanceWarning: DataFrame is highly fragmented.  This is usually the result of calling `frame.insert` many times, which has poor performance.  Consider joining all columns at once using pd.concat(axis=1) instead. To get a de-fragmented frame, use `newframe = frame.copy()`\n",
      "  df[f\"{col}_year\"] = df[col].dt.year\n",
      "C:\\Users\\shahp\\AppData\\Local\\Temp\\ipykernel_12448\\1027020528.py:10: PerformanceWarning: DataFrame is highly fragmented.  This is usually the result of calling `frame.insert` many times, which has poor performance.  Consider joining all columns at once using pd.concat(axis=1) instead. To get a de-fragmented frame, use `newframe = frame.copy()`\n",
      "  df[f\"{col}_month\"] = df[col].dt.month\n",
      "C:\\Users\\shahp\\AppData\\Local\\Temp\\ipykernel_12448\\1027020528.py:11: PerformanceWarning: DataFrame is highly fragmented.  This is usually the result of calling `frame.insert` many times, which has poor performance.  Consider joining all columns at once using pd.concat(axis=1) instead. To get a de-fragmented frame, use `newframe = frame.copy()`\n",
      "  df[f\"{col}_day\"] = df[col].dt.day\n"
     ]
    },
    {
     "name": "stdout",
     "output_type": "stream",
     "text": [
      "Processed datetime column: PersonalField7\n"
     ]
    },
    {
     "name": "stderr",
     "output_type": "stream",
     "text": [
      "C:\\Users\\shahp\\AppData\\Local\\Temp\\ipykernel_12448\\1027020528.py:4: UserWarning: Could not infer format, so each element will be parsed individually, falling back to `dateutil`. To ensure parsing is consistent and as-expected, please specify a format.\n",
      "  X_train[col] = pd.to_datetime(X_train[col], errors='coerce')\n",
      "C:\\Users\\shahp\\AppData\\Local\\Temp\\ipykernel_12448\\1027020528.py:5: UserWarning: Could not infer format, so each element will be parsed individually, falling back to `dateutil`. To ensure parsing is consistent and as-expected, please specify a format.\n",
      "  X_valid[col] = pd.to_datetime(X_valid[col], errors='coerce')\n",
      "C:\\Users\\shahp\\AppData\\Local\\Temp\\ipykernel_12448\\1027020528.py:6: UserWarning: Could not infer format, so each element will be parsed individually, falling back to `dateutil`. To ensure parsing is consistent and as-expected, please specify a format.\n",
      "  test_data[col] = pd.to_datetime(test_data[col], errors='coerce')\n",
      "C:\\Users\\shahp\\AppData\\Local\\Temp\\ipykernel_12448\\1027020528.py:9: PerformanceWarning: DataFrame is highly fragmented.  This is usually the result of calling `frame.insert` many times, which has poor performance.  Consider joining all columns at once using pd.concat(axis=1) instead. To get a de-fragmented frame, use `newframe = frame.copy()`\n",
      "  df[f\"{col}_year\"] = df[col].dt.year\n",
      "C:\\Users\\shahp\\AppData\\Local\\Temp\\ipykernel_12448\\1027020528.py:10: PerformanceWarning: DataFrame is highly fragmented.  This is usually the result of calling `frame.insert` many times, which has poor performance.  Consider joining all columns at once using pd.concat(axis=1) instead. To get a de-fragmented frame, use `newframe = frame.copy()`\n",
      "  df[f\"{col}_month\"] = df[col].dt.month\n",
      "C:\\Users\\shahp\\AppData\\Local\\Temp\\ipykernel_12448\\1027020528.py:11: PerformanceWarning: DataFrame is highly fragmented.  This is usually the result of calling `frame.insert` many times, which has poor performance.  Consider joining all columns at once using pd.concat(axis=1) instead. To get a de-fragmented frame, use `newframe = frame.copy()`\n",
      "  df[f\"{col}_day\"] = df[col].dt.day\n",
      "C:\\Users\\shahp\\AppData\\Local\\Temp\\ipykernel_12448\\1027020528.py:9: PerformanceWarning: DataFrame is highly fragmented.  This is usually the result of calling `frame.insert` many times, which has poor performance.  Consider joining all columns at once using pd.concat(axis=1) instead. To get a de-fragmented frame, use `newframe = frame.copy()`\n",
      "  df[f\"{col}_year\"] = df[col].dt.year\n",
      "C:\\Users\\shahp\\AppData\\Local\\Temp\\ipykernel_12448\\1027020528.py:10: PerformanceWarning: DataFrame is highly fragmented.  This is usually the result of calling `frame.insert` many times, which has poor performance.  Consider joining all columns at once using pd.concat(axis=1) instead. To get a de-fragmented frame, use `newframe = frame.copy()`\n",
      "  df[f\"{col}_month\"] = df[col].dt.month\n",
      "C:\\Users\\shahp\\AppData\\Local\\Temp\\ipykernel_12448\\1027020528.py:11: PerformanceWarning: DataFrame is highly fragmented.  This is usually the result of calling `frame.insert` many times, which has poor performance.  Consider joining all columns at once using pd.concat(axis=1) instead. To get a de-fragmented frame, use `newframe = frame.copy()`\n",
      "  df[f\"{col}_day\"] = df[col].dt.day\n",
      "C:\\Users\\shahp\\AppData\\Local\\Temp\\ipykernel_12448\\1027020528.py:9: PerformanceWarning: DataFrame is highly fragmented.  This is usually the result of calling `frame.insert` many times, which has poor performance.  Consider joining all columns at once using pd.concat(axis=1) instead. To get a de-fragmented frame, use `newframe = frame.copy()`\n",
      "  df[f\"{col}_year\"] = df[col].dt.year\n",
      "C:\\Users\\shahp\\AppData\\Local\\Temp\\ipykernel_12448\\1027020528.py:10: PerformanceWarning: DataFrame is highly fragmented.  This is usually the result of calling `frame.insert` many times, which has poor performance.  Consider joining all columns at once using pd.concat(axis=1) instead. To get a de-fragmented frame, use `newframe = frame.copy()`\n",
      "  df[f\"{col}_month\"] = df[col].dt.month\n",
      "C:\\Users\\shahp\\AppData\\Local\\Temp\\ipykernel_12448\\1027020528.py:11: PerformanceWarning: DataFrame is highly fragmented.  This is usually the result of calling `frame.insert` many times, which has poor performance.  Consider joining all columns at once using pd.concat(axis=1) instead. To get a de-fragmented frame, use `newframe = frame.copy()`\n",
      "  df[f\"{col}_day\"] = df[col].dt.day\n"
     ]
    },
    {
     "name": "stdout",
     "output_type": "stream",
     "text": [
      "Processed datetime column: PersonalField16\n"
     ]
    },
    {
     "name": "stderr",
     "output_type": "stream",
     "text": [
      "C:\\Users\\shahp\\AppData\\Local\\Temp\\ipykernel_12448\\1027020528.py:4: UserWarning: Could not infer format, so each element will be parsed individually, falling back to `dateutil`. To ensure parsing is consistent and as-expected, please specify a format.\n",
      "  X_train[col] = pd.to_datetime(X_train[col], errors='coerce')\n",
      "C:\\Users\\shahp\\AppData\\Local\\Temp\\ipykernel_12448\\1027020528.py:5: UserWarning: Could not infer format, so each element will be parsed individually, falling back to `dateutil`. To ensure parsing is consistent and as-expected, please specify a format.\n",
      "  X_valid[col] = pd.to_datetime(X_valid[col], errors='coerce')\n",
      "C:\\Users\\shahp\\AppData\\Local\\Temp\\ipykernel_12448\\1027020528.py:6: UserWarning: Could not infer format, so each element will be parsed individually, falling back to `dateutil`. To ensure parsing is consistent and as-expected, please specify a format.\n",
      "  test_data[col] = pd.to_datetime(test_data[col], errors='coerce')\n",
      "C:\\Users\\shahp\\AppData\\Local\\Temp\\ipykernel_12448\\1027020528.py:9: PerformanceWarning: DataFrame is highly fragmented.  This is usually the result of calling `frame.insert` many times, which has poor performance.  Consider joining all columns at once using pd.concat(axis=1) instead. To get a de-fragmented frame, use `newframe = frame.copy()`\n",
      "  df[f\"{col}_year\"] = df[col].dt.year\n",
      "C:\\Users\\shahp\\AppData\\Local\\Temp\\ipykernel_12448\\1027020528.py:10: PerformanceWarning: DataFrame is highly fragmented.  This is usually the result of calling `frame.insert` many times, which has poor performance.  Consider joining all columns at once using pd.concat(axis=1) instead. To get a de-fragmented frame, use `newframe = frame.copy()`\n",
      "  df[f\"{col}_month\"] = df[col].dt.month\n",
      "C:\\Users\\shahp\\AppData\\Local\\Temp\\ipykernel_12448\\1027020528.py:11: PerformanceWarning: DataFrame is highly fragmented.  This is usually the result of calling `frame.insert` many times, which has poor performance.  Consider joining all columns at once using pd.concat(axis=1) instead. To get a de-fragmented frame, use `newframe = frame.copy()`\n",
      "  df[f\"{col}_day\"] = df[col].dt.day\n",
      "C:\\Users\\shahp\\AppData\\Local\\Temp\\ipykernel_12448\\1027020528.py:9: PerformanceWarning: DataFrame is highly fragmented.  This is usually the result of calling `frame.insert` many times, which has poor performance.  Consider joining all columns at once using pd.concat(axis=1) instead. To get a de-fragmented frame, use `newframe = frame.copy()`\n",
      "  df[f\"{col}_year\"] = df[col].dt.year\n",
      "C:\\Users\\shahp\\AppData\\Local\\Temp\\ipykernel_12448\\1027020528.py:10: PerformanceWarning: DataFrame is highly fragmented.  This is usually the result of calling `frame.insert` many times, which has poor performance.  Consider joining all columns at once using pd.concat(axis=1) instead. To get a de-fragmented frame, use `newframe = frame.copy()`\n",
      "  df[f\"{col}_month\"] = df[col].dt.month\n",
      "C:\\Users\\shahp\\AppData\\Local\\Temp\\ipykernel_12448\\1027020528.py:11: PerformanceWarning: DataFrame is highly fragmented.  This is usually the result of calling `frame.insert` many times, which has poor performance.  Consider joining all columns at once using pd.concat(axis=1) instead. To get a de-fragmented frame, use `newframe = frame.copy()`\n",
      "  df[f\"{col}_day\"] = df[col].dt.day\n",
      "C:\\Users\\shahp\\AppData\\Local\\Temp\\ipykernel_12448\\1027020528.py:9: PerformanceWarning: DataFrame is highly fragmented.  This is usually the result of calling `frame.insert` many times, which has poor performance.  Consider joining all columns at once using pd.concat(axis=1) instead. To get a de-fragmented frame, use `newframe = frame.copy()`\n",
      "  df[f\"{col}_year\"] = df[col].dt.year\n",
      "C:\\Users\\shahp\\AppData\\Local\\Temp\\ipykernel_12448\\1027020528.py:10: PerformanceWarning: DataFrame is highly fragmented.  This is usually the result of calling `frame.insert` many times, which has poor performance.  Consider joining all columns at once using pd.concat(axis=1) instead. To get a de-fragmented frame, use `newframe = frame.copy()`\n",
      "  df[f\"{col}_month\"] = df[col].dt.month\n",
      "C:\\Users\\shahp\\AppData\\Local\\Temp\\ipykernel_12448\\1027020528.py:11: PerformanceWarning: DataFrame is highly fragmented.  This is usually the result of calling `frame.insert` many times, which has poor performance.  Consider joining all columns at once using pd.concat(axis=1) instead. To get a de-fragmented frame, use `newframe = frame.copy()`\n",
      "  df[f\"{col}_day\"] = df[col].dt.day\n"
     ]
    },
    {
     "name": "stdout",
     "output_type": "stream",
     "text": [
      "Processed datetime column: PersonalField17\n"
     ]
    },
    {
     "name": "stderr",
     "output_type": "stream",
     "text": [
      "C:\\Users\\shahp\\AppData\\Local\\Temp\\ipykernel_12448\\1027020528.py:4: UserWarning: Could not infer format, so each element will be parsed individually, falling back to `dateutil`. To ensure parsing is consistent and as-expected, please specify a format.\n",
      "  X_train[col] = pd.to_datetime(X_train[col], errors='coerce')\n",
      "C:\\Users\\shahp\\AppData\\Local\\Temp\\ipykernel_12448\\1027020528.py:5: UserWarning: Could not infer format, so each element will be parsed individually, falling back to `dateutil`. To ensure parsing is consistent and as-expected, please specify a format.\n",
      "  X_valid[col] = pd.to_datetime(X_valid[col], errors='coerce')\n",
      "C:\\Users\\shahp\\AppData\\Local\\Temp\\ipykernel_12448\\1027020528.py:6: UserWarning: Could not infer format, so each element will be parsed individually, falling back to `dateutil`. To ensure parsing is consistent and as-expected, please specify a format.\n",
      "  test_data[col] = pd.to_datetime(test_data[col], errors='coerce')\n",
      "C:\\Users\\shahp\\AppData\\Local\\Temp\\ipykernel_12448\\1027020528.py:9: PerformanceWarning: DataFrame is highly fragmented.  This is usually the result of calling `frame.insert` many times, which has poor performance.  Consider joining all columns at once using pd.concat(axis=1) instead. To get a de-fragmented frame, use `newframe = frame.copy()`\n",
      "  df[f\"{col}_year\"] = df[col].dt.year\n",
      "C:\\Users\\shahp\\AppData\\Local\\Temp\\ipykernel_12448\\1027020528.py:10: PerformanceWarning: DataFrame is highly fragmented.  This is usually the result of calling `frame.insert` many times, which has poor performance.  Consider joining all columns at once using pd.concat(axis=1) instead. To get a de-fragmented frame, use `newframe = frame.copy()`\n",
      "  df[f\"{col}_month\"] = df[col].dt.month\n",
      "C:\\Users\\shahp\\AppData\\Local\\Temp\\ipykernel_12448\\1027020528.py:11: PerformanceWarning: DataFrame is highly fragmented.  This is usually the result of calling `frame.insert` many times, which has poor performance.  Consider joining all columns at once using pd.concat(axis=1) instead. To get a de-fragmented frame, use `newframe = frame.copy()`\n",
      "  df[f\"{col}_day\"] = df[col].dt.day\n",
      "C:\\Users\\shahp\\AppData\\Local\\Temp\\ipykernel_12448\\1027020528.py:9: PerformanceWarning: DataFrame is highly fragmented.  This is usually the result of calling `frame.insert` many times, which has poor performance.  Consider joining all columns at once using pd.concat(axis=1) instead. To get a de-fragmented frame, use `newframe = frame.copy()`\n",
      "  df[f\"{col}_year\"] = df[col].dt.year\n",
      "C:\\Users\\shahp\\AppData\\Local\\Temp\\ipykernel_12448\\1027020528.py:10: PerformanceWarning: DataFrame is highly fragmented.  This is usually the result of calling `frame.insert` many times, which has poor performance.  Consider joining all columns at once using pd.concat(axis=1) instead. To get a de-fragmented frame, use `newframe = frame.copy()`\n",
      "  df[f\"{col}_month\"] = df[col].dt.month\n",
      "C:\\Users\\shahp\\AppData\\Local\\Temp\\ipykernel_12448\\1027020528.py:11: PerformanceWarning: DataFrame is highly fragmented.  This is usually the result of calling `frame.insert` many times, which has poor performance.  Consider joining all columns at once using pd.concat(axis=1) instead. To get a de-fragmented frame, use `newframe = frame.copy()`\n",
      "  df[f\"{col}_day\"] = df[col].dt.day\n",
      "C:\\Users\\shahp\\AppData\\Local\\Temp\\ipykernel_12448\\1027020528.py:9: PerformanceWarning: DataFrame is highly fragmented.  This is usually the result of calling `frame.insert` many times, which has poor performance.  Consider joining all columns at once using pd.concat(axis=1) instead. To get a de-fragmented frame, use `newframe = frame.copy()`\n",
      "  df[f\"{col}_year\"] = df[col].dt.year\n",
      "C:\\Users\\shahp\\AppData\\Local\\Temp\\ipykernel_12448\\1027020528.py:10: PerformanceWarning: DataFrame is highly fragmented.  This is usually the result of calling `frame.insert` many times, which has poor performance.  Consider joining all columns at once using pd.concat(axis=1) instead. To get a de-fragmented frame, use `newframe = frame.copy()`\n",
      "  df[f\"{col}_month\"] = df[col].dt.month\n",
      "C:\\Users\\shahp\\AppData\\Local\\Temp\\ipykernel_12448\\1027020528.py:11: PerformanceWarning: DataFrame is highly fragmented.  This is usually the result of calling `frame.insert` many times, which has poor performance.  Consider joining all columns at once using pd.concat(axis=1) instead. To get a de-fragmented frame, use `newframe = frame.copy()`\n",
      "  df[f\"{col}_day\"] = df[col].dt.day\n"
     ]
    },
    {
     "name": "stdout",
     "output_type": "stream",
     "text": [
      "Processed datetime column: PersonalField18\n"
     ]
    },
    {
     "name": "stderr",
     "output_type": "stream",
     "text": [
      "C:\\Users\\shahp\\AppData\\Local\\Temp\\ipykernel_12448\\1027020528.py:4: UserWarning: Could not infer format, so each element will be parsed individually, falling back to `dateutil`. To ensure parsing is consistent and as-expected, please specify a format.\n",
      "  X_train[col] = pd.to_datetime(X_train[col], errors='coerce')\n",
      "C:\\Users\\shahp\\AppData\\Local\\Temp\\ipykernel_12448\\1027020528.py:5: UserWarning: Could not infer format, so each element will be parsed individually, falling back to `dateutil`. To ensure parsing is consistent and as-expected, please specify a format.\n",
      "  X_valid[col] = pd.to_datetime(X_valid[col], errors='coerce')\n",
      "C:\\Users\\shahp\\AppData\\Local\\Temp\\ipykernel_12448\\1027020528.py:6: UserWarning: Could not infer format, so each element will be parsed individually, falling back to `dateutil`. To ensure parsing is consistent and as-expected, please specify a format.\n",
      "  test_data[col] = pd.to_datetime(test_data[col], errors='coerce')\n",
      "C:\\Users\\shahp\\AppData\\Local\\Temp\\ipykernel_12448\\1027020528.py:9: PerformanceWarning: DataFrame is highly fragmented.  This is usually the result of calling `frame.insert` many times, which has poor performance.  Consider joining all columns at once using pd.concat(axis=1) instead. To get a de-fragmented frame, use `newframe = frame.copy()`\n",
      "  df[f\"{col}_year\"] = df[col].dt.year\n",
      "C:\\Users\\shahp\\AppData\\Local\\Temp\\ipykernel_12448\\1027020528.py:10: PerformanceWarning: DataFrame is highly fragmented.  This is usually the result of calling `frame.insert` many times, which has poor performance.  Consider joining all columns at once using pd.concat(axis=1) instead. To get a de-fragmented frame, use `newframe = frame.copy()`\n",
      "  df[f\"{col}_month\"] = df[col].dt.month\n",
      "C:\\Users\\shahp\\AppData\\Local\\Temp\\ipykernel_12448\\1027020528.py:11: PerformanceWarning: DataFrame is highly fragmented.  This is usually the result of calling `frame.insert` many times, which has poor performance.  Consider joining all columns at once using pd.concat(axis=1) instead. To get a de-fragmented frame, use `newframe = frame.copy()`\n",
      "  df[f\"{col}_day\"] = df[col].dt.day\n",
      "C:\\Users\\shahp\\AppData\\Local\\Temp\\ipykernel_12448\\1027020528.py:9: PerformanceWarning: DataFrame is highly fragmented.  This is usually the result of calling `frame.insert` many times, which has poor performance.  Consider joining all columns at once using pd.concat(axis=1) instead. To get a de-fragmented frame, use `newframe = frame.copy()`\n",
      "  df[f\"{col}_year\"] = df[col].dt.year\n",
      "C:\\Users\\shahp\\AppData\\Local\\Temp\\ipykernel_12448\\1027020528.py:10: PerformanceWarning: DataFrame is highly fragmented.  This is usually the result of calling `frame.insert` many times, which has poor performance.  Consider joining all columns at once using pd.concat(axis=1) instead. To get a de-fragmented frame, use `newframe = frame.copy()`\n",
      "  df[f\"{col}_month\"] = df[col].dt.month\n",
      "C:\\Users\\shahp\\AppData\\Local\\Temp\\ipykernel_12448\\1027020528.py:11: PerformanceWarning: DataFrame is highly fragmented.  This is usually the result of calling `frame.insert` many times, which has poor performance.  Consider joining all columns at once using pd.concat(axis=1) instead. To get a de-fragmented frame, use `newframe = frame.copy()`\n",
      "  df[f\"{col}_day\"] = df[col].dt.day\n",
      "C:\\Users\\shahp\\AppData\\Local\\Temp\\ipykernel_12448\\1027020528.py:9: PerformanceWarning: DataFrame is highly fragmented.  This is usually the result of calling `frame.insert` many times, which has poor performance.  Consider joining all columns at once using pd.concat(axis=1) instead. To get a de-fragmented frame, use `newframe = frame.copy()`\n",
      "  df[f\"{col}_year\"] = df[col].dt.year\n",
      "C:\\Users\\shahp\\AppData\\Local\\Temp\\ipykernel_12448\\1027020528.py:10: PerformanceWarning: DataFrame is highly fragmented.  This is usually the result of calling `frame.insert` many times, which has poor performance.  Consider joining all columns at once using pd.concat(axis=1) instead. To get a de-fragmented frame, use `newframe = frame.copy()`\n",
      "  df[f\"{col}_month\"] = df[col].dt.month\n",
      "C:\\Users\\shahp\\AppData\\Local\\Temp\\ipykernel_12448\\1027020528.py:11: PerformanceWarning: DataFrame is highly fragmented.  This is usually the result of calling `frame.insert` many times, which has poor performance.  Consider joining all columns at once using pd.concat(axis=1) instead. To get a de-fragmented frame, use `newframe = frame.copy()`\n",
      "  df[f\"{col}_day\"] = df[col].dt.day\n"
     ]
    },
    {
     "name": "stdout",
     "output_type": "stream",
     "text": [
      "Processed datetime column: PersonalField19\n"
     ]
    },
    {
     "name": "stderr",
     "output_type": "stream",
     "text": [
      "C:\\Users\\shahp\\AppData\\Local\\Temp\\ipykernel_12448\\1027020528.py:4: UserWarning: Could not infer format, so each element will be parsed individually, falling back to `dateutil`. To ensure parsing is consistent and as-expected, please specify a format.\n",
      "  X_train[col] = pd.to_datetime(X_train[col], errors='coerce')\n",
      "C:\\Users\\shahp\\AppData\\Local\\Temp\\ipykernel_12448\\1027020528.py:5: UserWarning: Could not infer format, so each element will be parsed individually, falling back to `dateutil`. To ensure parsing is consistent and as-expected, please specify a format.\n",
      "  X_valid[col] = pd.to_datetime(X_valid[col], errors='coerce')\n",
      "C:\\Users\\shahp\\AppData\\Local\\Temp\\ipykernel_12448\\1027020528.py:6: UserWarning: Could not infer format, so each element will be parsed individually, falling back to `dateutil`. To ensure parsing is consistent and as-expected, please specify a format.\n",
      "  test_data[col] = pd.to_datetime(test_data[col], errors='coerce')\n",
      "C:\\Users\\shahp\\AppData\\Local\\Temp\\ipykernel_12448\\1027020528.py:9: PerformanceWarning: DataFrame is highly fragmented.  This is usually the result of calling `frame.insert` many times, which has poor performance.  Consider joining all columns at once using pd.concat(axis=1) instead. To get a de-fragmented frame, use `newframe = frame.copy()`\n",
      "  df[f\"{col}_year\"] = df[col].dt.year\n",
      "C:\\Users\\shahp\\AppData\\Local\\Temp\\ipykernel_12448\\1027020528.py:10: PerformanceWarning: DataFrame is highly fragmented.  This is usually the result of calling `frame.insert` many times, which has poor performance.  Consider joining all columns at once using pd.concat(axis=1) instead. To get a de-fragmented frame, use `newframe = frame.copy()`\n",
      "  df[f\"{col}_month\"] = df[col].dt.month\n",
      "C:\\Users\\shahp\\AppData\\Local\\Temp\\ipykernel_12448\\1027020528.py:11: PerformanceWarning: DataFrame is highly fragmented.  This is usually the result of calling `frame.insert` many times, which has poor performance.  Consider joining all columns at once using pd.concat(axis=1) instead. To get a de-fragmented frame, use `newframe = frame.copy()`\n",
      "  df[f\"{col}_day\"] = df[col].dt.day\n",
      "C:\\Users\\shahp\\AppData\\Local\\Temp\\ipykernel_12448\\1027020528.py:9: PerformanceWarning: DataFrame is highly fragmented.  This is usually the result of calling `frame.insert` many times, which has poor performance.  Consider joining all columns at once using pd.concat(axis=1) instead. To get a de-fragmented frame, use `newframe = frame.copy()`\n",
      "  df[f\"{col}_year\"] = df[col].dt.year\n",
      "C:\\Users\\shahp\\AppData\\Local\\Temp\\ipykernel_12448\\1027020528.py:10: PerformanceWarning: DataFrame is highly fragmented.  This is usually the result of calling `frame.insert` many times, which has poor performance.  Consider joining all columns at once using pd.concat(axis=1) instead. To get a de-fragmented frame, use `newframe = frame.copy()`\n",
      "  df[f\"{col}_month\"] = df[col].dt.month\n",
      "C:\\Users\\shahp\\AppData\\Local\\Temp\\ipykernel_12448\\1027020528.py:11: PerformanceWarning: DataFrame is highly fragmented.  This is usually the result of calling `frame.insert` many times, which has poor performance.  Consider joining all columns at once using pd.concat(axis=1) instead. To get a de-fragmented frame, use `newframe = frame.copy()`\n",
      "  df[f\"{col}_day\"] = df[col].dt.day\n",
      "C:\\Users\\shahp\\AppData\\Local\\Temp\\ipykernel_12448\\1027020528.py:9: PerformanceWarning: DataFrame is highly fragmented.  This is usually the result of calling `frame.insert` many times, which has poor performance.  Consider joining all columns at once using pd.concat(axis=1) instead. To get a de-fragmented frame, use `newframe = frame.copy()`\n",
      "  df[f\"{col}_year\"] = df[col].dt.year\n",
      "C:\\Users\\shahp\\AppData\\Local\\Temp\\ipykernel_12448\\1027020528.py:10: PerformanceWarning: DataFrame is highly fragmented.  This is usually the result of calling `frame.insert` many times, which has poor performance.  Consider joining all columns at once using pd.concat(axis=1) instead. To get a de-fragmented frame, use `newframe = frame.copy()`\n",
      "  df[f\"{col}_month\"] = df[col].dt.month\n",
      "C:\\Users\\shahp\\AppData\\Local\\Temp\\ipykernel_12448\\1027020528.py:11: PerformanceWarning: DataFrame is highly fragmented.  This is usually the result of calling `frame.insert` many times, which has poor performance.  Consider joining all columns at once using pd.concat(axis=1) instead. To get a de-fragmented frame, use `newframe = frame.copy()`\n",
      "  df[f\"{col}_day\"] = df[col].dt.day\n"
     ]
    },
    {
     "name": "stdout",
     "output_type": "stream",
     "text": [
      "Processed datetime column: PropertyField3\n"
     ]
    },
    {
     "name": "stderr",
     "output_type": "stream",
     "text": [
      "C:\\Users\\shahp\\AppData\\Local\\Temp\\ipykernel_12448\\1027020528.py:4: UserWarning: Could not infer format, so each element will be parsed individually, falling back to `dateutil`. To ensure parsing is consistent and as-expected, please specify a format.\n",
      "  X_train[col] = pd.to_datetime(X_train[col], errors='coerce')\n",
      "C:\\Users\\shahp\\AppData\\Local\\Temp\\ipykernel_12448\\1027020528.py:5: UserWarning: Could not infer format, so each element will be parsed individually, falling back to `dateutil`. To ensure parsing is consistent and as-expected, please specify a format.\n",
      "  X_valid[col] = pd.to_datetime(X_valid[col], errors='coerce')\n",
      "C:\\Users\\shahp\\AppData\\Local\\Temp\\ipykernel_12448\\1027020528.py:6: UserWarning: Could not infer format, so each element will be parsed individually, falling back to `dateutil`. To ensure parsing is consistent and as-expected, please specify a format.\n",
      "  test_data[col] = pd.to_datetime(test_data[col], errors='coerce')\n",
      "C:\\Users\\shahp\\AppData\\Local\\Temp\\ipykernel_12448\\1027020528.py:9: PerformanceWarning: DataFrame is highly fragmented.  This is usually the result of calling `frame.insert` many times, which has poor performance.  Consider joining all columns at once using pd.concat(axis=1) instead. To get a de-fragmented frame, use `newframe = frame.copy()`\n",
      "  df[f\"{col}_year\"] = df[col].dt.year\n",
      "C:\\Users\\shahp\\AppData\\Local\\Temp\\ipykernel_12448\\1027020528.py:10: PerformanceWarning: DataFrame is highly fragmented.  This is usually the result of calling `frame.insert` many times, which has poor performance.  Consider joining all columns at once using pd.concat(axis=1) instead. To get a de-fragmented frame, use `newframe = frame.copy()`\n",
      "  df[f\"{col}_month\"] = df[col].dt.month\n",
      "C:\\Users\\shahp\\AppData\\Local\\Temp\\ipykernel_12448\\1027020528.py:11: PerformanceWarning: DataFrame is highly fragmented.  This is usually the result of calling `frame.insert` many times, which has poor performance.  Consider joining all columns at once using pd.concat(axis=1) instead. To get a de-fragmented frame, use `newframe = frame.copy()`\n",
      "  df[f\"{col}_day\"] = df[col].dt.day\n",
      "C:\\Users\\shahp\\AppData\\Local\\Temp\\ipykernel_12448\\1027020528.py:9: PerformanceWarning: DataFrame is highly fragmented.  This is usually the result of calling `frame.insert` many times, which has poor performance.  Consider joining all columns at once using pd.concat(axis=1) instead. To get a de-fragmented frame, use `newframe = frame.copy()`\n",
      "  df[f\"{col}_year\"] = df[col].dt.year\n",
      "C:\\Users\\shahp\\AppData\\Local\\Temp\\ipykernel_12448\\1027020528.py:10: PerformanceWarning: DataFrame is highly fragmented.  This is usually the result of calling `frame.insert` many times, which has poor performance.  Consider joining all columns at once using pd.concat(axis=1) instead. To get a de-fragmented frame, use `newframe = frame.copy()`\n",
      "  df[f\"{col}_month\"] = df[col].dt.month\n",
      "C:\\Users\\shahp\\AppData\\Local\\Temp\\ipykernel_12448\\1027020528.py:11: PerformanceWarning: DataFrame is highly fragmented.  This is usually the result of calling `frame.insert` many times, which has poor performance.  Consider joining all columns at once using pd.concat(axis=1) instead. To get a de-fragmented frame, use `newframe = frame.copy()`\n",
      "  df[f\"{col}_day\"] = df[col].dt.day\n",
      "C:\\Users\\shahp\\AppData\\Local\\Temp\\ipykernel_12448\\1027020528.py:9: PerformanceWarning: DataFrame is highly fragmented.  This is usually the result of calling `frame.insert` many times, which has poor performance.  Consider joining all columns at once using pd.concat(axis=1) instead. To get a de-fragmented frame, use `newframe = frame.copy()`\n",
      "  df[f\"{col}_year\"] = df[col].dt.year\n",
      "C:\\Users\\shahp\\AppData\\Local\\Temp\\ipykernel_12448\\1027020528.py:10: PerformanceWarning: DataFrame is highly fragmented.  This is usually the result of calling `frame.insert` many times, which has poor performance.  Consider joining all columns at once using pd.concat(axis=1) instead. To get a de-fragmented frame, use `newframe = frame.copy()`\n",
      "  df[f\"{col}_month\"] = df[col].dt.month\n",
      "C:\\Users\\shahp\\AppData\\Local\\Temp\\ipykernel_12448\\1027020528.py:11: PerformanceWarning: DataFrame is highly fragmented.  This is usually the result of calling `frame.insert` many times, which has poor performance.  Consider joining all columns at once using pd.concat(axis=1) instead. To get a de-fragmented frame, use `newframe = frame.copy()`\n",
      "  df[f\"{col}_day\"] = df[col].dt.day\n"
     ]
    },
    {
     "name": "stdout",
     "output_type": "stream",
     "text": [
      "Processed datetime column: PropertyField4\n"
     ]
    },
    {
     "name": "stderr",
     "output_type": "stream",
     "text": [
      "C:\\Users\\shahp\\AppData\\Local\\Temp\\ipykernel_12448\\1027020528.py:4: UserWarning: Could not infer format, so each element will be parsed individually, falling back to `dateutil`. To ensure parsing is consistent and as-expected, please specify a format.\n",
      "  X_train[col] = pd.to_datetime(X_train[col], errors='coerce')\n",
      "C:\\Users\\shahp\\AppData\\Local\\Temp\\ipykernel_12448\\1027020528.py:5: UserWarning: Could not infer format, so each element will be parsed individually, falling back to `dateutil`. To ensure parsing is consistent and as-expected, please specify a format.\n",
      "  X_valid[col] = pd.to_datetime(X_valid[col], errors='coerce')\n",
      "C:\\Users\\shahp\\AppData\\Local\\Temp\\ipykernel_12448\\1027020528.py:6: UserWarning: Could not infer format, so each element will be parsed individually, falling back to `dateutil`. To ensure parsing is consistent and as-expected, please specify a format.\n",
      "  test_data[col] = pd.to_datetime(test_data[col], errors='coerce')\n",
      "C:\\Users\\shahp\\AppData\\Local\\Temp\\ipykernel_12448\\1027020528.py:9: PerformanceWarning: DataFrame is highly fragmented.  This is usually the result of calling `frame.insert` many times, which has poor performance.  Consider joining all columns at once using pd.concat(axis=1) instead. To get a de-fragmented frame, use `newframe = frame.copy()`\n",
      "  df[f\"{col}_year\"] = df[col].dt.year\n",
      "C:\\Users\\shahp\\AppData\\Local\\Temp\\ipykernel_12448\\1027020528.py:10: PerformanceWarning: DataFrame is highly fragmented.  This is usually the result of calling `frame.insert` many times, which has poor performance.  Consider joining all columns at once using pd.concat(axis=1) instead. To get a de-fragmented frame, use `newframe = frame.copy()`\n",
      "  df[f\"{col}_month\"] = df[col].dt.month\n",
      "C:\\Users\\shahp\\AppData\\Local\\Temp\\ipykernel_12448\\1027020528.py:11: PerformanceWarning: DataFrame is highly fragmented.  This is usually the result of calling `frame.insert` many times, which has poor performance.  Consider joining all columns at once using pd.concat(axis=1) instead. To get a de-fragmented frame, use `newframe = frame.copy()`\n",
      "  df[f\"{col}_day\"] = df[col].dt.day\n",
      "C:\\Users\\shahp\\AppData\\Local\\Temp\\ipykernel_12448\\1027020528.py:9: PerformanceWarning: DataFrame is highly fragmented.  This is usually the result of calling `frame.insert` many times, which has poor performance.  Consider joining all columns at once using pd.concat(axis=1) instead. To get a de-fragmented frame, use `newframe = frame.copy()`\n",
      "  df[f\"{col}_year\"] = df[col].dt.year\n",
      "C:\\Users\\shahp\\AppData\\Local\\Temp\\ipykernel_12448\\1027020528.py:10: PerformanceWarning: DataFrame is highly fragmented.  This is usually the result of calling `frame.insert` many times, which has poor performance.  Consider joining all columns at once using pd.concat(axis=1) instead. To get a de-fragmented frame, use `newframe = frame.copy()`\n",
      "  df[f\"{col}_month\"] = df[col].dt.month\n",
      "C:\\Users\\shahp\\AppData\\Local\\Temp\\ipykernel_12448\\1027020528.py:11: PerformanceWarning: DataFrame is highly fragmented.  This is usually the result of calling `frame.insert` many times, which has poor performance.  Consider joining all columns at once using pd.concat(axis=1) instead. To get a de-fragmented frame, use `newframe = frame.copy()`\n",
      "  df[f\"{col}_day\"] = df[col].dt.day\n",
      "C:\\Users\\shahp\\AppData\\Local\\Temp\\ipykernel_12448\\1027020528.py:9: PerformanceWarning: DataFrame is highly fragmented.  This is usually the result of calling `frame.insert` many times, which has poor performance.  Consider joining all columns at once using pd.concat(axis=1) instead. To get a de-fragmented frame, use `newframe = frame.copy()`\n",
      "  df[f\"{col}_year\"] = df[col].dt.year\n",
      "C:\\Users\\shahp\\AppData\\Local\\Temp\\ipykernel_12448\\1027020528.py:10: PerformanceWarning: DataFrame is highly fragmented.  This is usually the result of calling `frame.insert` many times, which has poor performance.  Consider joining all columns at once using pd.concat(axis=1) instead. To get a de-fragmented frame, use `newframe = frame.copy()`\n",
      "  df[f\"{col}_month\"] = df[col].dt.month\n",
      "C:\\Users\\shahp\\AppData\\Local\\Temp\\ipykernel_12448\\1027020528.py:11: PerformanceWarning: DataFrame is highly fragmented.  This is usually the result of calling `frame.insert` many times, which has poor performance.  Consider joining all columns at once using pd.concat(axis=1) instead. To get a de-fragmented frame, use `newframe = frame.copy()`\n",
      "  df[f\"{col}_day\"] = df[col].dt.day\n"
     ]
    },
    {
     "name": "stdout",
     "output_type": "stream",
     "text": [
      "Processed datetime column: PropertyField5\n"
     ]
    },
    {
     "name": "stderr",
     "output_type": "stream",
     "text": [
      "C:\\Users\\shahp\\AppData\\Local\\Temp\\ipykernel_12448\\1027020528.py:4: UserWarning: Could not infer format, so each element will be parsed individually, falling back to `dateutil`. To ensure parsing is consistent and as-expected, please specify a format.\n",
      "  X_train[col] = pd.to_datetime(X_train[col], errors='coerce')\n",
      "C:\\Users\\shahp\\AppData\\Local\\Temp\\ipykernel_12448\\1027020528.py:5: UserWarning: Could not infer format, so each element will be parsed individually, falling back to `dateutil`. To ensure parsing is consistent and as-expected, please specify a format.\n",
      "  X_valid[col] = pd.to_datetime(X_valid[col], errors='coerce')\n",
      "C:\\Users\\shahp\\AppData\\Local\\Temp\\ipykernel_12448\\1027020528.py:6: UserWarning: Could not infer format, so each element will be parsed individually, falling back to `dateutil`. To ensure parsing is consistent and as-expected, please specify a format.\n",
      "  test_data[col] = pd.to_datetime(test_data[col], errors='coerce')\n",
      "C:\\Users\\shahp\\AppData\\Local\\Temp\\ipykernel_12448\\1027020528.py:9: PerformanceWarning: DataFrame is highly fragmented.  This is usually the result of calling `frame.insert` many times, which has poor performance.  Consider joining all columns at once using pd.concat(axis=1) instead. To get a de-fragmented frame, use `newframe = frame.copy()`\n",
      "  df[f\"{col}_year\"] = df[col].dt.year\n",
      "C:\\Users\\shahp\\AppData\\Local\\Temp\\ipykernel_12448\\1027020528.py:10: PerformanceWarning: DataFrame is highly fragmented.  This is usually the result of calling `frame.insert` many times, which has poor performance.  Consider joining all columns at once using pd.concat(axis=1) instead. To get a de-fragmented frame, use `newframe = frame.copy()`\n",
      "  df[f\"{col}_month\"] = df[col].dt.month\n",
      "C:\\Users\\shahp\\AppData\\Local\\Temp\\ipykernel_12448\\1027020528.py:11: PerformanceWarning: DataFrame is highly fragmented.  This is usually the result of calling `frame.insert` many times, which has poor performance.  Consider joining all columns at once using pd.concat(axis=1) instead. To get a de-fragmented frame, use `newframe = frame.copy()`\n",
      "  df[f\"{col}_day\"] = df[col].dt.day\n",
      "C:\\Users\\shahp\\AppData\\Local\\Temp\\ipykernel_12448\\1027020528.py:9: PerformanceWarning: DataFrame is highly fragmented.  This is usually the result of calling `frame.insert` many times, which has poor performance.  Consider joining all columns at once using pd.concat(axis=1) instead. To get a de-fragmented frame, use `newframe = frame.copy()`\n",
      "  df[f\"{col}_year\"] = df[col].dt.year\n",
      "C:\\Users\\shahp\\AppData\\Local\\Temp\\ipykernel_12448\\1027020528.py:10: PerformanceWarning: DataFrame is highly fragmented.  This is usually the result of calling `frame.insert` many times, which has poor performance.  Consider joining all columns at once using pd.concat(axis=1) instead. To get a de-fragmented frame, use `newframe = frame.copy()`\n",
      "  df[f\"{col}_month\"] = df[col].dt.month\n",
      "C:\\Users\\shahp\\AppData\\Local\\Temp\\ipykernel_12448\\1027020528.py:11: PerformanceWarning: DataFrame is highly fragmented.  This is usually the result of calling `frame.insert` many times, which has poor performance.  Consider joining all columns at once using pd.concat(axis=1) instead. To get a de-fragmented frame, use `newframe = frame.copy()`\n",
      "  df[f\"{col}_day\"] = df[col].dt.day\n",
      "C:\\Users\\shahp\\AppData\\Local\\Temp\\ipykernel_12448\\1027020528.py:9: PerformanceWarning: DataFrame is highly fragmented.  This is usually the result of calling `frame.insert` many times, which has poor performance.  Consider joining all columns at once using pd.concat(axis=1) instead. To get a de-fragmented frame, use `newframe = frame.copy()`\n",
      "  df[f\"{col}_year\"] = df[col].dt.year\n",
      "C:\\Users\\shahp\\AppData\\Local\\Temp\\ipykernel_12448\\1027020528.py:10: PerformanceWarning: DataFrame is highly fragmented.  This is usually the result of calling `frame.insert` many times, which has poor performance.  Consider joining all columns at once using pd.concat(axis=1) instead. To get a de-fragmented frame, use `newframe = frame.copy()`\n",
      "  df[f\"{col}_month\"] = df[col].dt.month\n",
      "C:\\Users\\shahp\\AppData\\Local\\Temp\\ipykernel_12448\\1027020528.py:11: PerformanceWarning: DataFrame is highly fragmented.  This is usually the result of calling `frame.insert` many times, which has poor performance.  Consider joining all columns at once using pd.concat(axis=1) instead. To get a de-fragmented frame, use `newframe = frame.copy()`\n",
      "  df[f\"{col}_day\"] = df[col].dt.day\n"
     ]
    },
    {
     "name": "stdout",
     "output_type": "stream",
     "text": [
      "Processed datetime column: PropertyField7\n"
     ]
    },
    {
     "name": "stderr",
     "output_type": "stream",
     "text": [
      "C:\\Users\\shahp\\AppData\\Local\\Temp\\ipykernel_12448\\1027020528.py:4: UserWarning: Could not infer format, so each element will be parsed individually, falling back to `dateutil`. To ensure parsing is consistent and as-expected, please specify a format.\n",
      "  X_train[col] = pd.to_datetime(X_train[col], errors='coerce')\n",
      "C:\\Users\\shahp\\AppData\\Local\\Temp\\ipykernel_12448\\1027020528.py:5: UserWarning: Could not infer format, so each element will be parsed individually, falling back to `dateutil`. To ensure parsing is consistent and as-expected, please specify a format.\n",
      "  X_valid[col] = pd.to_datetime(X_valid[col], errors='coerce')\n",
      "C:\\Users\\shahp\\AppData\\Local\\Temp\\ipykernel_12448\\1027020528.py:6: UserWarning: Could not infer format, so each element will be parsed individually, falling back to `dateutil`. To ensure parsing is consistent and as-expected, please specify a format.\n",
      "  test_data[col] = pd.to_datetime(test_data[col], errors='coerce')\n",
      "C:\\Users\\shahp\\AppData\\Local\\Temp\\ipykernel_12448\\1027020528.py:9: PerformanceWarning: DataFrame is highly fragmented.  This is usually the result of calling `frame.insert` many times, which has poor performance.  Consider joining all columns at once using pd.concat(axis=1) instead. To get a de-fragmented frame, use `newframe = frame.copy()`\n",
      "  df[f\"{col}_year\"] = df[col].dt.year\n",
      "C:\\Users\\shahp\\AppData\\Local\\Temp\\ipykernel_12448\\1027020528.py:10: PerformanceWarning: DataFrame is highly fragmented.  This is usually the result of calling `frame.insert` many times, which has poor performance.  Consider joining all columns at once using pd.concat(axis=1) instead. To get a de-fragmented frame, use `newframe = frame.copy()`\n",
      "  df[f\"{col}_month\"] = df[col].dt.month\n",
      "C:\\Users\\shahp\\AppData\\Local\\Temp\\ipykernel_12448\\1027020528.py:11: PerformanceWarning: DataFrame is highly fragmented.  This is usually the result of calling `frame.insert` many times, which has poor performance.  Consider joining all columns at once using pd.concat(axis=1) instead. To get a de-fragmented frame, use `newframe = frame.copy()`\n",
      "  df[f\"{col}_day\"] = df[col].dt.day\n",
      "C:\\Users\\shahp\\AppData\\Local\\Temp\\ipykernel_12448\\1027020528.py:9: PerformanceWarning: DataFrame is highly fragmented.  This is usually the result of calling `frame.insert` many times, which has poor performance.  Consider joining all columns at once using pd.concat(axis=1) instead. To get a de-fragmented frame, use `newframe = frame.copy()`\n",
      "  df[f\"{col}_year\"] = df[col].dt.year\n",
      "C:\\Users\\shahp\\AppData\\Local\\Temp\\ipykernel_12448\\1027020528.py:10: PerformanceWarning: DataFrame is highly fragmented.  This is usually the result of calling `frame.insert` many times, which has poor performance.  Consider joining all columns at once using pd.concat(axis=1) instead. To get a de-fragmented frame, use `newframe = frame.copy()`\n",
      "  df[f\"{col}_month\"] = df[col].dt.month\n",
      "C:\\Users\\shahp\\AppData\\Local\\Temp\\ipykernel_12448\\1027020528.py:11: PerformanceWarning: DataFrame is highly fragmented.  This is usually the result of calling `frame.insert` many times, which has poor performance.  Consider joining all columns at once using pd.concat(axis=1) instead. To get a de-fragmented frame, use `newframe = frame.copy()`\n",
      "  df[f\"{col}_day\"] = df[col].dt.day\n",
      "C:\\Users\\shahp\\AppData\\Local\\Temp\\ipykernel_12448\\1027020528.py:9: PerformanceWarning: DataFrame is highly fragmented.  This is usually the result of calling `frame.insert` many times, which has poor performance.  Consider joining all columns at once using pd.concat(axis=1) instead. To get a de-fragmented frame, use `newframe = frame.copy()`\n",
      "  df[f\"{col}_year\"] = df[col].dt.year\n",
      "C:\\Users\\shahp\\AppData\\Local\\Temp\\ipykernel_12448\\1027020528.py:10: PerformanceWarning: DataFrame is highly fragmented.  This is usually the result of calling `frame.insert` many times, which has poor performance.  Consider joining all columns at once using pd.concat(axis=1) instead. To get a de-fragmented frame, use `newframe = frame.copy()`\n",
      "  df[f\"{col}_month\"] = df[col].dt.month\n",
      "C:\\Users\\shahp\\AppData\\Local\\Temp\\ipykernel_12448\\1027020528.py:11: PerformanceWarning: DataFrame is highly fragmented.  This is usually the result of calling `frame.insert` many times, which has poor performance.  Consider joining all columns at once using pd.concat(axis=1) instead. To get a de-fragmented frame, use `newframe = frame.copy()`\n",
      "  df[f\"{col}_day\"] = df[col].dt.day\n"
     ]
    },
    {
     "name": "stdout",
     "output_type": "stream",
     "text": [
      "Processed datetime column: PropertyField14\n"
     ]
    },
    {
     "name": "stderr",
     "output_type": "stream",
     "text": [
      "C:\\Users\\shahp\\AppData\\Local\\Temp\\ipykernel_12448\\1027020528.py:4: UserWarning: Could not infer format, so each element will be parsed individually, falling back to `dateutil`. To ensure parsing is consistent and as-expected, please specify a format.\n",
      "  X_train[col] = pd.to_datetime(X_train[col], errors='coerce')\n",
      "C:\\Users\\shahp\\AppData\\Local\\Temp\\ipykernel_12448\\1027020528.py:5: UserWarning: Could not infer format, so each element will be parsed individually, falling back to `dateutil`. To ensure parsing is consistent and as-expected, please specify a format.\n",
      "  X_valid[col] = pd.to_datetime(X_valid[col], errors='coerce')\n",
      "C:\\Users\\shahp\\AppData\\Local\\Temp\\ipykernel_12448\\1027020528.py:6: UserWarning: Could not infer format, so each element will be parsed individually, falling back to `dateutil`. To ensure parsing is consistent and as-expected, please specify a format.\n",
      "  test_data[col] = pd.to_datetime(test_data[col], errors='coerce')\n",
      "C:\\Users\\shahp\\AppData\\Local\\Temp\\ipykernel_12448\\1027020528.py:9: PerformanceWarning: DataFrame is highly fragmented.  This is usually the result of calling `frame.insert` many times, which has poor performance.  Consider joining all columns at once using pd.concat(axis=1) instead. To get a de-fragmented frame, use `newframe = frame.copy()`\n",
      "  df[f\"{col}_year\"] = df[col].dt.year\n",
      "C:\\Users\\shahp\\AppData\\Local\\Temp\\ipykernel_12448\\1027020528.py:10: PerformanceWarning: DataFrame is highly fragmented.  This is usually the result of calling `frame.insert` many times, which has poor performance.  Consider joining all columns at once using pd.concat(axis=1) instead. To get a de-fragmented frame, use `newframe = frame.copy()`\n",
      "  df[f\"{col}_month\"] = df[col].dt.month\n",
      "C:\\Users\\shahp\\AppData\\Local\\Temp\\ipykernel_12448\\1027020528.py:11: PerformanceWarning: DataFrame is highly fragmented.  This is usually the result of calling `frame.insert` many times, which has poor performance.  Consider joining all columns at once using pd.concat(axis=1) instead. To get a de-fragmented frame, use `newframe = frame.copy()`\n",
      "  df[f\"{col}_day\"] = df[col].dt.day\n",
      "C:\\Users\\shahp\\AppData\\Local\\Temp\\ipykernel_12448\\1027020528.py:9: PerformanceWarning: DataFrame is highly fragmented.  This is usually the result of calling `frame.insert` many times, which has poor performance.  Consider joining all columns at once using pd.concat(axis=1) instead. To get a de-fragmented frame, use `newframe = frame.copy()`\n",
      "  df[f\"{col}_year\"] = df[col].dt.year\n",
      "C:\\Users\\shahp\\AppData\\Local\\Temp\\ipykernel_12448\\1027020528.py:10: PerformanceWarning: DataFrame is highly fragmented.  This is usually the result of calling `frame.insert` many times, which has poor performance.  Consider joining all columns at once using pd.concat(axis=1) instead. To get a de-fragmented frame, use `newframe = frame.copy()`\n",
      "  df[f\"{col}_month\"] = df[col].dt.month\n",
      "C:\\Users\\shahp\\AppData\\Local\\Temp\\ipykernel_12448\\1027020528.py:11: PerformanceWarning: DataFrame is highly fragmented.  This is usually the result of calling `frame.insert` many times, which has poor performance.  Consider joining all columns at once using pd.concat(axis=1) instead. To get a de-fragmented frame, use `newframe = frame.copy()`\n",
      "  df[f\"{col}_day\"] = df[col].dt.day\n",
      "C:\\Users\\shahp\\AppData\\Local\\Temp\\ipykernel_12448\\1027020528.py:9: PerformanceWarning: DataFrame is highly fragmented.  This is usually the result of calling `frame.insert` many times, which has poor performance.  Consider joining all columns at once using pd.concat(axis=1) instead. To get a de-fragmented frame, use `newframe = frame.copy()`\n",
      "  df[f\"{col}_year\"] = df[col].dt.year\n",
      "C:\\Users\\shahp\\AppData\\Local\\Temp\\ipykernel_12448\\1027020528.py:10: PerformanceWarning: DataFrame is highly fragmented.  This is usually the result of calling `frame.insert` many times, which has poor performance.  Consider joining all columns at once using pd.concat(axis=1) instead. To get a de-fragmented frame, use `newframe = frame.copy()`\n",
      "  df[f\"{col}_month\"] = df[col].dt.month\n",
      "C:\\Users\\shahp\\AppData\\Local\\Temp\\ipykernel_12448\\1027020528.py:11: PerformanceWarning: DataFrame is highly fragmented.  This is usually the result of calling `frame.insert` many times, which has poor performance.  Consider joining all columns at once using pd.concat(axis=1) instead. To get a de-fragmented frame, use `newframe = frame.copy()`\n",
      "  df[f\"{col}_day\"] = df[col].dt.day\n"
     ]
    },
    {
     "name": "stdout",
     "output_type": "stream",
     "text": [
      "Processed datetime column: PropertyField28\n"
     ]
    },
    {
     "name": "stderr",
     "output_type": "stream",
     "text": [
      "C:\\Users\\shahp\\AppData\\Local\\Temp\\ipykernel_12448\\1027020528.py:4: UserWarning: Could not infer format, so each element will be parsed individually, falling back to `dateutil`. To ensure parsing is consistent and as-expected, please specify a format.\n",
      "  X_train[col] = pd.to_datetime(X_train[col], errors='coerce')\n",
      "C:\\Users\\shahp\\AppData\\Local\\Temp\\ipykernel_12448\\1027020528.py:5: UserWarning: Could not infer format, so each element will be parsed individually, falling back to `dateutil`. To ensure parsing is consistent and as-expected, please specify a format.\n",
      "  X_valid[col] = pd.to_datetime(X_valid[col], errors='coerce')\n",
      "C:\\Users\\shahp\\AppData\\Local\\Temp\\ipykernel_12448\\1027020528.py:6: UserWarning: Could not infer format, so each element will be parsed individually, falling back to `dateutil`. To ensure parsing is consistent and as-expected, please specify a format.\n",
      "  test_data[col] = pd.to_datetime(test_data[col], errors='coerce')\n",
      "C:\\Users\\shahp\\AppData\\Local\\Temp\\ipykernel_12448\\1027020528.py:9: PerformanceWarning: DataFrame is highly fragmented.  This is usually the result of calling `frame.insert` many times, which has poor performance.  Consider joining all columns at once using pd.concat(axis=1) instead. To get a de-fragmented frame, use `newframe = frame.copy()`\n",
      "  df[f\"{col}_year\"] = df[col].dt.year\n",
      "C:\\Users\\shahp\\AppData\\Local\\Temp\\ipykernel_12448\\1027020528.py:10: PerformanceWarning: DataFrame is highly fragmented.  This is usually the result of calling `frame.insert` many times, which has poor performance.  Consider joining all columns at once using pd.concat(axis=1) instead. To get a de-fragmented frame, use `newframe = frame.copy()`\n",
      "  df[f\"{col}_month\"] = df[col].dt.month\n",
      "C:\\Users\\shahp\\AppData\\Local\\Temp\\ipykernel_12448\\1027020528.py:11: PerformanceWarning: DataFrame is highly fragmented.  This is usually the result of calling `frame.insert` many times, which has poor performance.  Consider joining all columns at once using pd.concat(axis=1) instead. To get a de-fragmented frame, use `newframe = frame.copy()`\n",
      "  df[f\"{col}_day\"] = df[col].dt.day\n",
      "C:\\Users\\shahp\\AppData\\Local\\Temp\\ipykernel_12448\\1027020528.py:9: PerformanceWarning: DataFrame is highly fragmented.  This is usually the result of calling `frame.insert` many times, which has poor performance.  Consider joining all columns at once using pd.concat(axis=1) instead. To get a de-fragmented frame, use `newframe = frame.copy()`\n",
      "  df[f\"{col}_year\"] = df[col].dt.year\n",
      "C:\\Users\\shahp\\AppData\\Local\\Temp\\ipykernel_12448\\1027020528.py:10: PerformanceWarning: DataFrame is highly fragmented.  This is usually the result of calling `frame.insert` many times, which has poor performance.  Consider joining all columns at once using pd.concat(axis=1) instead. To get a de-fragmented frame, use `newframe = frame.copy()`\n",
      "  df[f\"{col}_month\"] = df[col].dt.month\n",
      "C:\\Users\\shahp\\AppData\\Local\\Temp\\ipykernel_12448\\1027020528.py:11: PerformanceWarning: DataFrame is highly fragmented.  This is usually the result of calling `frame.insert` many times, which has poor performance.  Consider joining all columns at once using pd.concat(axis=1) instead. To get a de-fragmented frame, use `newframe = frame.copy()`\n",
      "  df[f\"{col}_day\"] = df[col].dt.day\n",
      "C:\\Users\\shahp\\AppData\\Local\\Temp\\ipykernel_12448\\1027020528.py:9: PerformanceWarning: DataFrame is highly fragmented.  This is usually the result of calling `frame.insert` many times, which has poor performance.  Consider joining all columns at once using pd.concat(axis=1) instead. To get a de-fragmented frame, use `newframe = frame.copy()`\n",
      "  df[f\"{col}_year\"] = df[col].dt.year\n",
      "C:\\Users\\shahp\\AppData\\Local\\Temp\\ipykernel_12448\\1027020528.py:10: PerformanceWarning: DataFrame is highly fragmented.  This is usually the result of calling `frame.insert` many times, which has poor performance.  Consider joining all columns at once using pd.concat(axis=1) instead. To get a de-fragmented frame, use `newframe = frame.copy()`\n",
      "  df[f\"{col}_month\"] = df[col].dt.month\n",
      "C:\\Users\\shahp\\AppData\\Local\\Temp\\ipykernel_12448\\1027020528.py:11: PerformanceWarning: DataFrame is highly fragmented.  This is usually the result of calling `frame.insert` many times, which has poor performance.  Consider joining all columns at once using pd.concat(axis=1) instead. To get a de-fragmented frame, use `newframe = frame.copy()`\n",
      "  df[f\"{col}_day\"] = df[col].dt.day\n"
     ]
    },
    {
     "name": "stdout",
     "output_type": "stream",
     "text": [
      "Processed datetime column: PropertyField30\n"
     ]
    },
    {
     "name": "stderr",
     "output_type": "stream",
     "text": [
      "C:\\Users\\shahp\\AppData\\Local\\Temp\\ipykernel_12448\\1027020528.py:4: UserWarning: Could not infer format, so each element will be parsed individually, falling back to `dateutil`. To ensure parsing is consistent and as-expected, please specify a format.\n",
      "  X_train[col] = pd.to_datetime(X_train[col], errors='coerce')\n",
      "C:\\Users\\shahp\\AppData\\Local\\Temp\\ipykernel_12448\\1027020528.py:5: UserWarning: Could not infer format, so each element will be parsed individually, falling back to `dateutil`. To ensure parsing is consistent and as-expected, please specify a format.\n",
      "  X_valid[col] = pd.to_datetime(X_valid[col], errors='coerce')\n",
      "C:\\Users\\shahp\\AppData\\Local\\Temp\\ipykernel_12448\\1027020528.py:6: UserWarning: Could not infer format, so each element will be parsed individually, falling back to `dateutil`. To ensure parsing is consistent and as-expected, please specify a format.\n",
      "  test_data[col] = pd.to_datetime(test_data[col], errors='coerce')\n",
      "C:\\Users\\shahp\\AppData\\Local\\Temp\\ipykernel_12448\\1027020528.py:9: PerformanceWarning: DataFrame is highly fragmented.  This is usually the result of calling `frame.insert` many times, which has poor performance.  Consider joining all columns at once using pd.concat(axis=1) instead. To get a de-fragmented frame, use `newframe = frame.copy()`\n",
      "  df[f\"{col}_year\"] = df[col].dt.year\n",
      "C:\\Users\\shahp\\AppData\\Local\\Temp\\ipykernel_12448\\1027020528.py:10: PerformanceWarning: DataFrame is highly fragmented.  This is usually the result of calling `frame.insert` many times, which has poor performance.  Consider joining all columns at once using pd.concat(axis=1) instead. To get a de-fragmented frame, use `newframe = frame.copy()`\n",
      "  df[f\"{col}_month\"] = df[col].dt.month\n",
      "C:\\Users\\shahp\\AppData\\Local\\Temp\\ipykernel_12448\\1027020528.py:11: PerformanceWarning: DataFrame is highly fragmented.  This is usually the result of calling `frame.insert` many times, which has poor performance.  Consider joining all columns at once using pd.concat(axis=1) instead. To get a de-fragmented frame, use `newframe = frame.copy()`\n",
      "  df[f\"{col}_day\"] = df[col].dt.day\n",
      "C:\\Users\\shahp\\AppData\\Local\\Temp\\ipykernel_12448\\1027020528.py:9: PerformanceWarning: DataFrame is highly fragmented.  This is usually the result of calling `frame.insert` many times, which has poor performance.  Consider joining all columns at once using pd.concat(axis=1) instead. To get a de-fragmented frame, use `newframe = frame.copy()`\n",
      "  df[f\"{col}_year\"] = df[col].dt.year\n",
      "C:\\Users\\shahp\\AppData\\Local\\Temp\\ipykernel_12448\\1027020528.py:10: PerformanceWarning: DataFrame is highly fragmented.  This is usually the result of calling `frame.insert` many times, which has poor performance.  Consider joining all columns at once using pd.concat(axis=1) instead. To get a de-fragmented frame, use `newframe = frame.copy()`\n",
      "  df[f\"{col}_month\"] = df[col].dt.month\n",
      "C:\\Users\\shahp\\AppData\\Local\\Temp\\ipykernel_12448\\1027020528.py:11: PerformanceWarning: DataFrame is highly fragmented.  This is usually the result of calling `frame.insert` many times, which has poor performance.  Consider joining all columns at once using pd.concat(axis=1) instead. To get a de-fragmented frame, use `newframe = frame.copy()`\n",
      "  df[f\"{col}_day\"] = df[col].dt.day\n",
      "C:\\Users\\shahp\\AppData\\Local\\Temp\\ipykernel_12448\\1027020528.py:9: PerformanceWarning: DataFrame is highly fragmented.  This is usually the result of calling `frame.insert` many times, which has poor performance.  Consider joining all columns at once using pd.concat(axis=1) instead. To get a de-fragmented frame, use `newframe = frame.copy()`\n",
      "  df[f\"{col}_year\"] = df[col].dt.year\n",
      "C:\\Users\\shahp\\AppData\\Local\\Temp\\ipykernel_12448\\1027020528.py:10: PerformanceWarning: DataFrame is highly fragmented.  This is usually the result of calling `frame.insert` many times, which has poor performance.  Consider joining all columns at once using pd.concat(axis=1) instead. To get a de-fragmented frame, use `newframe = frame.copy()`\n",
      "  df[f\"{col}_month\"] = df[col].dt.month\n",
      "C:\\Users\\shahp\\AppData\\Local\\Temp\\ipykernel_12448\\1027020528.py:11: PerformanceWarning: DataFrame is highly fragmented.  This is usually the result of calling `frame.insert` many times, which has poor performance.  Consider joining all columns at once using pd.concat(axis=1) instead. To get a de-fragmented frame, use `newframe = frame.copy()`\n",
      "  df[f\"{col}_day\"] = df[col].dt.day\n"
     ]
    },
    {
     "name": "stdout",
     "output_type": "stream",
     "text": [
      "Processed datetime column: PropertyField31\n"
     ]
    },
    {
     "name": "stderr",
     "output_type": "stream",
     "text": [
      "C:\\Users\\shahp\\AppData\\Local\\Temp\\ipykernel_12448\\1027020528.py:4: UserWarning: Could not infer format, so each element will be parsed individually, falling back to `dateutil`. To ensure parsing is consistent and as-expected, please specify a format.\n",
      "  X_train[col] = pd.to_datetime(X_train[col], errors='coerce')\n",
      "C:\\Users\\shahp\\AppData\\Local\\Temp\\ipykernel_12448\\1027020528.py:5: UserWarning: Could not infer format, so each element will be parsed individually, falling back to `dateutil`. To ensure parsing is consistent and as-expected, please specify a format.\n",
      "  X_valid[col] = pd.to_datetime(X_valid[col], errors='coerce')\n",
      "C:\\Users\\shahp\\AppData\\Local\\Temp\\ipykernel_12448\\1027020528.py:6: UserWarning: Could not infer format, so each element will be parsed individually, falling back to `dateutil`. To ensure parsing is consistent and as-expected, please specify a format.\n",
      "  test_data[col] = pd.to_datetime(test_data[col], errors='coerce')\n",
      "C:\\Users\\shahp\\AppData\\Local\\Temp\\ipykernel_12448\\1027020528.py:9: PerformanceWarning: DataFrame is highly fragmented.  This is usually the result of calling `frame.insert` many times, which has poor performance.  Consider joining all columns at once using pd.concat(axis=1) instead. To get a de-fragmented frame, use `newframe = frame.copy()`\n",
      "  df[f\"{col}_year\"] = df[col].dt.year\n",
      "C:\\Users\\shahp\\AppData\\Local\\Temp\\ipykernel_12448\\1027020528.py:10: PerformanceWarning: DataFrame is highly fragmented.  This is usually the result of calling `frame.insert` many times, which has poor performance.  Consider joining all columns at once using pd.concat(axis=1) instead. To get a de-fragmented frame, use `newframe = frame.copy()`\n",
      "  df[f\"{col}_month\"] = df[col].dt.month\n",
      "C:\\Users\\shahp\\AppData\\Local\\Temp\\ipykernel_12448\\1027020528.py:11: PerformanceWarning: DataFrame is highly fragmented.  This is usually the result of calling `frame.insert` many times, which has poor performance.  Consider joining all columns at once using pd.concat(axis=1) instead. To get a de-fragmented frame, use `newframe = frame.copy()`\n",
      "  df[f\"{col}_day\"] = df[col].dt.day\n",
      "C:\\Users\\shahp\\AppData\\Local\\Temp\\ipykernel_12448\\1027020528.py:9: PerformanceWarning: DataFrame is highly fragmented.  This is usually the result of calling `frame.insert` many times, which has poor performance.  Consider joining all columns at once using pd.concat(axis=1) instead. To get a de-fragmented frame, use `newframe = frame.copy()`\n",
      "  df[f\"{col}_year\"] = df[col].dt.year\n",
      "C:\\Users\\shahp\\AppData\\Local\\Temp\\ipykernel_12448\\1027020528.py:10: PerformanceWarning: DataFrame is highly fragmented.  This is usually the result of calling `frame.insert` many times, which has poor performance.  Consider joining all columns at once using pd.concat(axis=1) instead. To get a de-fragmented frame, use `newframe = frame.copy()`\n",
      "  df[f\"{col}_month\"] = df[col].dt.month\n",
      "C:\\Users\\shahp\\AppData\\Local\\Temp\\ipykernel_12448\\1027020528.py:11: PerformanceWarning: DataFrame is highly fragmented.  This is usually the result of calling `frame.insert` many times, which has poor performance.  Consider joining all columns at once using pd.concat(axis=1) instead. To get a de-fragmented frame, use `newframe = frame.copy()`\n",
      "  df[f\"{col}_day\"] = df[col].dt.day\n",
      "C:\\Users\\shahp\\AppData\\Local\\Temp\\ipykernel_12448\\1027020528.py:9: PerformanceWarning: DataFrame is highly fragmented.  This is usually the result of calling `frame.insert` many times, which has poor performance.  Consider joining all columns at once using pd.concat(axis=1) instead. To get a de-fragmented frame, use `newframe = frame.copy()`\n",
      "  df[f\"{col}_year\"] = df[col].dt.year\n",
      "C:\\Users\\shahp\\AppData\\Local\\Temp\\ipykernel_12448\\1027020528.py:10: PerformanceWarning: DataFrame is highly fragmented.  This is usually the result of calling `frame.insert` many times, which has poor performance.  Consider joining all columns at once using pd.concat(axis=1) instead. To get a de-fragmented frame, use `newframe = frame.copy()`\n",
      "  df[f\"{col}_month\"] = df[col].dt.month\n",
      "C:\\Users\\shahp\\AppData\\Local\\Temp\\ipykernel_12448\\1027020528.py:11: PerformanceWarning: DataFrame is highly fragmented.  This is usually the result of calling `frame.insert` many times, which has poor performance.  Consider joining all columns at once using pd.concat(axis=1) instead. To get a de-fragmented frame, use `newframe = frame.copy()`\n",
      "  df[f\"{col}_day\"] = df[col].dt.day\n"
     ]
    },
    {
     "name": "stdout",
     "output_type": "stream",
     "text": [
      "Processed datetime column: PropertyField32\n"
     ]
    },
    {
     "name": "stderr",
     "output_type": "stream",
     "text": [
      "C:\\Users\\shahp\\AppData\\Local\\Temp\\ipykernel_12448\\1027020528.py:4: UserWarning: Could not infer format, so each element will be parsed individually, falling back to `dateutil`. To ensure parsing is consistent and as-expected, please specify a format.\n",
      "  X_train[col] = pd.to_datetime(X_train[col], errors='coerce')\n",
      "C:\\Users\\shahp\\AppData\\Local\\Temp\\ipykernel_12448\\1027020528.py:5: UserWarning: Could not infer format, so each element will be parsed individually, falling back to `dateutil`. To ensure parsing is consistent and as-expected, please specify a format.\n",
      "  X_valid[col] = pd.to_datetime(X_valid[col], errors='coerce')\n",
      "C:\\Users\\shahp\\AppData\\Local\\Temp\\ipykernel_12448\\1027020528.py:6: UserWarning: Could not infer format, so each element will be parsed individually, falling back to `dateutil`. To ensure parsing is consistent and as-expected, please specify a format.\n",
      "  test_data[col] = pd.to_datetime(test_data[col], errors='coerce')\n",
      "C:\\Users\\shahp\\AppData\\Local\\Temp\\ipykernel_12448\\1027020528.py:9: PerformanceWarning: DataFrame is highly fragmented.  This is usually the result of calling `frame.insert` many times, which has poor performance.  Consider joining all columns at once using pd.concat(axis=1) instead. To get a de-fragmented frame, use `newframe = frame.copy()`\n",
      "  df[f\"{col}_year\"] = df[col].dt.year\n",
      "C:\\Users\\shahp\\AppData\\Local\\Temp\\ipykernel_12448\\1027020528.py:10: PerformanceWarning: DataFrame is highly fragmented.  This is usually the result of calling `frame.insert` many times, which has poor performance.  Consider joining all columns at once using pd.concat(axis=1) instead. To get a de-fragmented frame, use `newframe = frame.copy()`\n",
      "  df[f\"{col}_month\"] = df[col].dt.month\n",
      "C:\\Users\\shahp\\AppData\\Local\\Temp\\ipykernel_12448\\1027020528.py:11: PerformanceWarning: DataFrame is highly fragmented.  This is usually the result of calling `frame.insert` many times, which has poor performance.  Consider joining all columns at once using pd.concat(axis=1) instead. To get a de-fragmented frame, use `newframe = frame.copy()`\n",
      "  df[f\"{col}_day\"] = df[col].dt.day\n",
      "C:\\Users\\shahp\\AppData\\Local\\Temp\\ipykernel_12448\\1027020528.py:9: PerformanceWarning: DataFrame is highly fragmented.  This is usually the result of calling `frame.insert` many times, which has poor performance.  Consider joining all columns at once using pd.concat(axis=1) instead. To get a de-fragmented frame, use `newframe = frame.copy()`\n",
      "  df[f\"{col}_year\"] = df[col].dt.year\n",
      "C:\\Users\\shahp\\AppData\\Local\\Temp\\ipykernel_12448\\1027020528.py:10: PerformanceWarning: DataFrame is highly fragmented.  This is usually the result of calling `frame.insert` many times, which has poor performance.  Consider joining all columns at once using pd.concat(axis=1) instead. To get a de-fragmented frame, use `newframe = frame.copy()`\n",
      "  df[f\"{col}_month\"] = df[col].dt.month\n",
      "C:\\Users\\shahp\\AppData\\Local\\Temp\\ipykernel_12448\\1027020528.py:11: PerformanceWarning: DataFrame is highly fragmented.  This is usually the result of calling `frame.insert` many times, which has poor performance.  Consider joining all columns at once using pd.concat(axis=1) instead. To get a de-fragmented frame, use `newframe = frame.copy()`\n",
      "  df[f\"{col}_day\"] = df[col].dt.day\n",
      "C:\\Users\\shahp\\AppData\\Local\\Temp\\ipykernel_12448\\1027020528.py:9: PerformanceWarning: DataFrame is highly fragmented.  This is usually the result of calling `frame.insert` many times, which has poor performance.  Consider joining all columns at once using pd.concat(axis=1) instead. To get a de-fragmented frame, use `newframe = frame.copy()`\n",
      "  df[f\"{col}_year\"] = df[col].dt.year\n",
      "C:\\Users\\shahp\\AppData\\Local\\Temp\\ipykernel_12448\\1027020528.py:10: PerformanceWarning: DataFrame is highly fragmented.  This is usually the result of calling `frame.insert` many times, which has poor performance.  Consider joining all columns at once using pd.concat(axis=1) instead. To get a de-fragmented frame, use `newframe = frame.copy()`\n",
      "  df[f\"{col}_month\"] = df[col].dt.month\n",
      "C:\\Users\\shahp\\AppData\\Local\\Temp\\ipykernel_12448\\1027020528.py:11: PerformanceWarning: DataFrame is highly fragmented.  This is usually the result of calling `frame.insert` many times, which has poor performance.  Consider joining all columns at once using pd.concat(axis=1) instead. To get a de-fragmented frame, use `newframe = frame.copy()`\n",
      "  df[f\"{col}_day\"] = df[col].dt.day\n"
     ]
    },
    {
     "name": "stdout",
     "output_type": "stream",
     "text": [
      "Processed datetime column: PropertyField33\n"
     ]
    },
    {
     "name": "stderr",
     "output_type": "stream",
     "text": [
      "C:\\Users\\shahp\\AppData\\Local\\Temp\\ipykernel_12448\\1027020528.py:4: UserWarning: Could not infer format, so each element will be parsed individually, falling back to `dateutil`. To ensure parsing is consistent and as-expected, please specify a format.\n",
      "  X_train[col] = pd.to_datetime(X_train[col], errors='coerce')\n",
      "C:\\Users\\shahp\\AppData\\Local\\Temp\\ipykernel_12448\\1027020528.py:5: UserWarning: Could not infer format, so each element will be parsed individually, falling back to `dateutil`. To ensure parsing is consistent and as-expected, please specify a format.\n",
      "  X_valid[col] = pd.to_datetime(X_valid[col], errors='coerce')\n",
      "C:\\Users\\shahp\\AppData\\Local\\Temp\\ipykernel_12448\\1027020528.py:6: UserWarning: Could not infer format, so each element will be parsed individually, falling back to `dateutil`. To ensure parsing is consistent and as-expected, please specify a format.\n",
      "  test_data[col] = pd.to_datetime(test_data[col], errors='coerce')\n",
      "C:\\Users\\shahp\\AppData\\Local\\Temp\\ipykernel_12448\\1027020528.py:9: PerformanceWarning: DataFrame is highly fragmented.  This is usually the result of calling `frame.insert` many times, which has poor performance.  Consider joining all columns at once using pd.concat(axis=1) instead. To get a de-fragmented frame, use `newframe = frame.copy()`\n",
      "  df[f\"{col}_year\"] = df[col].dt.year\n",
      "C:\\Users\\shahp\\AppData\\Local\\Temp\\ipykernel_12448\\1027020528.py:10: PerformanceWarning: DataFrame is highly fragmented.  This is usually the result of calling `frame.insert` many times, which has poor performance.  Consider joining all columns at once using pd.concat(axis=1) instead. To get a de-fragmented frame, use `newframe = frame.copy()`\n",
      "  df[f\"{col}_month\"] = df[col].dt.month\n",
      "C:\\Users\\shahp\\AppData\\Local\\Temp\\ipykernel_12448\\1027020528.py:11: PerformanceWarning: DataFrame is highly fragmented.  This is usually the result of calling `frame.insert` many times, which has poor performance.  Consider joining all columns at once using pd.concat(axis=1) instead. To get a de-fragmented frame, use `newframe = frame.copy()`\n",
      "  df[f\"{col}_day\"] = df[col].dt.day\n",
      "C:\\Users\\shahp\\AppData\\Local\\Temp\\ipykernel_12448\\1027020528.py:9: PerformanceWarning: DataFrame is highly fragmented.  This is usually the result of calling `frame.insert` many times, which has poor performance.  Consider joining all columns at once using pd.concat(axis=1) instead. To get a de-fragmented frame, use `newframe = frame.copy()`\n",
      "  df[f\"{col}_year\"] = df[col].dt.year\n",
      "C:\\Users\\shahp\\AppData\\Local\\Temp\\ipykernel_12448\\1027020528.py:10: PerformanceWarning: DataFrame is highly fragmented.  This is usually the result of calling `frame.insert` many times, which has poor performance.  Consider joining all columns at once using pd.concat(axis=1) instead. To get a de-fragmented frame, use `newframe = frame.copy()`\n",
      "  df[f\"{col}_month\"] = df[col].dt.month\n",
      "C:\\Users\\shahp\\AppData\\Local\\Temp\\ipykernel_12448\\1027020528.py:11: PerformanceWarning: DataFrame is highly fragmented.  This is usually the result of calling `frame.insert` many times, which has poor performance.  Consider joining all columns at once using pd.concat(axis=1) instead. To get a de-fragmented frame, use `newframe = frame.copy()`\n",
      "  df[f\"{col}_day\"] = df[col].dt.day\n",
      "C:\\Users\\shahp\\AppData\\Local\\Temp\\ipykernel_12448\\1027020528.py:9: PerformanceWarning: DataFrame is highly fragmented.  This is usually the result of calling `frame.insert` many times, which has poor performance.  Consider joining all columns at once using pd.concat(axis=1) instead. To get a de-fragmented frame, use `newframe = frame.copy()`\n",
      "  df[f\"{col}_year\"] = df[col].dt.year\n",
      "C:\\Users\\shahp\\AppData\\Local\\Temp\\ipykernel_12448\\1027020528.py:10: PerformanceWarning: DataFrame is highly fragmented.  This is usually the result of calling `frame.insert` many times, which has poor performance.  Consider joining all columns at once using pd.concat(axis=1) instead. To get a de-fragmented frame, use `newframe = frame.copy()`\n",
      "  df[f\"{col}_month\"] = df[col].dt.month\n",
      "C:\\Users\\shahp\\AppData\\Local\\Temp\\ipykernel_12448\\1027020528.py:11: PerformanceWarning: DataFrame is highly fragmented.  This is usually the result of calling `frame.insert` many times, which has poor performance.  Consider joining all columns at once using pd.concat(axis=1) instead. To get a de-fragmented frame, use `newframe = frame.copy()`\n",
      "  df[f\"{col}_day\"] = df[col].dt.day\n"
     ]
    },
    {
     "name": "stdout",
     "output_type": "stream",
     "text": [
      "Processed datetime column: PropertyField34\n"
     ]
    },
    {
     "name": "stderr",
     "output_type": "stream",
     "text": [
      "C:\\Users\\shahp\\AppData\\Local\\Temp\\ipykernel_12448\\1027020528.py:4: UserWarning: Could not infer format, so each element will be parsed individually, falling back to `dateutil`. To ensure parsing is consistent and as-expected, please specify a format.\n",
      "  X_train[col] = pd.to_datetime(X_train[col], errors='coerce')\n",
      "C:\\Users\\shahp\\AppData\\Local\\Temp\\ipykernel_12448\\1027020528.py:5: UserWarning: Could not infer format, so each element will be parsed individually, falling back to `dateutil`. To ensure parsing is consistent and as-expected, please specify a format.\n",
      "  X_valid[col] = pd.to_datetime(X_valid[col], errors='coerce')\n",
      "C:\\Users\\shahp\\AppData\\Local\\Temp\\ipykernel_12448\\1027020528.py:6: UserWarning: Could not infer format, so each element will be parsed individually, falling back to `dateutil`. To ensure parsing is consistent and as-expected, please specify a format.\n",
      "  test_data[col] = pd.to_datetime(test_data[col], errors='coerce')\n",
      "C:\\Users\\shahp\\AppData\\Local\\Temp\\ipykernel_12448\\1027020528.py:9: PerformanceWarning: DataFrame is highly fragmented.  This is usually the result of calling `frame.insert` many times, which has poor performance.  Consider joining all columns at once using pd.concat(axis=1) instead. To get a de-fragmented frame, use `newframe = frame.copy()`\n",
      "  df[f\"{col}_year\"] = df[col].dt.year\n",
      "C:\\Users\\shahp\\AppData\\Local\\Temp\\ipykernel_12448\\1027020528.py:10: PerformanceWarning: DataFrame is highly fragmented.  This is usually the result of calling `frame.insert` many times, which has poor performance.  Consider joining all columns at once using pd.concat(axis=1) instead. To get a de-fragmented frame, use `newframe = frame.copy()`\n",
      "  df[f\"{col}_month\"] = df[col].dt.month\n",
      "C:\\Users\\shahp\\AppData\\Local\\Temp\\ipykernel_12448\\1027020528.py:11: PerformanceWarning: DataFrame is highly fragmented.  This is usually the result of calling `frame.insert` many times, which has poor performance.  Consider joining all columns at once using pd.concat(axis=1) instead. To get a de-fragmented frame, use `newframe = frame.copy()`\n",
      "  df[f\"{col}_day\"] = df[col].dt.day\n",
      "C:\\Users\\shahp\\AppData\\Local\\Temp\\ipykernel_12448\\1027020528.py:9: PerformanceWarning: DataFrame is highly fragmented.  This is usually the result of calling `frame.insert` many times, which has poor performance.  Consider joining all columns at once using pd.concat(axis=1) instead. To get a de-fragmented frame, use `newframe = frame.copy()`\n",
      "  df[f\"{col}_year\"] = df[col].dt.year\n",
      "C:\\Users\\shahp\\AppData\\Local\\Temp\\ipykernel_12448\\1027020528.py:10: PerformanceWarning: DataFrame is highly fragmented.  This is usually the result of calling `frame.insert` many times, which has poor performance.  Consider joining all columns at once using pd.concat(axis=1) instead. To get a de-fragmented frame, use `newframe = frame.copy()`\n",
      "  df[f\"{col}_month\"] = df[col].dt.month\n",
      "C:\\Users\\shahp\\AppData\\Local\\Temp\\ipykernel_12448\\1027020528.py:11: PerformanceWarning: DataFrame is highly fragmented.  This is usually the result of calling `frame.insert` many times, which has poor performance.  Consider joining all columns at once using pd.concat(axis=1) instead. To get a de-fragmented frame, use `newframe = frame.copy()`\n",
      "  df[f\"{col}_day\"] = df[col].dt.day\n",
      "C:\\Users\\shahp\\AppData\\Local\\Temp\\ipykernel_12448\\1027020528.py:9: PerformanceWarning: DataFrame is highly fragmented.  This is usually the result of calling `frame.insert` many times, which has poor performance.  Consider joining all columns at once using pd.concat(axis=1) instead. To get a de-fragmented frame, use `newframe = frame.copy()`\n",
      "  df[f\"{col}_year\"] = df[col].dt.year\n",
      "C:\\Users\\shahp\\AppData\\Local\\Temp\\ipykernel_12448\\1027020528.py:10: PerformanceWarning: DataFrame is highly fragmented.  This is usually the result of calling `frame.insert` many times, which has poor performance.  Consider joining all columns at once using pd.concat(axis=1) instead. To get a de-fragmented frame, use `newframe = frame.copy()`\n",
      "  df[f\"{col}_month\"] = df[col].dt.month\n",
      "C:\\Users\\shahp\\AppData\\Local\\Temp\\ipykernel_12448\\1027020528.py:11: PerformanceWarning: DataFrame is highly fragmented.  This is usually the result of calling `frame.insert` many times, which has poor performance.  Consider joining all columns at once using pd.concat(axis=1) instead. To get a de-fragmented frame, use `newframe = frame.copy()`\n",
      "  df[f\"{col}_day\"] = df[col].dt.day\n"
     ]
    },
    {
     "name": "stdout",
     "output_type": "stream",
     "text": [
      "Processed datetime column: PropertyField36\n"
     ]
    },
    {
     "name": "stderr",
     "output_type": "stream",
     "text": [
      "C:\\Users\\shahp\\AppData\\Local\\Temp\\ipykernel_12448\\1027020528.py:4: UserWarning: Could not infer format, so each element will be parsed individually, falling back to `dateutil`. To ensure parsing is consistent and as-expected, please specify a format.\n",
      "  X_train[col] = pd.to_datetime(X_train[col], errors='coerce')\n",
      "C:\\Users\\shahp\\AppData\\Local\\Temp\\ipykernel_12448\\1027020528.py:5: UserWarning: Could not infer format, so each element will be parsed individually, falling back to `dateutil`. To ensure parsing is consistent and as-expected, please specify a format.\n",
      "  X_valid[col] = pd.to_datetime(X_valid[col], errors='coerce')\n",
      "C:\\Users\\shahp\\AppData\\Local\\Temp\\ipykernel_12448\\1027020528.py:6: UserWarning: Could not infer format, so each element will be parsed individually, falling back to `dateutil`. To ensure parsing is consistent and as-expected, please specify a format.\n",
      "  test_data[col] = pd.to_datetime(test_data[col], errors='coerce')\n",
      "C:\\Users\\shahp\\AppData\\Local\\Temp\\ipykernel_12448\\1027020528.py:9: PerformanceWarning: DataFrame is highly fragmented.  This is usually the result of calling `frame.insert` many times, which has poor performance.  Consider joining all columns at once using pd.concat(axis=1) instead. To get a de-fragmented frame, use `newframe = frame.copy()`\n",
      "  df[f\"{col}_year\"] = df[col].dt.year\n",
      "C:\\Users\\shahp\\AppData\\Local\\Temp\\ipykernel_12448\\1027020528.py:10: PerformanceWarning: DataFrame is highly fragmented.  This is usually the result of calling `frame.insert` many times, which has poor performance.  Consider joining all columns at once using pd.concat(axis=1) instead. To get a de-fragmented frame, use `newframe = frame.copy()`\n",
      "  df[f\"{col}_month\"] = df[col].dt.month\n",
      "C:\\Users\\shahp\\AppData\\Local\\Temp\\ipykernel_12448\\1027020528.py:11: PerformanceWarning: DataFrame is highly fragmented.  This is usually the result of calling `frame.insert` many times, which has poor performance.  Consider joining all columns at once using pd.concat(axis=1) instead. To get a de-fragmented frame, use `newframe = frame.copy()`\n",
      "  df[f\"{col}_day\"] = df[col].dt.day\n",
      "C:\\Users\\shahp\\AppData\\Local\\Temp\\ipykernel_12448\\1027020528.py:9: PerformanceWarning: DataFrame is highly fragmented.  This is usually the result of calling `frame.insert` many times, which has poor performance.  Consider joining all columns at once using pd.concat(axis=1) instead. To get a de-fragmented frame, use `newframe = frame.copy()`\n",
      "  df[f\"{col}_year\"] = df[col].dt.year\n",
      "C:\\Users\\shahp\\AppData\\Local\\Temp\\ipykernel_12448\\1027020528.py:10: PerformanceWarning: DataFrame is highly fragmented.  This is usually the result of calling `frame.insert` many times, which has poor performance.  Consider joining all columns at once using pd.concat(axis=1) instead. To get a de-fragmented frame, use `newframe = frame.copy()`\n",
      "  df[f\"{col}_month\"] = df[col].dt.month\n",
      "C:\\Users\\shahp\\AppData\\Local\\Temp\\ipykernel_12448\\1027020528.py:11: PerformanceWarning: DataFrame is highly fragmented.  This is usually the result of calling `frame.insert` many times, which has poor performance.  Consider joining all columns at once using pd.concat(axis=1) instead. To get a de-fragmented frame, use `newframe = frame.copy()`\n",
      "  df[f\"{col}_day\"] = df[col].dt.day\n",
      "C:\\Users\\shahp\\AppData\\Local\\Temp\\ipykernel_12448\\1027020528.py:9: PerformanceWarning: DataFrame is highly fragmented.  This is usually the result of calling `frame.insert` many times, which has poor performance.  Consider joining all columns at once using pd.concat(axis=1) instead. To get a de-fragmented frame, use `newframe = frame.copy()`\n",
      "  df[f\"{col}_year\"] = df[col].dt.year\n",
      "C:\\Users\\shahp\\AppData\\Local\\Temp\\ipykernel_12448\\1027020528.py:10: PerformanceWarning: DataFrame is highly fragmented.  This is usually the result of calling `frame.insert` many times, which has poor performance.  Consider joining all columns at once using pd.concat(axis=1) instead. To get a de-fragmented frame, use `newframe = frame.copy()`\n",
      "  df[f\"{col}_month\"] = df[col].dt.month\n",
      "C:\\Users\\shahp\\AppData\\Local\\Temp\\ipykernel_12448\\1027020528.py:11: PerformanceWarning: DataFrame is highly fragmented.  This is usually the result of calling `frame.insert` many times, which has poor performance.  Consider joining all columns at once using pd.concat(axis=1) instead. To get a de-fragmented frame, use `newframe = frame.copy()`\n",
      "  df[f\"{col}_day\"] = df[col].dt.day\n"
     ]
    },
    {
     "name": "stdout",
     "output_type": "stream",
     "text": [
      "Processed datetime column: PropertyField37\n"
     ]
    },
    {
     "name": "stderr",
     "output_type": "stream",
     "text": [
      "C:\\Users\\shahp\\AppData\\Local\\Temp\\ipykernel_12448\\1027020528.py:4: UserWarning: Could not infer format, so each element will be parsed individually, falling back to `dateutil`. To ensure parsing is consistent and as-expected, please specify a format.\n",
      "  X_train[col] = pd.to_datetime(X_train[col], errors='coerce')\n",
      "C:\\Users\\shahp\\AppData\\Local\\Temp\\ipykernel_12448\\1027020528.py:5: UserWarning: Could not infer format, so each element will be parsed individually, falling back to `dateutil`. To ensure parsing is consistent and as-expected, please specify a format.\n",
      "  X_valid[col] = pd.to_datetime(X_valid[col], errors='coerce')\n",
      "C:\\Users\\shahp\\AppData\\Local\\Temp\\ipykernel_12448\\1027020528.py:6: UserWarning: Could not infer format, so each element will be parsed individually, falling back to `dateutil`. To ensure parsing is consistent and as-expected, please specify a format.\n",
      "  test_data[col] = pd.to_datetime(test_data[col], errors='coerce')\n",
      "C:\\Users\\shahp\\AppData\\Local\\Temp\\ipykernel_12448\\1027020528.py:9: PerformanceWarning: DataFrame is highly fragmented.  This is usually the result of calling `frame.insert` many times, which has poor performance.  Consider joining all columns at once using pd.concat(axis=1) instead. To get a de-fragmented frame, use `newframe = frame.copy()`\n",
      "  df[f\"{col}_year\"] = df[col].dt.year\n",
      "C:\\Users\\shahp\\AppData\\Local\\Temp\\ipykernel_12448\\1027020528.py:10: PerformanceWarning: DataFrame is highly fragmented.  This is usually the result of calling `frame.insert` many times, which has poor performance.  Consider joining all columns at once using pd.concat(axis=1) instead. To get a de-fragmented frame, use `newframe = frame.copy()`\n",
      "  df[f\"{col}_month\"] = df[col].dt.month\n",
      "C:\\Users\\shahp\\AppData\\Local\\Temp\\ipykernel_12448\\1027020528.py:11: PerformanceWarning: DataFrame is highly fragmented.  This is usually the result of calling `frame.insert` many times, which has poor performance.  Consider joining all columns at once using pd.concat(axis=1) instead. To get a de-fragmented frame, use `newframe = frame.copy()`\n",
      "  df[f\"{col}_day\"] = df[col].dt.day\n",
      "C:\\Users\\shahp\\AppData\\Local\\Temp\\ipykernel_12448\\1027020528.py:9: PerformanceWarning: DataFrame is highly fragmented.  This is usually the result of calling `frame.insert` many times, which has poor performance.  Consider joining all columns at once using pd.concat(axis=1) instead. To get a de-fragmented frame, use `newframe = frame.copy()`\n",
      "  df[f\"{col}_year\"] = df[col].dt.year\n",
      "C:\\Users\\shahp\\AppData\\Local\\Temp\\ipykernel_12448\\1027020528.py:10: PerformanceWarning: DataFrame is highly fragmented.  This is usually the result of calling `frame.insert` many times, which has poor performance.  Consider joining all columns at once using pd.concat(axis=1) instead. To get a de-fragmented frame, use `newframe = frame.copy()`\n",
      "  df[f\"{col}_month\"] = df[col].dt.month\n",
      "C:\\Users\\shahp\\AppData\\Local\\Temp\\ipykernel_12448\\1027020528.py:11: PerformanceWarning: DataFrame is highly fragmented.  This is usually the result of calling `frame.insert` many times, which has poor performance.  Consider joining all columns at once using pd.concat(axis=1) instead. To get a de-fragmented frame, use `newframe = frame.copy()`\n",
      "  df[f\"{col}_day\"] = df[col].dt.day\n",
      "C:\\Users\\shahp\\AppData\\Local\\Temp\\ipykernel_12448\\1027020528.py:9: PerformanceWarning: DataFrame is highly fragmented.  This is usually the result of calling `frame.insert` many times, which has poor performance.  Consider joining all columns at once using pd.concat(axis=1) instead. To get a de-fragmented frame, use `newframe = frame.copy()`\n",
      "  df[f\"{col}_year\"] = df[col].dt.year\n",
      "C:\\Users\\shahp\\AppData\\Local\\Temp\\ipykernel_12448\\1027020528.py:10: PerformanceWarning: DataFrame is highly fragmented.  This is usually the result of calling `frame.insert` many times, which has poor performance.  Consider joining all columns at once using pd.concat(axis=1) instead. To get a de-fragmented frame, use `newframe = frame.copy()`\n",
      "  df[f\"{col}_month\"] = df[col].dt.month\n",
      "C:\\Users\\shahp\\AppData\\Local\\Temp\\ipykernel_12448\\1027020528.py:11: PerformanceWarning: DataFrame is highly fragmented.  This is usually the result of calling `frame.insert` many times, which has poor performance.  Consider joining all columns at once using pd.concat(axis=1) instead. To get a de-fragmented frame, use `newframe = frame.copy()`\n",
      "  df[f\"{col}_day\"] = df[col].dt.day\n"
     ]
    },
    {
     "name": "stdout",
     "output_type": "stream",
     "text": [
      "Processed datetime column: PropertyField38\n"
     ]
    },
    {
     "name": "stderr",
     "output_type": "stream",
     "text": [
      "C:\\Users\\shahp\\AppData\\Local\\Temp\\ipykernel_12448\\1027020528.py:4: UserWarning: Could not infer format, so each element will be parsed individually, falling back to `dateutil`. To ensure parsing is consistent and as-expected, please specify a format.\n",
      "  X_train[col] = pd.to_datetime(X_train[col], errors='coerce')\n",
      "C:\\Users\\shahp\\AppData\\Local\\Temp\\ipykernel_12448\\1027020528.py:5: UserWarning: Could not infer format, so each element will be parsed individually, falling back to `dateutil`. To ensure parsing is consistent and as-expected, please specify a format.\n",
      "  X_valid[col] = pd.to_datetime(X_valid[col], errors='coerce')\n",
      "C:\\Users\\shahp\\AppData\\Local\\Temp\\ipykernel_12448\\1027020528.py:6: UserWarning: Could not infer format, so each element will be parsed individually, falling back to `dateutil`. To ensure parsing is consistent and as-expected, please specify a format.\n",
      "  test_data[col] = pd.to_datetime(test_data[col], errors='coerce')\n",
      "C:\\Users\\shahp\\AppData\\Local\\Temp\\ipykernel_12448\\1027020528.py:9: PerformanceWarning: DataFrame is highly fragmented.  This is usually the result of calling `frame.insert` many times, which has poor performance.  Consider joining all columns at once using pd.concat(axis=1) instead. To get a de-fragmented frame, use `newframe = frame.copy()`\n",
      "  df[f\"{col}_year\"] = df[col].dt.year\n",
      "C:\\Users\\shahp\\AppData\\Local\\Temp\\ipykernel_12448\\1027020528.py:10: PerformanceWarning: DataFrame is highly fragmented.  This is usually the result of calling `frame.insert` many times, which has poor performance.  Consider joining all columns at once using pd.concat(axis=1) instead. To get a de-fragmented frame, use `newframe = frame.copy()`\n",
      "  df[f\"{col}_month\"] = df[col].dt.month\n",
      "C:\\Users\\shahp\\AppData\\Local\\Temp\\ipykernel_12448\\1027020528.py:11: PerformanceWarning: DataFrame is highly fragmented.  This is usually the result of calling `frame.insert` many times, which has poor performance.  Consider joining all columns at once using pd.concat(axis=1) instead. To get a de-fragmented frame, use `newframe = frame.copy()`\n",
      "  df[f\"{col}_day\"] = df[col].dt.day\n",
      "C:\\Users\\shahp\\AppData\\Local\\Temp\\ipykernel_12448\\1027020528.py:9: PerformanceWarning: DataFrame is highly fragmented.  This is usually the result of calling `frame.insert` many times, which has poor performance.  Consider joining all columns at once using pd.concat(axis=1) instead. To get a de-fragmented frame, use `newframe = frame.copy()`\n",
      "  df[f\"{col}_year\"] = df[col].dt.year\n",
      "C:\\Users\\shahp\\AppData\\Local\\Temp\\ipykernel_12448\\1027020528.py:10: PerformanceWarning: DataFrame is highly fragmented.  This is usually the result of calling `frame.insert` many times, which has poor performance.  Consider joining all columns at once using pd.concat(axis=1) instead. To get a de-fragmented frame, use `newframe = frame.copy()`\n",
      "  df[f\"{col}_month\"] = df[col].dt.month\n",
      "C:\\Users\\shahp\\AppData\\Local\\Temp\\ipykernel_12448\\1027020528.py:11: PerformanceWarning: DataFrame is highly fragmented.  This is usually the result of calling `frame.insert` many times, which has poor performance.  Consider joining all columns at once using pd.concat(axis=1) instead. To get a de-fragmented frame, use `newframe = frame.copy()`\n",
      "  df[f\"{col}_day\"] = df[col].dt.day\n",
      "C:\\Users\\shahp\\AppData\\Local\\Temp\\ipykernel_12448\\1027020528.py:9: PerformanceWarning: DataFrame is highly fragmented.  This is usually the result of calling `frame.insert` many times, which has poor performance.  Consider joining all columns at once using pd.concat(axis=1) instead. To get a de-fragmented frame, use `newframe = frame.copy()`\n",
      "  df[f\"{col}_year\"] = df[col].dt.year\n",
      "C:\\Users\\shahp\\AppData\\Local\\Temp\\ipykernel_12448\\1027020528.py:10: PerformanceWarning: DataFrame is highly fragmented.  This is usually the result of calling `frame.insert` many times, which has poor performance.  Consider joining all columns at once using pd.concat(axis=1) instead. To get a de-fragmented frame, use `newframe = frame.copy()`\n",
      "  df[f\"{col}_month\"] = df[col].dt.month\n",
      "C:\\Users\\shahp\\AppData\\Local\\Temp\\ipykernel_12448\\1027020528.py:11: PerformanceWarning: DataFrame is highly fragmented.  This is usually the result of calling `frame.insert` many times, which has poor performance.  Consider joining all columns at once using pd.concat(axis=1) instead. To get a de-fragmented frame, use `newframe = frame.copy()`\n",
      "  df[f\"{col}_day\"] = df[col].dt.day\n"
     ]
    },
    {
     "name": "stdout",
     "output_type": "stream",
     "text": [
      "Processed datetime column: GeographicField63\n"
     ]
    },
    {
     "name": "stderr",
     "output_type": "stream",
     "text": [
      "C:\\Users\\shahp\\AppData\\Local\\Temp\\ipykernel_12448\\1027020528.py:4: UserWarning: Could not infer format, so each element will be parsed individually, falling back to `dateutil`. To ensure parsing is consistent and as-expected, please specify a format.\n",
      "  X_train[col] = pd.to_datetime(X_train[col], errors='coerce')\n",
      "C:\\Users\\shahp\\AppData\\Local\\Temp\\ipykernel_12448\\1027020528.py:5: UserWarning: Could not infer format, so each element will be parsed individually, falling back to `dateutil`. To ensure parsing is consistent and as-expected, please specify a format.\n",
      "  X_valid[col] = pd.to_datetime(X_valid[col], errors='coerce')\n",
      "C:\\Users\\shahp\\AppData\\Local\\Temp\\ipykernel_12448\\1027020528.py:6: UserWarning: Could not infer format, so each element will be parsed individually, falling back to `dateutil`. To ensure parsing is consistent and as-expected, please specify a format.\n",
      "  test_data[col] = pd.to_datetime(test_data[col], errors='coerce')\n",
      "C:\\Users\\shahp\\AppData\\Local\\Temp\\ipykernel_12448\\1027020528.py:9: PerformanceWarning: DataFrame is highly fragmented.  This is usually the result of calling `frame.insert` many times, which has poor performance.  Consider joining all columns at once using pd.concat(axis=1) instead. To get a de-fragmented frame, use `newframe = frame.copy()`\n",
      "  df[f\"{col}_year\"] = df[col].dt.year\n",
      "C:\\Users\\shahp\\AppData\\Local\\Temp\\ipykernel_12448\\1027020528.py:10: PerformanceWarning: DataFrame is highly fragmented.  This is usually the result of calling `frame.insert` many times, which has poor performance.  Consider joining all columns at once using pd.concat(axis=1) instead. To get a de-fragmented frame, use `newframe = frame.copy()`\n",
      "  df[f\"{col}_month\"] = df[col].dt.month\n",
      "C:\\Users\\shahp\\AppData\\Local\\Temp\\ipykernel_12448\\1027020528.py:11: PerformanceWarning: DataFrame is highly fragmented.  This is usually the result of calling `frame.insert` many times, which has poor performance.  Consider joining all columns at once using pd.concat(axis=1) instead. To get a de-fragmented frame, use `newframe = frame.copy()`\n",
      "  df[f\"{col}_day\"] = df[col].dt.day\n",
      "C:\\Users\\shahp\\AppData\\Local\\Temp\\ipykernel_12448\\1027020528.py:9: PerformanceWarning: DataFrame is highly fragmented.  This is usually the result of calling `frame.insert` many times, which has poor performance.  Consider joining all columns at once using pd.concat(axis=1) instead. To get a de-fragmented frame, use `newframe = frame.copy()`\n",
      "  df[f\"{col}_year\"] = df[col].dt.year\n",
      "C:\\Users\\shahp\\AppData\\Local\\Temp\\ipykernel_12448\\1027020528.py:10: PerformanceWarning: DataFrame is highly fragmented.  This is usually the result of calling `frame.insert` many times, which has poor performance.  Consider joining all columns at once using pd.concat(axis=1) instead. To get a de-fragmented frame, use `newframe = frame.copy()`\n",
      "  df[f\"{col}_month\"] = df[col].dt.month\n",
      "C:\\Users\\shahp\\AppData\\Local\\Temp\\ipykernel_12448\\1027020528.py:11: PerformanceWarning: DataFrame is highly fragmented.  This is usually the result of calling `frame.insert` many times, which has poor performance.  Consider joining all columns at once using pd.concat(axis=1) instead. To get a de-fragmented frame, use `newframe = frame.copy()`\n",
      "  df[f\"{col}_day\"] = df[col].dt.day\n",
      "C:\\Users\\shahp\\AppData\\Local\\Temp\\ipykernel_12448\\1027020528.py:9: PerformanceWarning: DataFrame is highly fragmented.  This is usually the result of calling `frame.insert` many times, which has poor performance.  Consider joining all columns at once using pd.concat(axis=1) instead. To get a de-fragmented frame, use `newframe = frame.copy()`\n",
      "  df[f\"{col}_year\"] = df[col].dt.year\n",
      "C:\\Users\\shahp\\AppData\\Local\\Temp\\ipykernel_12448\\1027020528.py:10: PerformanceWarning: DataFrame is highly fragmented.  This is usually the result of calling `frame.insert` many times, which has poor performance.  Consider joining all columns at once using pd.concat(axis=1) instead. To get a de-fragmented frame, use `newframe = frame.copy()`\n",
      "  df[f\"{col}_month\"] = df[col].dt.month\n",
      "C:\\Users\\shahp\\AppData\\Local\\Temp\\ipykernel_12448\\1027020528.py:11: PerformanceWarning: DataFrame is highly fragmented.  This is usually the result of calling `frame.insert` many times, which has poor performance.  Consider joining all columns at once using pd.concat(axis=1) instead. To get a de-fragmented frame, use `newframe = frame.copy()`\n",
      "  df[f\"{col}_day\"] = df[col].dt.day\n"
     ]
    },
    {
     "name": "stdout",
     "output_type": "stream",
     "text": [
      "Processed datetime column: GeographicField64\n"
     ]
    }
   ],
   "source": [
    "# Convert potential date columns to features\n",
    "for col in non_numeric_cols:\n",
    "    try:\n",
    "        X_train[col] = pd.to_datetime(X_train[col], errors='coerce')\n",
    "        X_valid[col] = pd.to_datetime(X_valid[col], errors='coerce')\n",
    "        test_data[col] = pd.to_datetime(test_data[col], errors='coerce')\n",
    "\n",
    "        for df in [X_train, X_valid, test_data]:\n",
    "            df[f\"{col}_year\"] = df[col].dt.year\n",
    "            df[f\"{col}_month\"] = df[col].dt.month\n",
    "            df[f\"{col}_day\"] = df[col].dt.day\n",
    "            df.drop(columns=col, inplace=True)\n",
    "\n",
    "        print(f\"Processed datetime column: {col}\")\n",
    "\n",
    "    except Exception:\n",
    "        continue"
   ]
  },
  {
   "cell_type": "code",
   "execution_count": 13,
   "id": "485b85da",
   "metadata": {},
   "outputs": [
    {
     "name": "stdout",
     "output_type": "stream",
     "text": [
      "Dropping all-NaN columns: ['Field6_year', 'Field6_month', 'Field6_day', 'Field10_year', 'Field10_month', 'Field10_day', 'Field12_year', 'Field12_month', 'Field12_day', 'CoverageField8_year', 'CoverageField8_month', 'CoverageField8_day', 'CoverageField9_year', 'CoverageField9_month', 'CoverageField9_day', 'SalesField7_year', 'SalesField7_month', 'SalesField7_day', 'PersonalField7_year', 'PersonalField7_month', 'PersonalField7_day', 'PersonalField16_year', 'PersonalField16_month', 'PersonalField16_day', 'PersonalField17_year', 'PersonalField17_month', 'PersonalField17_day', 'PersonalField18_year', 'PersonalField18_month', 'PersonalField18_day', 'PersonalField19_year', 'PersonalField19_month', 'PersonalField19_day', 'PropertyField3_year', 'PropertyField3_month', 'PropertyField3_day', 'PropertyField4_year', 'PropertyField4_month', 'PropertyField4_day', 'PropertyField5_year', 'PropertyField5_month', 'PropertyField5_day', 'PropertyField7_year', 'PropertyField7_month', 'PropertyField7_day', 'PropertyField14_year', 'PropertyField14_month', 'PropertyField14_day', 'PropertyField28_year', 'PropertyField28_month', 'PropertyField28_day', 'PropertyField30_year', 'PropertyField30_month', 'PropertyField30_day', 'PropertyField31_year', 'PropertyField31_month', 'PropertyField31_day', 'PropertyField32_year', 'PropertyField32_month', 'PropertyField32_day', 'PropertyField33_year', 'PropertyField33_month', 'PropertyField33_day', 'PropertyField34_year', 'PropertyField34_month', 'PropertyField34_day', 'PropertyField36_year', 'PropertyField36_month', 'PropertyField36_day', 'PropertyField37_year', 'PropertyField37_month', 'PropertyField37_day', 'PropertyField38_year', 'PropertyField38_month', 'PropertyField38_day', 'GeographicField63_year', 'GeographicField63_month', 'GeographicField63_day', 'GeographicField64_year', 'GeographicField64_month', 'GeographicField64_day']\n"
     ]
    }
   ],
   "source": [
    "# Drop columns with all NaN values\n",
    "def drop_all_nan(df_list):\n",
    "    nan_cols = df_list[0].columns[df_list[0].isnull().all()]\n",
    "    print(f\"Dropping all-NaN columns: {list(nan_cols)}\")\n",
    "    for df in df_list:\n",
    "        df.drop(columns=nan_cols, inplace=True)\n",
    "\n",
    "drop_all_nan([X_train, X_valid, test_data])"
   ]
  },
  {
   "cell_type": "code",
   "execution_count": 14,
   "id": "18a83b0d",
   "metadata": {},
   "outputs": [],
   "source": [
    "# Re-impute numeric columns after feature engineering\n",
    "numeric_cols = X_train.select_dtypes(include=['int64', 'float64']).columns\n",
    "X_train[numeric_cols] = num_imputer.fit_transform(X_train[numeric_cols])\n",
    "X_valid[numeric_cols] = num_imputer.transform(X_valid[numeric_cols])\n",
    "test_data[numeric_cols] = num_imputer.transform(test_data[numeric_cols])"
   ]
  },
  {
   "cell_type": "code",
   "execution_count": 15,
   "id": "b579b2f0",
   "metadata": {},
   "outputs": [
    {
     "name": "stdout",
     "output_type": "stream",
     "text": [
      "Scaling complete.\n"
     ]
    }
   ],
   "source": [
    "# Scale numeric features\n",
    "scaler = StandardScaler()\n",
    "X_train_scaled = scaler.fit_transform(X_train[numeric_cols])\n",
    "X_valid_scaled = scaler.transform(X_valid[numeric_cols])\n",
    "X_test_scaled = scaler.transform(test_data[numeric_cols])\n",
    "\n",
    "print(\"Scaling complete.\")"
   ]
  },
  {
   "cell_type": "code",
   "execution_count": 17,
   "id": "e32b1056",
   "metadata": {},
   "outputs": [
    {
     "name": "stderr",
     "output_type": "stream",
     "text": [
      "c:\\ProgramData\\anaconda3\\Lib\\site-packages\\imblearn\\over_sampling\\_smote\\base.py:370: FutureWarning: The parameter `n_jobs` has been deprecated in 0.10 and will be removed in 0.12. You can pass an nearest neighbors estimator where `n_jobs` is already set instead.\n",
      "  warnings.warn(\n"
     ]
    },
    {
     "name": "stdout",
     "output_type": "stream",
     "text": [
      "Post-SMOTE class distribution:\n",
      " QuoteConversion_Flag\n",
      "0    169487\n",
      "1    169487\n",
      "Name: count, dtype: int64\n"
     ]
    }
   ],
   "source": [
    "from imblearn.over_sampling import SMOTE\n",
    "\n",
    "smote = SMOTE(random_state=42, sampling_strategy='minority', n_jobs=-1)\n",
    "X_train_resampled, y_train_resampled = smote.fit_resample(X_train_scaled, y_train)\n",
    "\n",
    "print(\"Post-SMOTE class distribution:\\n\", pd.Series(y_train_resampled).value_counts())\n"
   ]
  },
  {
   "cell_type": "code",
   "execution_count": 18,
   "id": "302dae25",
   "metadata": {},
   "outputs": [
    {
     "name": "stdout",
     "output_type": "stream",
     "text": [
      "Pipeline completed in 178.31 seconds.\n"
     ]
    }
   ],
   "source": [
    "# Timer end\n",
    "end_time = time.time()\n",
    "print(f\"Pipeline completed in {(end_time - start_time):.2f} seconds.\")\n"
   ]
  },
  {
   "cell_type": "markdown",
   "id": "386a4143",
   "metadata": {},
   "source": [
    "MODEL TRAINING"
   ]
  },
  {
   "cell_type": "code",
   "execution_count": 19,
   "id": "3dfe4be3",
   "metadata": {},
   "outputs": [
    {
     "name": "stdout",
     "output_type": "stream",
     "text": [
      "Defaulting to user installation because normal site-packages is not writeable\n",
      "Requirement already satisfied: imblearn in c:\\users\\shahp\\appdata\\roaming\\python\\python312\\site-packages (0.0)\n",
      "Requirement already satisfied: scikit-learn in c:\\programdata\\anaconda3\\lib\\site-packages (1.4.2)\n",
      "Requirement already satisfied: imbalanced-learn in c:\\programdata\\anaconda3\\lib\\site-packages (from imblearn) (0.12.3)\n",
      "Requirement already satisfied: numpy>=1.19.5 in c:\\programdata\\anaconda3\\lib\\site-packages (from scikit-learn) (1.26.4)\n",
      "Requirement already satisfied: scipy>=1.6.0 in c:\\programdata\\anaconda3\\lib\\site-packages (from scikit-learn) (1.13.1)\n",
      "Requirement already satisfied: joblib>=1.2.0 in c:\\programdata\\anaconda3\\lib\\site-packages (from scikit-learn) (1.4.2)\n",
      "Requirement already satisfied: threadpoolctl>=2.0.0 in c:\\programdata\\anaconda3\\lib\\site-packages (from scikit-learn) (2.2.0)\n",
      "Note: you may need to restart the kernel to use updated packages.\n"
     ]
    }
   ],
   "source": [
    "pip install imblearn scikit-learn"
   ]
  },
  {
   "cell_type": "code",
   "execution_count": 20,
   "id": "177b2134",
   "metadata": {},
   "outputs": [],
   "source": [
    "# Import libraries\n",
    "import pandas as pd\n",
    "import numpy as np\n",
    "import time\n",
    "from sklearn.model_selection import train_test_split\n",
    "from sklearn.preprocessing import StandardScaler\n",
    "from sklearn.impute import SimpleImputer\n",
    "from sklearn.metrics import classification_report, roc_auc_score\n",
    "from sklearn.linear_model import LogisticRegression\n",
    "from sklearn.ensemble import RandomForestClassifier\n",
    "from imblearn.over_sampling import SMOTE\n",
    "from sklearn.decomposition import PCA"
   ]
  },
  {
   "cell_type": "code",
   "execution_count": 21,
   "id": "d438b1e0",
   "metadata": {},
   "outputs": [],
   "source": [
    "# Timer start\n",
    "start_time = time.time()"
   ]
  },
  {
   "cell_type": "code",
   "execution_count": 22,
   "id": "b94da823",
   "metadata": {},
   "outputs": [
    {
     "name": "stdout",
     "output_type": "stream",
     "text": [
      "Train shape: (260753, 299), Test shape: (173836, 298)\n"
     ]
    }
   ],
   "source": [
    "# Load data\n",
    "train_data = pd.read_csv(\"C:/Users/shahp/OneDrive/Desktop/train.csv\")\n",
    "test_data = pd.read_csv(\"C:/Users/shahp/OneDrive/Desktop/test.csv\")\n",
    "\n",
    "print(f\"Train shape: {train_data.shape}, Test shape: {test_data.shape}\")"
   ]
  },
  {
   "cell_type": "code",
   "execution_count": 23,
   "id": "b3202925",
   "metadata": {},
   "outputs": [],
   "source": [
    "# Prepare features and target\n",
    "X = train_data.drop(columns=['QuoteConversion_Flag'])\n",
    "y = train_data['QuoteConversion_Flag'].fillna(train_data['QuoteConversion_Flag'].mode()[0])"
   ]
  },
  {
   "cell_type": "code",
   "execution_count": 24,
   "id": "4e991c64",
   "metadata": {},
   "outputs": [],
   "source": [
    "# Train/validation split\n",
    "X_train, X_valid, y_train, y_valid = train_test_split(\n",
    "    X, y, test_size=0.2, random_state=42, stratify=y\n",
    ")"
   ]
  },
  {
   "cell_type": "code",
   "execution_count": 25,
   "id": "debbb466",
   "metadata": {},
   "outputs": [],
   "source": [
    "# Common columns\n",
    "common_cols = X_train.columns.intersection(test_data.columns)\n",
    "\n",
    "# Separate numeric and non-numeric\n",
    "numeric_cols = X_train[common_cols].select_dtypes(include=['int64', 'float64']).columns\n",
    "non_numeric_cols = X_train[common_cols].select_dtypes(exclude=['int64', 'float64']).columns"
   ]
  },
  {
   "cell_type": "code",
   "execution_count": 26,
   "id": "30d46d0f",
   "metadata": {},
   "outputs": [],
   "source": [
    "# Impute missing values\n",
    "num_imputer = SimpleImputer(strategy='mean')\n",
    "cat_imputer = SimpleImputer(strategy='most_frequent')\n",
    "\n",
    "# Numeric imputation\n",
    "X_train[numeric_cols] = num_imputer.fit_transform(X_train[numeric_cols])\n",
    "X_valid[numeric_cols] = num_imputer.transform(X_valid[numeric_cols])\n",
    "test_data[numeric_cols] = num_imputer.transform(test_data[numeric_cols])\n",
    "\n",
    "# Categorical imputation\n",
    "X_train[non_numeric_cols] = cat_imputer.fit_transform(X_train[non_numeric_cols])\n",
    "X_valid[non_numeric_cols] = cat_imputer.transform(X_valid[non_numeric_cols])\n",
    "test_data[non_numeric_cols] = cat_imputer.transform(test_data[non_numeric_cols])"
   ]
  },
  {
   "cell_type": "code",
   "execution_count": 27,
   "id": "c1c8624c",
   "metadata": {},
   "outputs": [
    {
     "name": "stderr",
     "output_type": "stream",
     "text": [
      "C:\\Users\\shahp\\AppData\\Local\\Temp\\ipykernel_12448\\3743807202.py:9: PerformanceWarning: DataFrame is highly fragmented.  This is usually the result of calling `frame.insert` many times, which has poor performance.  Consider joining all columns at once using pd.concat(axis=1) instead. To get a de-fragmented frame, use `newframe = frame.copy()`\n",
      "  df[f\"{col}_year\"] = df[col].dt.year\n",
      "C:\\Users\\shahp\\AppData\\Local\\Temp\\ipykernel_12448\\3743807202.py:10: PerformanceWarning: DataFrame is highly fragmented.  This is usually the result of calling `frame.insert` many times, which has poor performance.  Consider joining all columns at once using pd.concat(axis=1) instead. To get a de-fragmented frame, use `newframe = frame.copy()`\n",
      "  df[f\"{col}_month\"] = df[col].dt.month\n",
      "C:\\Users\\shahp\\AppData\\Local\\Temp\\ipykernel_12448\\3743807202.py:11: PerformanceWarning: DataFrame is highly fragmented.  This is usually the result of calling `frame.insert` many times, which has poor performance.  Consider joining all columns at once using pd.concat(axis=1) instead. To get a de-fragmented frame, use `newframe = frame.copy()`\n",
      "  df[f\"{col}_day\"] = df[col].dt.day\n",
      "C:\\Users\\shahp\\AppData\\Local\\Temp\\ipykernel_12448\\3743807202.py:9: PerformanceWarning: DataFrame is highly fragmented.  This is usually the result of calling `frame.insert` many times, which has poor performance.  Consider joining all columns at once using pd.concat(axis=1) instead. To get a de-fragmented frame, use `newframe = frame.copy()`\n",
      "  df[f\"{col}_year\"] = df[col].dt.year\n",
      "C:\\Users\\shahp\\AppData\\Local\\Temp\\ipykernel_12448\\3743807202.py:10: PerformanceWarning: DataFrame is highly fragmented.  This is usually the result of calling `frame.insert` many times, which has poor performance.  Consider joining all columns at once using pd.concat(axis=1) instead. To get a de-fragmented frame, use `newframe = frame.copy()`\n",
      "  df[f\"{col}_month\"] = df[col].dt.month\n",
      "C:\\Users\\shahp\\AppData\\Local\\Temp\\ipykernel_12448\\3743807202.py:11: PerformanceWarning: DataFrame is highly fragmented.  This is usually the result of calling `frame.insert` many times, which has poor performance.  Consider joining all columns at once using pd.concat(axis=1) instead. To get a de-fragmented frame, use `newframe = frame.copy()`\n",
      "  df[f\"{col}_day\"] = df[col].dt.day\n",
      "C:\\Users\\shahp\\AppData\\Local\\Temp\\ipykernel_12448\\3743807202.py:9: PerformanceWarning: DataFrame is highly fragmented.  This is usually the result of calling `frame.insert` many times, which has poor performance.  Consider joining all columns at once using pd.concat(axis=1) instead. To get a de-fragmented frame, use `newframe = frame.copy()`\n",
      "  df[f\"{col}_year\"] = df[col].dt.year\n",
      "C:\\Users\\shahp\\AppData\\Local\\Temp\\ipykernel_12448\\3743807202.py:10: PerformanceWarning: DataFrame is highly fragmented.  This is usually the result of calling `frame.insert` many times, which has poor performance.  Consider joining all columns at once using pd.concat(axis=1) instead. To get a de-fragmented frame, use `newframe = frame.copy()`\n",
      "  df[f\"{col}_month\"] = df[col].dt.month\n",
      "C:\\Users\\shahp\\AppData\\Local\\Temp\\ipykernel_12448\\3743807202.py:11: PerformanceWarning: DataFrame is highly fragmented.  This is usually the result of calling `frame.insert` many times, which has poor performance.  Consider joining all columns at once using pd.concat(axis=1) instead. To get a de-fragmented frame, use `newframe = frame.copy()`\n",
      "  df[f\"{col}_day\"] = df[col].dt.day\n"
     ]
    },
    {
     "name": "stdout",
     "output_type": "stream",
     "text": [
      "Processed datetime column: Original_Quote_Date\n"
     ]
    },
    {
     "name": "stderr",
     "output_type": "stream",
     "text": [
      "C:\\Users\\shahp\\AppData\\Local\\Temp\\ipykernel_12448\\3743807202.py:4: UserWarning: Could not infer format, so each element will be parsed individually, falling back to `dateutil`. To ensure parsing is consistent and as-expected, please specify a format.\n",
      "  X_train[col] = pd.to_datetime(X_train[col], errors='coerce')\n",
      "C:\\Users\\shahp\\AppData\\Local\\Temp\\ipykernel_12448\\3743807202.py:5: UserWarning: Could not infer format, so each element will be parsed individually, falling back to `dateutil`. To ensure parsing is consistent and as-expected, please specify a format.\n",
      "  X_valid[col] = pd.to_datetime(X_valid[col], errors='coerce')\n",
      "C:\\Users\\shahp\\AppData\\Local\\Temp\\ipykernel_12448\\3743807202.py:6: UserWarning: Could not infer format, so each element will be parsed individually, falling back to `dateutil`. To ensure parsing is consistent and as-expected, please specify a format.\n",
      "  test_data[col] = pd.to_datetime(test_data[col], errors='coerce')\n",
      "C:\\Users\\shahp\\AppData\\Local\\Temp\\ipykernel_12448\\3743807202.py:9: PerformanceWarning: DataFrame is highly fragmented.  This is usually the result of calling `frame.insert` many times, which has poor performance.  Consider joining all columns at once using pd.concat(axis=1) instead. To get a de-fragmented frame, use `newframe = frame.copy()`\n",
      "  df[f\"{col}_year\"] = df[col].dt.year\n",
      "C:\\Users\\shahp\\AppData\\Local\\Temp\\ipykernel_12448\\3743807202.py:10: PerformanceWarning: DataFrame is highly fragmented.  This is usually the result of calling `frame.insert` many times, which has poor performance.  Consider joining all columns at once using pd.concat(axis=1) instead. To get a de-fragmented frame, use `newframe = frame.copy()`\n",
      "  df[f\"{col}_month\"] = df[col].dt.month\n",
      "C:\\Users\\shahp\\AppData\\Local\\Temp\\ipykernel_12448\\3743807202.py:11: PerformanceWarning: DataFrame is highly fragmented.  This is usually the result of calling `frame.insert` many times, which has poor performance.  Consider joining all columns at once using pd.concat(axis=1) instead. To get a de-fragmented frame, use `newframe = frame.copy()`\n",
      "  df[f\"{col}_day\"] = df[col].dt.day\n",
      "C:\\Users\\shahp\\AppData\\Local\\Temp\\ipykernel_12448\\3743807202.py:9: PerformanceWarning: DataFrame is highly fragmented.  This is usually the result of calling `frame.insert` many times, which has poor performance.  Consider joining all columns at once using pd.concat(axis=1) instead. To get a de-fragmented frame, use `newframe = frame.copy()`\n",
      "  df[f\"{col}_year\"] = df[col].dt.year\n",
      "C:\\Users\\shahp\\AppData\\Local\\Temp\\ipykernel_12448\\3743807202.py:10: PerformanceWarning: DataFrame is highly fragmented.  This is usually the result of calling `frame.insert` many times, which has poor performance.  Consider joining all columns at once using pd.concat(axis=1) instead. To get a de-fragmented frame, use `newframe = frame.copy()`\n",
      "  df[f\"{col}_month\"] = df[col].dt.month\n",
      "C:\\Users\\shahp\\AppData\\Local\\Temp\\ipykernel_12448\\3743807202.py:11: PerformanceWarning: DataFrame is highly fragmented.  This is usually the result of calling `frame.insert` many times, which has poor performance.  Consider joining all columns at once using pd.concat(axis=1) instead. To get a de-fragmented frame, use `newframe = frame.copy()`\n",
      "  df[f\"{col}_day\"] = df[col].dt.day\n",
      "C:\\Users\\shahp\\AppData\\Local\\Temp\\ipykernel_12448\\3743807202.py:9: PerformanceWarning: DataFrame is highly fragmented.  This is usually the result of calling `frame.insert` many times, which has poor performance.  Consider joining all columns at once using pd.concat(axis=1) instead. To get a de-fragmented frame, use `newframe = frame.copy()`\n",
      "  df[f\"{col}_year\"] = df[col].dt.year\n",
      "C:\\Users\\shahp\\AppData\\Local\\Temp\\ipykernel_12448\\3743807202.py:10: PerformanceWarning: DataFrame is highly fragmented.  This is usually the result of calling `frame.insert` many times, which has poor performance.  Consider joining all columns at once using pd.concat(axis=1) instead. To get a de-fragmented frame, use `newframe = frame.copy()`\n",
      "  df[f\"{col}_month\"] = df[col].dt.month\n",
      "C:\\Users\\shahp\\AppData\\Local\\Temp\\ipykernel_12448\\3743807202.py:11: PerformanceWarning: DataFrame is highly fragmented.  This is usually the result of calling `frame.insert` many times, which has poor performance.  Consider joining all columns at once using pd.concat(axis=1) instead. To get a de-fragmented frame, use `newframe = frame.copy()`\n",
      "  df[f\"{col}_day\"] = df[col].dt.day\n"
     ]
    },
    {
     "name": "stdout",
     "output_type": "stream",
     "text": [
      "Processed datetime column: Field6\n"
     ]
    },
    {
     "name": "stderr",
     "output_type": "stream",
     "text": [
      "C:\\Users\\shahp\\AppData\\Local\\Temp\\ipykernel_12448\\3743807202.py:4: UserWarning: Could not infer format, so each element will be parsed individually, falling back to `dateutil`. To ensure parsing is consistent and as-expected, please specify a format.\n",
      "  X_train[col] = pd.to_datetime(X_train[col], errors='coerce')\n",
      "C:\\Users\\shahp\\AppData\\Local\\Temp\\ipykernel_12448\\3743807202.py:5: UserWarning: Could not infer format, so each element will be parsed individually, falling back to `dateutil`. To ensure parsing is consistent and as-expected, please specify a format.\n",
      "  X_valid[col] = pd.to_datetime(X_valid[col], errors='coerce')\n",
      "C:\\Users\\shahp\\AppData\\Local\\Temp\\ipykernel_12448\\3743807202.py:6: UserWarning: Could not infer format, so each element will be parsed individually, falling back to `dateutil`. To ensure parsing is consistent and as-expected, please specify a format.\n",
      "  test_data[col] = pd.to_datetime(test_data[col], errors='coerce')\n",
      "C:\\Users\\shahp\\AppData\\Local\\Temp\\ipykernel_12448\\3743807202.py:9: PerformanceWarning: DataFrame is highly fragmented.  This is usually the result of calling `frame.insert` many times, which has poor performance.  Consider joining all columns at once using pd.concat(axis=1) instead. To get a de-fragmented frame, use `newframe = frame.copy()`\n",
      "  df[f\"{col}_year\"] = df[col].dt.year\n",
      "C:\\Users\\shahp\\AppData\\Local\\Temp\\ipykernel_12448\\3743807202.py:10: PerformanceWarning: DataFrame is highly fragmented.  This is usually the result of calling `frame.insert` many times, which has poor performance.  Consider joining all columns at once using pd.concat(axis=1) instead. To get a de-fragmented frame, use `newframe = frame.copy()`\n",
      "  df[f\"{col}_month\"] = df[col].dt.month\n",
      "C:\\Users\\shahp\\AppData\\Local\\Temp\\ipykernel_12448\\3743807202.py:11: PerformanceWarning: DataFrame is highly fragmented.  This is usually the result of calling `frame.insert` many times, which has poor performance.  Consider joining all columns at once using pd.concat(axis=1) instead. To get a de-fragmented frame, use `newframe = frame.copy()`\n",
      "  df[f\"{col}_day\"] = df[col].dt.day\n",
      "C:\\Users\\shahp\\AppData\\Local\\Temp\\ipykernel_12448\\3743807202.py:9: PerformanceWarning: DataFrame is highly fragmented.  This is usually the result of calling `frame.insert` many times, which has poor performance.  Consider joining all columns at once using pd.concat(axis=1) instead. To get a de-fragmented frame, use `newframe = frame.copy()`\n",
      "  df[f\"{col}_year\"] = df[col].dt.year\n",
      "C:\\Users\\shahp\\AppData\\Local\\Temp\\ipykernel_12448\\3743807202.py:10: PerformanceWarning: DataFrame is highly fragmented.  This is usually the result of calling `frame.insert` many times, which has poor performance.  Consider joining all columns at once using pd.concat(axis=1) instead. To get a de-fragmented frame, use `newframe = frame.copy()`\n",
      "  df[f\"{col}_month\"] = df[col].dt.month\n",
      "C:\\Users\\shahp\\AppData\\Local\\Temp\\ipykernel_12448\\3743807202.py:11: PerformanceWarning: DataFrame is highly fragmented.  This is usually the result of calling `frame.insert` many times, which has poor performance.  Consider joining all columns at once using pd.concat(axis=1) instead. To get a de-fragmented frame, use `newframe = frame.copy()`\n",
      "  df[f\"{col}_day\"] = df[col].dt.day\n",
      "C:\\Users\\shahp\\AppData\\Local\\Temp\\ipykernel_12448\\3743807202.py:9: PerformanceWarning: DataFrame is highly fragmented.  This is usually the result of calling `frame.insert` many times, which has poor performance.  Consider joining all columns at once using pd.concat(axis=1) instead. To get a de-fragmented frame, use `newframe = frame.copy()`\n",
      "  df[f\"{col}_year\"] = df[col].dt.year\n",
      "C:\\Users\\shahp\\AppData\\Local\\Temp\\ipykernel_12448\\3743807202.py:10: PerformanceWarning: DataFrame is highly fragmented.  This is usually the result of calling `frame.insert` many times, which has poor performance.  Consider joining all columns at once using pd.concat(axis=1) instead. To get a de-fragmented frame, use `newframe = frame.copy()`\n",
      "  df[f\"{col}_month\"] = df[col].dt.month\n",
      "C:\\Users\\shahp\\AppData\\Local\\Temp\\ipykernel_12448\\3743807202.py:11: PerformanceWarning: DataFrame is highly fragmented.  This is usually the result of calling `frame.insert` many times, which has poor performance.  Consider joining all columns at once using pd.concat(axis=1) instead. To get a de-fragmented frame, use `newframe = frame.copy()`\n",
      "  df[f\"{col}_day\"] = df[col].dt.day\n"
     ]
    },
    {
     "name": "stdout",
     "output_type": "stream",
     "text": [
      "Processed datetime column: Field10\n"
     ]
    },
    {
     "name": "stderr",
     "output_type": "stream",
     "text": [
      "C:\\Users\\shahp\\AppData\\Local\\Temp\\ipykernel_12448\\3743807202.py:4: UserWarning: Could not infer format, so each element will be parsed individually, falling back to `dateutil`. To ensure parsing is consistent and as-expected, please specify a format.\n",
      "  X_train[col] = pd.to_datetime(X_train[col], errors='coerce')\n",
      "C:\\Users\\shahp\\AppData\\Local\\Temp\\ipykernel_12448\\3743807202.py:5: UserWarning: Could not infer format, so each element will be parsed individually, falling back to `dateutil`. To ensure parsing is consistent and as-expected, please specify a format.\n",
      "  X_valid[col] = pd.to_datetime(X_valid[col], errors='coerce')\n",
      "C:\\Users\\shahp\\AppData\\Local\\Temp\\ipykernel_12448\\3743807202.py:6: UserWarning: Could not infer format, so each element will be parsed individually, falling back to `dateutil`. To ensure parsing is consistent and as-expected, please specify a format.\n",
      "  test_data[col] = pd.to_datetime(test_data[col], errors='coerce')\n",
      "C:\\Users\\shahp\\AppData\\Local\\Temp\\ipykernel_12448\\3743807202.py:9: PerformanceWarning: DataFrame is highly fragmented.  This is usually the result of calling `frame.insert` many times, which has poor performance.  Consider joining all columns at once using pd.concat(axis=1) instead. To get a de-fragmented frame, use `newframe = frame.copy()`\n",
      "  df[f\"{col}_year\"] = df[col].dt.year\n",
      "C:\\Users\\shahp\\AppData\\Local\\Temp\\ipykernel_12448\\3743807202.py:10: PerformanceWarning: DataFrame is highly fragmented.  This is usually the result of calling `frame.insert` many times, which has poor performance.  Consider joining all columns at once using pd.concat(axis=1) instead. To get a de-fragmented frame, use `newframe = frame.copy()`\n",
      "  df[f\"{col}_month\"] = df[col].dt.month\n",
      "C:\\Users\\shahp\\AppData\\Local\\Temp\\ipykernel_12448\\3743807202.py:11: PerformanceWarning: DataFrame is highly fragmented.  This is usually the result of calling `frame.insert` many times, which has poor performance.  Consider joining all columns at once using pd.concat(axis=1) instead. To get a de-fragmented frame, use `newframe = frame.copy()`\n",
      "  df[f\"{col}_day\"] = df[col].dt.day\n",
      "C:\\Users\\shahp\\AppData\\Local\\Temp\\ipykernel_12448\\3743807202.py:9: PerformanceWarning: DataFrame is highly fragmented.  This is usually the result of calling `frame.insert` many times, which has poor performance.  Consider joining all columns at once using pd.concat(axis=1) instead. To get a de-fragmented frame, use `newframe = frame.copy()`\n",
      "  df[f\"{col}_year\"] = df[col].dt.year\n",
      "C:\\Users\\shahp\\AppData\\Local\\Temp\\ipykernel_12448\\3743807202.py:10: PerformanceWarning: DataFrame is highly fragmented.  This is usually the result of calling `frame.insert` many times, which has poor performance.  Consider joining all columns at once using pd.concat(axis=1) instead. To get a de-fragmented frame, use `newframe = frame.copy()`\n",
      "  df[f\"{col}_month\"] = df[col].dt.month\n",
      "C:\\Users\\shahp\\AppData\\Local\\Temp\\ipykernel_12448\\3743807202.py:11: PerformanceWarning: DataFrame is highly fragmented.  This is usually the result of calling `frame.insert` many times, which has poor performance.  Consider joining all columns at once using pd.concat(axis=1) instead. To get a de-fragmented frame, use `newframe = frame.copy()`\n",
      "  df[f\"{col}_day\"] = df[col].dt.day\n",
      "C:\\Users\\shahp\\AppData\\Local\\Temp\\ipykernel_12448\\3743807202.py:9: PerformanceWarning: DataFrame is highly fragmented.  This is usually the result of calling `frame.insert` many times, which has poor performance.  Consider joining all columns at once using pd.concat(axis=1) instead. To get a de-fragmented frame, use `newframe = frame.copy()`\n",
      "  df[f\"{col}_year\"] = df[col].dt.year\n",
      "C:\\Users\\shahp\\AppData\\Local\\Temp\\ipykernel_12448\\3743807202.py:10: PerformanceWarning: DataFrame is highly fragmented.  This is usually the result of calling `frame.insert` many times, which has poor performance.  Consider joining all columns at once using pd.concat(axis=1) instead. To get a de-fragmented frame, use `newframe = frame.copy()`\n",
      "  df[f\"{col}_month\"] = df[col].dt.month\n",
      "C:\\Users\\shahp\\AppData\\Local\\Temp\\ipykernel_12448\\3743807202.py:11: PerformanceWarning: DataFrame is highly fragmented.  This is usually the result of calling `frame.insert` many times, which has poor performance.  Consider joining all columns at once using pd.concat(axis=1) instead. To get a de-fragmented frame, use `newframe = frame.copy()`\n",
      "  df[f\"{col}_day\"] = df[col].dt.day\n"
     ]
    },
    {
     "name": "stdout",
     "output_type": "stream",
     "text": [
      "Processed datetime column: Field12\n"
     ]
    },
    {
     "name": "stderr",
     "output_type": "stream",
     "text": [
      "C:\\Users\\shahp\\AppData\\Local\\Temp\\ipykernel_12448\\3743807202.py:4: UserWarning: Could not infer format, so each element will be parsed individually, falling back to `dateutil`. To ensure parsing is consistent and as-expected, please specify a format.\n",
      "  X_train[col] = pd.to_datetime(X_train[col], errors='coerce')\n",
      "C:\\Users\\shahp\\AppData\\Local\\Temp\\ipykernel_12448\\3743807202.py:5: UserWarning: Could not infer format, so each element will be parsed individually, falling back to `dateutil`. To ensure parsing is consistent and as-expected, please specify a format.\n",
      "  X_valid[col] = pd.to_datetime(X_valid[col], errors='coerce')\n",
      "C:\\Users\\shahp\\AppData\\Local\\Temp\\ipykernel_12448\\3743807202.py:6: UserWarning: Could not infer format, so each element will be parsed individually, falling back to `dateutil`. To ensure parsing is consistent and as-expected, please specify a format.\n",
      "  test_data[col] = pd.to_datetime(test_data[col], errors='coerce')\n",
      "C:\\Users\\shahp\\AppData\\Local\\Temp\\ipykernel_12448\\3743807202.py:9: PerformanceWarning: DataFrame is highly fragmented.  This is usually the result of calling `frame.insert` many times, which has poor performance.  Consider joining all columns at once using pd.concat(axis=1) instead. To get a de-fragmented frame, use `newframe = frame.copy()`\n",
      "  df[f\"{col}_year\"] = df[col].dt.year\n",
      "C:\\Users\\shahp\\AppData\\Local\\Temp\\ipykernel_12448\\3743807202.py:10: PerformanceWarning: DataFrame is highly fragmented.  This is usually the result of calling `frame.insert` many times, which has poor performance.  Consider joining all columns at once using pd.concat(axis=1) instead. To get a de-fragmented frame, use `newframe = frame.copy()`\n",
      "  df[f\"{col}_month\"] = df[col].dt.month\n",
      "C:\\Users\\shahp\\AppData\\Local\\Temp\\ipykernel_12448\\3743807202.py:11: PerformanceWarning: DataFrame is highly fragmented.  This is usually the result of calling `frame.insert` many times, which has poor performance.  Consider joining all columns at once using pd.concat(axis=1) instead. To get a de-fragmented frame, use `newframe = frame.copy()`\n",
      "  df[f\"{col}_day\"] = df[col].dt.day\n",
      "C:\\Users\\shahp\\AppData\\Local\\Temp\\ipykernel_12448\\3743807202.py:9: PerformanceWarning: DataFrame is highly fragmented.  This is usually the result of calling `frame.insert` many times, which has poor performance.  Consider joining all columns at once using pd.concat(axis=1) instead. To get a de-fragmented frame, use `newframe = frame.copy()`\n",
      "  df[f\"{col}_year\"] = df[col].dt.year\n",
      "C:\\Users\\shahp\\AppData\\Local\\Temp\\ipykernel_12448\\3743807202.py:10: PerformanceWarning: DataFrame is highly fragmented.  This is usually the result of calling `frame.insert` many times, which has poor performance.  Consider joining all columns at once using pd.concat(axis=1) instead. To get a de-fragmented frame, use `newframe = frame.copy()`\n",
      "  df[f\"{col}_month\"] = df[col].dt.month\n",
      "C:\\Users\\shahp\\AppData\\Local\\Temp\\ipykernel_12448\\3743807202.py:11: PerformanceWarning: DataFrame is highly fragmented.  This is usually the result of calling `frame.insert` many times, which has poor performance.  Consider joining all columns at once using pd.concat(axis=1) instead. To get a de-fragmented frame, use `newframe = frame.copy()`\n",
      "  df[f\"{col}_day\"] = df[col].dt.day\n",
      "C:\\Users\\shahp\\AppData\\Local\\Temp\\ipykernel_12448\\3743807202.py:9: PerformanceWarning: DataFrame is highly fragmented.  This is usually the result of calling `frame.insert` many times, which has poor performance.  Consider joining all columns at once using pd.concat(axis=1) instead. To get a de-fragmented frame, use `newframe = frame.copy()`\n",
      "  df[f\"{col}_year\"] = df[col].dt.year\n",
      "C:\\Users\\shahp\\AppData\\Local\\Temp\\ipykernel_12448\\3743807202.py:10: PerformanceWarning: DataFrame is highly fragmented.  This is usually the result of calling `frame.insert` many times, which has poor performance.  Consider joining all columns at once using pd.concat(axis=1) instead. To get a de-fragmented frame, use `newframe = frame.copy()`\n",
      "  df[f\"{col}_month\"] = df[col].dt.month\n",
      "C:\\Users\\shahp\\AppData\\Local\\Temp\\ipykernel_12448\\3743807202.py:11: PerformanceWarning: DataFrame is highly fragmented.  This is usually the result of calling `frame.insert` many times, which has poor performance.  Consider joining all columns at once using pd.concat(axis=1) instead. To get a de-fragmented frame, use `newframe = frame.copy()`\n",
      "  df[f\"{col}_day\"] = df[col].dt.day\n"
     ]
    },
    {
     "name": "stdout",
     "output_type": "stream",
     "text": [
      "Processed datetime column: CoverageField8\n"
     ]
    },
    {
     "name": "stderr",
     "output_type": "stream",
     "text": [
      "C:\\Users\\shahp\\AppData\\Local\\Temp\\ipykernel_12448\\3743807202.py:4: UserWarning: Could not infer format, so each element will be parsed individually, falling back to `dateutil`. To ensure parsing is consistent and as-expected, please specify a format.\n",
      "  X_train[col] = pd.to_datetime(X_train[col], errors='coerce')\n",
      "C:\\Users\\shahp\\AppData\\Local\\Temp\\ipykernel_12448\\3743807202.py:5: UserWarning: Could not infer format, so each element will be parsed individually, falling back to `dateutil`. To ensure parsing is consistent and as-expected, please specify a format.\n",
      "  X_valid[col] = pd.to_datetime(X_valid[col], errors='coerce')\n",
      "C:\\Users\\shahp\\AppData\\Local\\Temp\\ipykernel_12448\\3743807202.py:6: UserWarning: Could not infer format, so each element will be parsed individually, falling back to `dateutil`. To ensure parsing is consistent and as-expected, please specify a format.\n",
      "  test_data[col] = pd.to_datetime(test_data[col], errors='coerce')\n",
      "C:\\Users\\shahp\\AppData\\Local\\Temp\\ipykernel_12448\\3743807202.py:9: PerformanceWarning: DataFrame is highly fragmented.  This is usually the result of calling `frame.insert` many times, which has poor performance.  Consider joining all columns at once using pd.concat(axis=1) instead. To get a de-fragmented frame, use `newframe = frame.copy()`\n",
      "  df[f\"{col}_year\"] = df[col].dt.year\n",
      "C:\\Users\\shahp\\AppData\\Local\\Temp\\ipykernel_12448\\3743807202.py:10: PerformanceWarning: DataFrame is highly fragmented.  This is usually the result of calling `frame.insert` many times, which has poor performance.  Consider joining all columns at once using pd.concat(axis=1) instead. To get a de-fragmented frame, use `newframe = frame.copy()`\n",
      "  df[f\"{col}_month\"] = df[col].dt.month\n",
      "C:\\Users\\shahp\\AppData\\Local\\Temp\\ipykernel_12448\\3743807202.py:11: PerformanceWarning: DataFrame is highly fragmented.  This is usually the result of calling `frame.insert` many times, which has poor performance.  Consider joining all columns at once using pd.concat(axis=1) instead. To get a de-fragmented frame, use `newframe = frame.copy()`\n",
      "  df[f\"{col}_day\"] = df[col].dt.day\n",
      "C:\\Users\\shahp\\AppData\\Local\\Temp\\ipykernel_12448\\3743807202.py:9: PerformanceWarning: DataFrame is highly fragmented.  This is usually the result of calling `frame.insert` many times, which has poor performance.  Consider joining all columns at once using pd.concat(axis=1) instead. To get a de-fragmented frame, use `newframe = frame.copy()`\n",
      "  df[f\"{col}_year\"] = df[col].dt.year\n",
      "C:\\Users\\shahp\\AppData\\Local\\Temp\\ipykernel_12448\\3743807202.py:10: PerformanceWarning: DataFrame is highly fragmented.  This is usually the result of calling `frame.insert` many times, which has poor performance.  Consider joining all columns at once using pd.concat(axis=1) instead. To get a de-fragmented frame, use `newframe = frame.copy()`\n",
      "  df[f\"{col}_month\"] = df[col].dt.month\n",
      "C:\\Users\\shahp\\AppData\\Local\\Temp\\ipykernel_12448\\3743807202.py:11: PerformanceWarning: DataFrame is highly fragmented.  This is usually the result of calling `frame.insert` many times, which has poor performance.  Consider joining all columns at once using pd.concat(axis=1) instead. To get a de-fragmented frame, use `newframe = frame.copy()`\n",
      "  df[f\"{col}_day\"] = df[col].dt.day\n",
      "C:\\Users\\shahp\\AppData\\Local\\Temp\\ipykernel_12448\\3743807202.py:9: PerformanceWarning: DataFrame is highly fragmented.  This is usually the result of calling `frame.insert` many times, which has poor performance.  Consider joining all columns at once using pd.concat(axis=1) instead. To get a de-fragmented frame, use `newframe = frame.copy()`\n",
      "  df[f\"{col}_year\"] = df[col].dt.year\n",
      "C:\\Users\\shahp\\AppData\\Local\\Temp\\ipykernel_12448\\3743807202.py:10: PerformanceWarning: DataFrame is highly fragmented.  This is usually the result of calling `frame.insert` many times, which has poor performance.  Consider joining all columns at once using pd.concat(axis=1) instead. To get a de-fragmented frame, use `newframe = frame.copy()`\n",
      "  df[f\"{col}_month\"] = df[col].dt.month\n",
      "C:\\Users\\shahp\\AppData\\Local\\Temp\\ipykernel_12448\\3743807202.py:11: PerformanceWarning: DataFrame is highly fragmented.  This is usually the result of calling `frame.insert` many times, which has poor performance.  Consider joining all columns at once using pd.concat(axis=1) instead. To get a de-fragmented frame, use `newframe = frame.copy()`\n",
      "  df[f\"{col}_day\"] = df[col].dt.day\n"
     ]
    },
    {
     "name": "stdout",
     "output_type": "stream",
     "text": [
      "Processed datetime column: CoverageField9\n"
     ]
    },
    {
     "name": "stderr",
     "output_type": "stream",
     "text": [
      "C:\\Users\\shahp\\AppData\\Local\\Temp\\ipykernel_12448\\3743807202.py:4: UserWarning: Could not infer format, so each element will be parsed individually, falling back to `dateutil`. To ensure parsing is consistent and as-expected, please specify a format.\n",
      "  X_train[col] = pd.to_datetime(X_train[col], errors='coerce')\n",
      "C:\\Users\\shahp\\AppData\\Local\\Temp\\ipykernel_12448\\3743807202.py:5: UserWarning: Could not infer format, so each element will be parsed individually, falling back to `dateutil`. To ensure parsing is consistent and as-expected, please specify a format.\n",
      "  X_valid[col] = pd.to_datetime(X_valid[col], errors='coerce')\n",
      "C:\\Users\\shahp\\AppData\\Local\\Temp\\ipykernel_12448\\3743807202.py:6: UserWarning: Could not infer format, so each element will be parsed individually, falling back to `dateutil`. To ensure parsing is consistent and as-expected, please specify a format.\n",
      "  test_data[col] = pd.to_datetime(test_data[col], errors='coerce')\n",
      "C:\\Users\\shahp\\AppData\\Local\\Temp\\ipykernel_12448\\3743807202.py:9: PerformanceWarning: DataFrame is highly fragmented.  This is usually the result of calling `frame.insert` many times, which has poor performance.  Consider joining all columns at once using pd.concat(axis=1) instead. To get a de-fragmented frame, use `newframe = frame.copy()`\n",
      "  df[f\"{col}_year\"] = df[col].dt.year\n",
      "C:\\Users\\shahp\\AppData\\Local\\Temp\\ipykernel_12448\\3743807202.py:10: PerformanceWarning: DataFrame is highly fragmented.  This is usually the result of calling `frame.insert` many times, which has poor performance.  Consider joining all columns at once using pd.concat(axis=1) instead. To get a de-fragmented frame, use `newframe = frame.copy()`\n",
      "  df[f\"{col}_month\"] = df[col].dt.month\n",
      "C:\\Users\\shahp\\AppData\\Local\\Temp\\ipykernel_12448\\3743807202.py:11: PerformanceWarning: DataFrame is highly fragmented.  This is usually the result of calling `frame.insert` many times, which has poor performance.  Consider joining all columns at once using pd.concat(axis=1) instead. To get a de-fragmented frame, use `newframe = frame.copy()`\n",
      "  df[f\"{col}_day\"] = df[col].dt.day\n",
      "C:\\Users\\shahp\\AppData\\Local\\Temp\\ipykernel_12448\\3743807202.py:9: PerformanceWarning: DataFrame is highly fragmented.  This is usually the result of calling `frame.insert` many times, which has poor performance.  Consider joining all columns at once using pd.concat(axis=1) instead. To get a de-fragmented frame, use `newframe = frame.copy()`\n",
      "  df[f\"{col}_year\"] = df[col].dt.year\n",
      "C:\\Users\\shahp\\AppData\\Local\\Temp\\ipykernel_12448\\3743807202.py:10: PerformanceWarning: DataFrame is highly fragmented.  This is usually the result of calling `frame.insert` many times, which has poor performance.  Consider joining all columns at once using pd.concat(axis=1) instead. To get a de-fragmented frame, use `newframe = frame.copy()`\n",
      "  df[f\"{col}_month\"] = df[col].dt.month\n",
      "C:\\Users\\shahp\\AppData\\Local\\Temp\\ipykernel_12448\\3743807202.py:11: PerformanceWarning: DataFrame is highly fragmented.  This is usually the result of calling `frame.insert` many times, which has poor performance.  Consider joining all columns at once using pd.concat(axis=1) instead. To get a de-fragmented frame, use `newframe = frame.copy()`\n",
      "  df[f\"{col}_day\"] = df[col].dt.day\n",
      "C:\\Users\\shahp\\AppData\\Local\\Temp\\ipykernel_12448\\3743807202.py:9: PerformanceWarning: DataFrame is highly fragmented.  This is usually the result of calling `frame.insert` many times, which has poor performance.  Consider joining all columns at once using pd.concat(axis=1) instead. To get a de-fragmented frame, use `newframe = frame.copy()`\n",
      "  df[f\"{col}_year\"] = df[col].dt.year\n",
      "C:\\Users\\shahp\\AppData\\Local\\Temp\\ipykernel_12448\\3743807202.py:10: PerformanceWarning: DataFrame is highly fragmented.  This is usually the result of calling `frame.insert` many times, which has poor performance.  Consider joining all columns at once using pd.concat(axis=1) instead. To get a de-fragmented frame, use `newframe = frame.copy()`\n",
      "  df[f\"{col}_month\"] = df[col].dt.month\n",
      "C:\\Users\\shahp\\AppData\\Local\\Temp\\ipykernel_12448\\3743807202.py:11: PerformanceWarning: DataFrame is highly fragmented.  This is usually the result of calling `frame.insert` many times, which has poor performance.  Consider joining all columns at once using pd.concat(axis=1) instead. To get a de-fragmented frame, use `newframe = frame.copy()`\n",
      "  df[f\"{col}_day\"] = df[col].dt.day\n"
     ]
    },
    {
     "name": "stdout",
     "output_type": "stream",
     "text": [
      "Processed datetime column: SalesField7\n"
     ]
    },
    {
     "name": "stderr",
     "output_type": "stream",
     "text": [
      "C:\\Users\\shahp\\AppData\\Local\\Temp\\ipykernel_12448\\3743807202.py:4: UserWarning: Could not infer format, so each element will be parsed individually, falling back to `dateutil`. To ensure parsing is consistent and as-expected, please specify a format.\n",
      "  X_train[col] = pd.to_datetime(X_train[col], errors='coerce')\n",
      "C:\\Users\\shahp\\AppData\\Local\\Temp\\ipykernel_12448\\3743807202.py:5: UserWarning: Could not infer format, so each element will be parsed individually, falling back to `dateutil`. To ensure parsing is consistent and as-expected, please specify a format.\n",
      "  X_valid[col] = pd.to_datetime(X_valid[col], errors='coerce')\n",
      "C:\\Users\\shahp\\AppData\\Local\\Temp\\ipykernel_12448\\3743807202.py:6: UserWarning: Could not infer format, so each element will be parsed individually, falling back to `dateutil`. To ensure parsing is consistent and as-expected, please specify a format.\n",
      "  test_data[col] = pd.to_datetime(test_data[col], errors='coerce')\n",
      "C:\\Users\\shahp\\AppData\\Local\\Temp\\ipykernel_12448\\3743807202.py:9: PerformanceWarning: DataFrame is highly fragmented.  This is usually the result of calling `frame.insert` many times, which has poor performance.  Consider joining all columns at once using pd.concat(axis=1) instead. To get a de-fragmented frame, use `newframe = frame.copy()`\n",
      "  df[f\"{col}_year\"] = df[col].dt.year\n",
      "C:\\Users\\shahp\\AppData\\Local\\Temp\\ipykernel_12448\\3743807202.py:10: PerformanceWarning: DataFrame is highly fragmented.  This is usually the result of calling `frame.insert` many times, which has poor performance.  Consider joining all columns at once using pd.concat(axis=1) instead. To get a de-fragmented frame, use `newframe = frame.copy()`\n",
      "  df[f\"{col}_month\"] = df[col].dt.month\n",
      "C:\\Users\\shahp\\AppData\\Local\\Temp\\ipykernel_12448\\3743807202.py:11: PerformanceWarning: DataFrame is highly fragmented.  This is usually the result of calling `frame.insert` many times, which has poor performance.  Consider joining all columns at once using pd.concat(axis=1) instead. To get a de-fragmented frame, use `newframe = frame.copy()`\n",
      "  df[f\"{col}_day\"] = df[col].dt.day\n",
      "C:\\Users\\shahp\\AppData\\Local\\Temp\\ipykernel_12448\\3743807202.py:9: PerformanceWarning: DataFrame is highly fragmented.  This is usually the result of calling `frame.insert` many times, which has poor performance.  Consider joining all columns at once using pd.concat(axis=1) instead. To get a de-fragmented frame, use `newframe = frame.copy()`\n",
      "  df[f\"{col}_year\"] = df[col].dt.year\n",
      "C:\\Users\\shahp\\AppData\\Local\\Temp\\ipykernel_12448\\3743807202.py:10: PerformanceWarning: DataFrame is highly fragmented.  This is usually the result of calling `frame.insert` many times, which has poor performance.  Consider joining all columns at once using pd.concat(axis=1) instead. To get a de-fragmented frame, use `newframe = frame.copy()`\n",
      "  df[f\"{col}_month\"] = df[col].dt.month\n",
      "C:\\Users\\shahp\\AppData\\Local\\Temp\\ipykernel_12448\\3743807202.py:11: PerformanceWarning: DataFrame is highly fragmented.  This is usually the result of calling `frame.insert` many times, which has poor performance.  Consider joining all columns at once using pd.concat(axis=1) instead. To get a de-fragmented frame, use `newframe = frame.copy()`\n",
      "  df[f\"{col}_day\"] = df[col].dt.day\n",
      "C:\\Users\\shahp\\AppData\\Local\\Temp\\ipykernel_12448\\3743807202.py:9: PerformanceWarning: DataFrame is highly fragmented.  This is usually the result of calling `frame.insert` many times, which has poor performance.  Consider joining all columns at once using pd.concat(axis=1) instead. To get a de-fragmented frame, use `newframe = frame.copy()`\n",
      "  df[f\"{col}_year\"] = df[col].dt.year\n",
      "C:\\Users\\shahp\\AppData\\Local\\Temp\\ipykernel_12448\\3743807202.py:10: PerformanceWarning: DataFrame is highly fragmented.  This is usually the result of calling `frame.insert` many times, which has poor performance.  Consider joining all columns at once using pd.concat(axis=1) instead. To get a de-fragmented frame, use `newframe = frame.copy()`\n",
      "  df[f\"{col}_month\"] = df[col].dt.month\n",
      "C:\\Users\\shahp\\AppData\\Local\\Temp\\ipykernel_12448\\3743807202.py:11: PerformanceWarning: DataFrame is highly fragmented.  This is usually the result of calling `frame.insert` many times, which has poor performance.  Consider joining all columns at once using pd.concat(axis=1) instead. To get a de-fragmented frame, use `newframe = frame.copy()`\n",
      "  df[f\"{col}_day\"] = df[col].dt.day\n"
     ]
    },
    {
     "name": "stdout",
     "output_type": "stream",
     "text": [
      "Processed datetime column: PersonalField7\n"
     ]
    },
    {
     "name": "stderr",
     "output_type": "stream",
     "text": [
      "C:\\Users\\shahp\\AppData\\Local\\Temp\\ipykernel_12448\\3743807202.py:4: UserWarning: Could not infer format, so each element will be parsed individually, falling back to `dateutil`. To ensure parsing is consistent and as-expected, please specify a format.\n",
      "  X_train[col] = pd.to_datetime(X_train[col], errors='coerce')\n",
      "C:\\Users\\shahp\\AppData\\Local\\Temp\\ipykernel_12448\\3743807202.py:5: UserWarning: Could not infer format, so each element will be parsed individually, falling back to `dateutil`. To ensure parsing is consistent and as-expected, please specify a format.\n",
      "  X_valid[col] = pd.to_datetime(X_valid[col], errors='coerce')\n",
      "C:\\Users\\shahp\\AppData\\Local\\Temp\\ipykernel_12448\\3743807202.py:6: UserWarning: Could not infer format, so each element will be parsed individually, falling back to `dateutil`. To ensure parsing is consistent and as-expected, please specify a format.\n",
      "  test_data[col] = pd.to_datetime(test_data[col], errors='coerce')\n",
      "C:\\Users\\shahp\\AppData\\Local\\Temp\\ipykernel_12448\\3743807202.py:9: PerformanceWarning: DataFrame is highly fragmented.  This is usually the result of calling `frame.insert` many times, which has poor performance.  Consider joining all columns at once using pd.concat(axis=1) instead. To get a de-fragmented frame, use `newframe = frame.copy()`\n",
      "  df[f\"{col}_year\"] = df[col].dt.year\n",
      "C:\\Users\\shahp\\AppData\\Local\\Temp\\ipykernel_12448\\3743807202.py:10: PerformanceWarning: DataFrame is highly fragmented.  This is usually the result of calling `frame.insert` many times, which has poor performance.  Consider joining all columns at once using pd.concat(axis=1) instead. To get a de-fragmented frame, use `newframe = frame.copy()`\n",
      "  df[f\"{col}_month\"] = df[col].dt.month\n",
      "C:\\Users\\shahp\\AppData\\Local\\Temp\\ipykernel_12448\\3743807202.py:11: PerformanceWarning: DataFrame is highly fragmented.  This is usually the result of calling `frame.insert` many times, which has poor performance.  Consider joining all columns at once using pd.concat(axis=1) instead. To get a de-fragmented frame, use `newframe = frame.copy()`\n",
      "  df[f\"{col}_day\"] = df[col].dt.day\n",
      "C:\\Users\\shahp\\AppData\\Local\\Temp\\ipykernel_12448\\3743807202.py:9: PerformanceWarning: DataFrame is highly fragmented.  This is usually the result of calling `frame.insert` many times, which has poor performance.  Consider joining all columns at once using pd.concat(axis=1) instead. To get a de-fragmented frame, use `newframe = frame.copy()`\n",
      "  df[f\"{col}_year\"] = df[col].dt.year\n",
      "C:\\Users\\shahp\\AppData\\Local\\Temp\\ipykernel_12448\\3743807202.py:10: PerformanceWarning: DataFrame is highly fragmented.  This is usually the result of calling `frame.insert` many times, which has poor performance.  Consider joining all columns at once using pd.concat(axis=1) instead. To get a de-fragmented frame, use `newframe = frame.copy()`\n",
      "  df[f\"{col}_month\"] = df[col].dt.month\n",
      "C:\\Users\\shahp\\AppData\\Local\\Temp\\ipykernel_12448\\3743807202.py:11: PerformanceWarning: DataFrame is highly fragmented.  This is usually the result of calling `frame.insert` many times, which has poor performance.  Consider joining all columns at once using pd.concat(axis=1) instead. To get a de-fragmented frame, use `newframe = frame.copy()`\n",
      "  df[f\"{col}_day\"] = df[col].dt.day\n",
      "C:\\Users\\shahp\\AppData\\Local\\Temp\\ipykernel_12448\\3743807202.py:9: PerformanceWarning: DataFrame is highly fragmented.  This is usually the result of calling `frame.insert` many times, which has poor performance.  Consider joining all columns at once using pd.concat(axis=1) instead. To get a de-fragmented frame, use `newframe = frame.copy()`\n",
      "  df[f\"{col}_year\"] = df[col].dt.year\n",
      "C:\\Users\\shahp\\AppData\\Local\\Temp\\ipykernel_12448\\3743807202.py:10: PerformanceWarning: DataFrame is highly fragmented.  This is usually the result of calling `frame.insert` many times, which has poor performance.  Consider joining all columns at once using pd.concat(axis=1) instead. To get a de-fragmented frame, use `newframe = frame.copy()`\n",
      "  df[f\"{col}_month\"] = df[col].dt.month\n",
      "C:\\Users\\shahp\\AppData\\Local\\Temp\\ipykernel_12448\\3743807202.py:11: PerformanceWarning: DataFrame is highly fragmented.  This is usually the result of calling `frame.insert` many times, which has poor performance.  Consider joining all columns at once using pd.concat(axis=1) instead. To get a de-fragmented frame, use `newframe = frame.copy()`\n",
      "  df[f\"{col}_day\"] = df[col].dt.day\n"
     ]
    },
    {
     "name": "stdout",
     "output_type": "stream",
     "text": [
      "Processed datetime column: PersonalField16\n"
     ]
    },
    {
     "name": "stderr",
     "output_type": "stream",
     "text": [
      "C:\\Users\\shahp\\AppData\\Local\\Temp\\ipykernel_12448\\3743807202.py:4: UserWarning: Could not infer format, so each element will be parsed individually, falling back to `dateutil`. To ensure parsing is consistent and as-expected, please specify a format.\n",
      "  X_train[col] = pd.to_datetime(X_train[col], errors='coerce')\n",
      "C:\\Users\\shahp\\AppData\\Local\\Temp\\ipykernel_12448\\3743807202.py:5: UserWarning: Could not infer format, so each element will be parsed individually, falling back to `dateutil`. To ensure parsing is consistent and as-expected, please specify a format.\n",
      "  X_valid[col] = pd.to_datetime(X_valid[col], errors='coerce')\n",
      "C:\\Users\\shahp\\AppData\\Local\\Temp\\ipykernel_12448\\3743807202.py:6: UserWarning: Could not infer format, so each element will be parsed individually, falling back to `dateutil`. To ensure parsing is consistent and as-expected, please specify a format.\n",
      "  test_data[col] = pd.to_datetime(test_data[col], errors='coerce')\n",
      "C:\\Users\\shahp\\AppData\\Local\\Temp\\ipykernel_12448\\3743807202.py:9: PerformanceWarning: DataFrame is highly fragmented.  This is usually the result of calling `frame.insert` many times, which has poor performance.  Consider joining all columns at once using pd.concat(axis=1) instead. To get a de-fragmented frame, use `newframe = frame.copy()`\n",
      "  df[f\"{col}_year\"] = df[col].dt.year\n",
      "C:\\Users\\shahp\\AppData\\Local\\Temp\\ipykernel_12448\\3743807202.py:10: PerformanceWarning: DataFrame is highly fragmented.  This is usually the result of calling `frame.insert` many times, which has poor performance.  Consider joining all columns at once using pd.concat(axis=1) instead. To get a de-fragmented frame, use `newframe = frame.copy()`\n",
      "  df[f\"{col}_month\"] = df[col].dt.month\n",
      "C:\\Users\\shahp\\AppData\\Local\\Temp\\ipykernel_12448\\3743807202.py:11: PerformanceWarning: DataFrame is highly fragmented.  This is usually the result of calling `frame.insert` many times, which has poor performance.  Consider joining all columns at once using pd.concat(axis=1) instead. To get a de-fragmented frame, use `newframe = frame.copy()`\n",
      "  df[f\"{col}_day\"] = df[col].dt.day\n",
      "C:\\Users\\shahp\\AppData\\Local\\Temp\\ipykernel_12448\\3743807202.py:9: PerformanceWarning: DataFrame is highly fragmented.  This is usually the result of calling `frame.insert` many times, which has poor performance.  Consider joining all columns at once using pd.concat(axis=1) instead. To get a de-fragmented frame, use `newframe = frame.copy()`\n",
      "  df[f\"{col}_year\"] = df[col].dt.year\n",
      "C:\\Users\\shahp\\AppData\\Local\\Temp\\ipykernel_12448\\3743807202.py:10: PerformanceWarning: DataFrame is highly fragmented.  This is usually the result of calling `frame.insert` many times, which has poor performance.  Consider joining all columns at once using pd.concat(axis=1) instead. To get a de-fragmented frame, use `newframe = frame.copy()`\n",
      "  df[f\"{col}_month\"] = df[col].dt.month\n",
      "C:\\Users\\shahp\\AppData\\Local\\Temp\\ipykernel_12448\\3743807202.py:11: PerformanceWarning: DataFrame is highly fragmented.  This is usually the result of calling `frame.insert` many times, which has poor performance.  Consider joining all columns at once using pd.concat(axis=1) instead. To get a de-fragmented frame, use `newframe = frame.copy()`\n",
      "  df[f\"{col}_day\"] = df[col].dt.day\n",
      "C:\\Users\\shahp\\AppData\\Local\\Temp\\ipykernel_12448\\3743807202.py:9: PerformanceWarning: DataFrame is highly fragmented.  This is usually the result of calling `frame.insert` many times, which has poor performance.  Consider joining all columns at once using pd.concat(axis=1) instead. To get a de-fragmented frame, use `newframe = frame.copy()`\n",
      "  df[f\"{col}_year\"] = df[col].dt.year\n",
      "C:\\Users\\shahp\\AppData\\Local\\Temp\\ipykernel_12448\\3743807202.py:10: PerformanceWarning: DataFrame is highly fragmented.  This is usually the result of calling `frame.insert` many times, which has poor performance.  Consider joining all columns at once using pd.concat(axis=1) instead. To get a de-fragmented frame, use `newframe = frame.copy()`\n",
      "  df[f\"{col}_month\"] = df[col].dt.month\n",
      "C:\\Users\\shahp\\AppData\\Local\\Temp\\ipykernel_12448\\3743807202.py:11: PerformanceWarning: DataFrame is highly fragmented.  This is usually the result of calling `frame.insert` many times, which has poor performance.  Consider joining all columns at once using pd.concat(axis=1) instead. To get a de-fragmented frame, use `newframe = frame.copy()`\n",
      "  df[f\"{col}_day\"] = df[col].dt.day\n"
     ]
    },
    {
     "name": "stdout",
     "output_type": "stream",
     "text": [
      "Processed datetime column: PersonalField17\n"
     ]
    },
    {
     "name": "stderr",
     "output_type": "stream",
     "text": [
      "C:\\Users\\shahp\\AppData\\Local\\Temp\\ipykernel_12448\\3743807202.py:4: UserWarning: Could not infer format, so each element will be parsed individually, falling back to `dateutil`. To ensure parsing is consistent and as-expected, please specify a format.\n",
      "  X_train[col] = pd.to_datetime(X_train[col], errors='coerce')\n",
      "C:\\Users\\shahp\\AppData\\Local\\Temp\\ipykernel_12448\\3743807202.py:5: UserWarning: Could not infer format, so each element will be parsed individually, falling back to `dateutil`. To ensure parsing is consistent and as-expected, please specify a format.\n",
      "  X_valid[col] = pd.to_datetime(X_valid[col], errors='coerce')\n",
      "C:\\Users\\shahp\\AppData\\Local\\Temp\\ipykernel_12448\\3743807202.py:6: UserWarning: Could not infer format, so each element will be parsed individually, falling back to `dateutil`. To ensure parsing is consistent and as-expected, please specify a format.\n",
      "  test_data[col] = pd.to_datetime(test_data[col], errors='coerce')\n",
      "C:\\Users\\shahp\\AppData\\Local\\Temp\\ipykernel_12448\\3743807202.py:9: PerformanceWarning: DataFrame is highly fragmented.  This is usually the result of calling `frame.insert` many times, which has poor performance.  Consider joining all columns at once using pd.concat(axis=1) instead. To get a de-fragmented frame, use `newframe = frame.copy()`\n",
      "  df[f\"{col}_year\"] = df[col].dt.year\n",
      "C:\\Users\\shahp\\AppData\\Local\\Temp\\ipykernel_12448\\3743807202.py:10: PerformanceWarning: DataFrame is highly fragmented.  This is usually the result of calling `frame.insert` many times, which has poor performance.  Consider joining all columns at once using pd.concat(axis=1) instead. To get a de-fragmented frame, use `newframe = frame.copy()`\n",
      "  df[f\"{col}_month\"] = df[col].dt.month\n",
      "C:\\Users\\shahp\\AppData\\Local\\Temp\\ipykernel_12448\\3743807202.py:11: PerformanceWarning: DataFrame is highly fragmented.  This is usually the result of calling `frame.insert` many times, which has poor performance.  Consider joining all columns at once using pd.concat(axis=1) instead. To get a de-fragmented frame, use `newframe = frame.copy()`\n",
      "  df[f\"{col}_day\"] = df[col].dt.day\n",
      "C:\\Users\\shahp\\AppData\\Local\\Temp\\ipykernel_12448\\3743807202.py:9: PerformanceWarning: DataFrame is highly fragmented.  This is usually the result of calling `frame.insert` many times, which has poor performance.  Consider joining all columns at once using pd.concat(axis=1) instead. To get a de-fragmented frame, use `newframe = frame.copy()`\n",
      "  df[f\"{col}_year\"] = df[col].dt.year\n",
      "C:\\Users\\shahp\\AppData\\Local\\Temp\\ipykernel_12448\\3743807202.py:10: PerformanceWarning: DataFrame is highly fragmented.  This is usually the result of calling `frame.insert` many times, which has poor performance.  Consider joining all columns at once using pd.concat(axis=1) instead. To get a de-fragmented frame, use `newframe = frame.copy()`\n",
      "  df[f\"{col}_month\"] = df[col].dt.month\n",
      "C:\\Users\\shahp\\AppData\\Local\\Temp\\ipykernel_12448\\3743807202.py:11: PerformanceWarning: DataFrame is highly fragmented.  This is usually the result of calling `frame.insert` many times, which has poor performance.  Consider joining all columns at once using pd.concat(axis=1) instead. To get a de-fragmented frame, use `newframe = frame.copy()`\n",
      "  df[f\"{col}_day\"] = df[col].dt.day\n",
      "C:\\Users\\shahp\\AppData\\Local\\Temp\\ipykernel_12448\\3743807202.py:9: PerformanceWarning: DataFrame is highly fragmented.  This is usually the result of calling `frame.insert` many times, which has poor performance.  Consider joining all columns at once using pd.concat(axis=1) instead. To get a de-fragmented frame, use `newframe = frame.copy()`\n",
      "  df[f\"{col}_year\"] = df[col].dt.year\n",
      "C:\\Users\\shahp\\AppData\\Local\\Temp\\ipykernel_12448\\3743807202.py:10: PerformanceWarning: DataFrame is highly fragmented.  This is usually the result of calling `frame.insert` many times, which has poor performance.  Consider joining all columns at once using pd.concat(axis=1) instead. To get a de-fragmented frame, use `newframe = frame.copy()`\n",
      "  df[f\"{col}_month\"] = df[col].dt.month\n",
      "C:\\Users\\shahp\\AppData\\Local\\Temp\\ipykernel_12448\\3743807202.py:11: PerformanceWarning: DataFrame is highly fragmented.  This is usually the result of calling `frame.insert` many times, which has poor performance.  Consider joining all columns at once using pd.concat(axis=1) instead. To get a de-fragmented frame, use `newframe = frame.copy()`\n",
      "  df[f\"{col}_day\"] = df[col].dt.day\n"
     ]
    },
    {
     "name": "stdout",
     "output_type": "stream",
     "text": [
      "Processed datetime column: PersonalField18\n"
     ]
    },
    {
     "name": "stderr",
     "output_type": "stream",
     "text": [
      "C:\\Users\\shahp\\AppData\\Local\\Temp\\ipykernel_12448\\3743807202.py:4: UserWarning: Could not infer format, so each element will be parsed individually, falling back to `dateutil`. To ensure parsing is consistent and as-expected, please specify a format.\n",
      "  X_train[col] = pd.to_datetime(X_train[col], errors='coerce')\n",
      "C:\\Users\\shahp\\AppData\\Local\\Temp\\ipykernel_12448\\3743807202.py:5: UserWarning: Could not infer format, so each element will be parsed individually, falling back to `dateutil`. To ensure parsing is consistent and as-expected, please specify a format.\n",
      "  X_valid[col] = pd.to_datetime(X_valid[col], errors='coerce')\n",
      "C:\\Users\\shahp\\AppData\\Local\\Temp\\ipykernel_12448\\3743807202.py:6: UserWarning: Could not infer format, so each element will be parsed individually, falling back to `dateutil`. To ensure parsing is consistent and as-expected, please specify a format.\n",
      "  test_data[col] = pd.to_datetime(test_data[col], errors='coerce')\n",
      "C:\\Users\\shahp\\AppData\\Local\\Temp\\ipykernel_12448\\3743807202.py:9: PerformanceWarning: DataFrame is highly fragmented.  This is usually the result of calling `frame.insert` many times, which has poor performance.  Consider joining all columns at once using pd.concat(axis=1) instead. To get a de-fragmented frame, use `newframe = frame.copy()`\n",
      "  df[f\"{col}_year\"] = df[col].dt.year\n",
      "C:\\Users\\shahp\\AppData\\Local\\Temp\\ipykernel_12448\\3743807202.py:10: PerformanceWarning: DataFrame is highly fragmented.  This is usually the result of calling `frame.insert` many times, which has poor performance.  Consider joining all columns at once using pd.concat(axis=1) instead. To get a de-fragmented frame, use `newframe = frame.copy()`\n",
      "  df[f\"{col}_month\"] = df[col].dt.month\n",
      "C:\\Users\\shahp\\AppData\\Local\\Temp\\ipykernel_12448\\3743807202.py:11: PerformanceWarning: DataFrame is highly fragmented.  This is usually the result of calling `frame.insert` many times, which has poor performance.  Consider joining all columns at once using pd.concat(axis=1) instead. To get a de-fragmented frame, use `newframe = frame.copy()`\n",
      "  df[f\"{col}_day\"] = df[col].dt.day\n",
      "C:\\Users\\shahp\\AppData\\Local\\Temp\\ipykernel_12448\\3743807202.py:9: PerformanceWarning: DataFrame is highly fragmented.  This is usually the result of calling `frame.insert` many times, which has poor performance.  Consider joining all columns at once using pd.concat(axis=1) instead. To get a de-fragmented frame, use `newframe = frame.copy()`\n",
      "  df[f\"{col}_year\"] = df[col].dt.year\n",
      "C:\\Users\\shahp\\AppData\\Local\\Temp\\ipykernel_12448\\3743807202.py:10: PerformanceWarning: DataFrame is highly fragmented.  This is usually the result of calling `frame.insert` many times, which has poor performance.  Consider joining all columns at once using pd.concat(axis=1) instead. To get a de-fragmented frame, use `newframe = frame.copy()`\n",
      "  df[f\"{col}_month\"] = df[col].dt.month\n",
      "C:\\Users\\shahp\\AppData\\Local\\Temp\\ipykernel_12448\\3743807202.py:11: PerformanceWarning: DataFrame is highly fragmented.  This is usually the result of calling `frame.insert` many times, which has poor performance.  Consider joining all columns at once using pd.concat(axis=1) instead. To get a de-fragmented frame, use `newframe = frame.copy()`\n",
      "  df[f\"{col}_day\"] = df[col].dt.day\n",
      "C:\\Users\\shahp\\AppData\\Local\\Temp\\ipykernel_12448\\3743807202.py:9: PerformanceWarning: DataFrame is highly fragmented.  This is usually the result of calling `frame.insert` many times, which has poor performance.  Consider joining all columns at once using pd.concat(axis=1) instead. To get a de-fragmented frame, use `newframe = frame.copy()`\n",
      "  df[f\"{col}_year\"] = df[col].dt.year\n",
      "C:\\Users\\shahp\\AppData\\Local\\Temp\\ipykernel_12448\\3743807202.py:10: PerformanceWarning: DataFrame is highly fragmented.  This is usually the result of calling `frame.insert` many times, which has poor performance.  Consider joining all columns at once using pd.concat(axis=1) instead. To get a de-fragmented frame, use `newframe = frame.copy()`\n",
      "  df[f\"{col}_month\"] = df[col].dt.month\n",
      "C:\\Users\\shahp\\AppData\\Local\\Temp\\ipykernel_12448\\3743807202.py:11: PerformanceWarning: DataFrame is highly fragmented.  This is usually the result of calling `frame.insert` many times, which has poor performance.  Consider joining all columns at once using pd.concat(axis=1) instead. To get a de-fragmented frame, use `newframe = frame.copy()`\n",
      "  df[f\"{col}_day\"] = df[col].dt.day\n"
     ]
    },
    {
     "name": "stdout",
     "output_type": "stream",
     "text": [
      "Processed datetime column: PersonalField19\n"
     ]
    },
    {
     "name": "stderr",
     "output_type": "stream",
     "text": [
      "C:\\Users\\shahp\\AppData\\Local\\Temp\\ipykernel_12448\\3743807202.py:4: UserWarning: Could not infer format, so each element will be parsed individually, falling back to `dateutil`. To ensure parsing is consistent and as-expected, please specify a format.\n",
      "  X_train[col] = pd.to_datetime(X_train[col], errors='coerce')\n",
      "C:\\Users\\shahp\\AppData\\Local\\Temp\\ipykernel_12448\\3743807202.py:5: UserWarning: Could not infer format, so each element will be parsed individually, falling back to `dateutil`. To ensure parsing is consistent and as-expected, please specify a format.\n",
      "  X_valid[col] = pd.to_datetime(X_valid[col], errors='coerce')\n",
      "C:\\Users\\shahp\\AppData\\Local\\Temp\\ipykernel_12448\\3743807202.py:6: UserWarning: Could not infer format, so each element will be parsed individually, falling back to `dateutil`. To ensure parsing is consistent and as-expected, please specify a format.\n",
      "  test_data[col] = pd.to_datetime(test_data[col], errors='coerce')\n",
      "C:\\Users\\shahp\\AppData\\Local\\Temp\\ipykernel_12448\\3743807202.py:9: PerformanceWarning: DataFrame is highly fragmented.  This is usually the result of calling `frame.insert` many times, which has poor performance.  Consider joining all columns at once using pd.concat(axis=1) instead. To get a de-fragmented frame, use `newframe = frame.copy()`\n",
      "  df[f\"{col}_year\"] = df[col].dt.year\n",
      "C:\\Users\\shahp\\AppData\\Local\\Temp\\ipykernel_12448\\3743807202.py:10: PerformanceWarning: DataFrame is highly fragmented.  This is usually the result of calling `frame.insert` many times, which has poor performance.  Consider joining all columns at once using pd.concat(axis=1) instead. To get a de-fragmented frame, use `newframe = frame.copy()`\n",
      "  df[f\"{col}_month\"] = df[col].dt.month\n",
      "C:\\Users\\shahp\\AppData\\Local\\Temp\\ipykernel_12448\\3743807202.py:11: PerformanceWarning: DataFrame is highly fragmented.  This is usually the result of calling `frame.insert` many times, which has poor performance.  Consider joining all columns at once using pd.concat(axis=1) instead. To get a de-fragmented frame, use `newframe = frame.copy()`\n",
      "  df[f\"{col}_day\"] = df[col].dt.day\n",
      "C:\\Users\\shahp\\AppData\\Local\\Temp\\ipykernel_12448\\3743807202.py:9: PerformanceWarning: DataFrame is highly fragmented.  This is usually the result of calling `frame.insert` many times, which has poor performance.  Consider joining all columns at once using pd.concat(axis=1) instead. To get a de-fragmented frame, use `newframe = frame.copy()`\n",
      "  df[f\"{col}_year\"] = df[col].dt.year\n",
      "C:\\Users\\shahp\\AppData\\Local\\Temp\\ipykernel_12448\\3743807202.py:10: PerformanceWarning: DataFrame is highly fragmented.  This is usually the result of calling `frame.insert` many times, which has poor performance.  Consider joining all columns at once using pd.concat(axis=1) instead. To get a de-fragmented frame, use `newframe = frame.copy()`\n",
      "  df[f\"{col}_month\"] = df[col].dt.month\n",
      "C:\\Users\\shahp\\AppData\\Local\\Temp\\ipykernel_12448\\3743807202.py:11: PerformanceWarning: DataFrame is highly fragmented.  This is usually the result of calling `frame.insert` many times, which has poor performance.  Consider joining all columns at once using pd.concat(axis=1) instead. To get a de-fragmented frame, use `newframe = frame.copy()`\n",
      "  df[f\"{col}_day\"] = df[col].dt.day\n",
      "C:\\Users\\shahp\\AppData\\Local\\Temp\\ipykernel_12448\\3743807202.py:9: PerformanceWarning: DataFrame is highly fragmented.  This is usually the result of calling `frame.insert` many times, which has poor performance.  Consider joining all columns at once using pd.concat(axis=1) instead. To get a de-fragmented frame, use `newframe = frame.copy()`\n",
      "  df[f\"{col}_year\"] = df[col].dt.year\n",
      "C:\\Users\\shahp\\AppData\\Local\\Temp\\ipykernel_12448\\3743807202.py:10: PerformanceWarning: DataFrame is highly fragmented.  This is usually the result of calling `frame.insert` many times, which has poor performance.  Consider joining all columns at once using pd.concat(axis=1) instead. To get a de-fragmented frame, use `newframe = frame.copy()`\n",
      "  df[f\"{col}_month\"] = df[col].dt.month\n",
      "C:\\Users\\shahp\\AppData\\Local\\Temp\\ipykernel_12448\\3743807202.py:11: PerformanceWarning: DataFrame is highly fragmented.  This is usually the result of calling `frame.insert` many times, which has poor performance.  Consider joining all columns at once using pd.concat(axis=1) instead. To get a de-fragmented frame, use `newframe = frame.copy()`\n",
      "  df[f\"{col}_day\"] = df[col].dt.day\n"
     ]
    },
    {
     "name": "stdout",
     "output_type": "stream",
     "text": [
      "Processed datetime column: PropertyField3\n"
     ]
    },
    {
     "name": "stderr",
     "output_type": "stream",
     "text": [
      "C:\\Users\\shahp\\AppData\\Local\\Temp\\ipykernel_12448\\3743807202.py:4: UserWarning: Could not infer format, so each element will be parsed individually, falling back to `dateutil`. To ensure parsing is consistent and as-expected, please specify a format.\n",
      "  X_train[col] = pd.to_datetime(X_train[col], errors='coerce')\n",
      "C:\\Users\\shahp\\AppData\\Local\\Temp\\ipykernel_12448\\3743807202.py:5: UserWarning: Could not infer format, so each element will be parsed individually, falling back to `dateutil`. To ensure parsing is consistent and as-expected, please specify a format.\n",
      "  X_valid[col] = pd.to_datetime(X_valid[col], errors='coerce')\n",
      "C:\\Users\\shahp\\AppData\\Local\\Temp\\ipykernel_12448\\3743807202.py:6: UserWarning: Could not infer format, so each element will be parsed individually, falling back to `dateutil`. To ensure parsing is consistent and as-expected, please specify a format.\n",
      "  test_data[col] = pd.to_datetime(test_data[col], errors='coerce')\n",
      "C:\\Users\\shahp\\AppData\\Local\\Temp\\ipykernel_12448\\3743807202.py:9: PerformanceWarning: DataFrame is highly fragmented.  This is usually the result of calling `frame.insert` many times, which has poor performance.  Consider joining all columns at once using pd.concat(axis=1) instead. To get a de-fragmented frame, use `newframe = frame.copy()`\n",
      "  df[f\"{col}_year\"] = df[col].dt.year\n",
      "C:\\Users\\shahp\\AppData\\Local\\Temp\\ipykernel_12448\\3743807202.py:10: PerformanceWarning: DataFrame is highly fragmented.  This is usually the result of calling `frame.insert` many times, which has poor performance.  Consider joining all columns at once using pd.concat(axis=1) instead. To get a de-fragmented frame, use `newframe = frame.copy()`\n",
      "  df[f\"{col}_month\"] = df[col].dt.month\n",
      "C:\\Users\\shahp\\AppData\\Local\\Temp\\ipykernel_12448\\3743807202.py:11: PerformanceWarning: DataFrame is highly fragmented.  This is usually the result of calling `frame.insert` many times, which has poor performance.  Consider joining all columns at once using pd.concat(axis=1) instead. To get a de-fragmented frame, use `newframe = frame.copy()`\n",
      "  df[f\"{col}_day\"] = df[col].dt.day\n",
      "C:\\Users\\shahp\\AppData\\Local\\Temp\\ipykernel_12448\\3743807202.py:9: PerformanceWarning: DataFrame is highly fragmented.  This is usually the result of calling `frame.insert` many times, which has poor performance.  Consider joining all columns at once using pd.concat(axis=1) instead. To get a de-fragmented frame, use `newframe = frame.copy()`\n",
      "  df[f\"{col}_year\"] = df[col].dt.year\n",
      "C:\\Users\\shahp\\AppData\\Local\\Temp\\ipykernel_12448\\3743807202.py:10: PerformanceWarning: DataFrame is highly fragmented.  This is usually the result of calling `frame.insert` many times, which has poor performance.  Consider joining all columns at once using pd.concat(axis=1) instead. To get a de-fragmented frame, use `newframe = frame.copy()`\n",
      "  df[f\"{col}_month\"] = df[col].dt.month\n",
      "C:\\Users\\shahp\\AppData\\Local\\Temp\\ipykernel_12448\\3743807202.py:11: PerformanceWarning: DataFrame is highly fragmented.  This is usually the result of calling `frame.insert` many times, which has poor performance.  Consider joining all columns at once using pd.concat(axis=1) instead. To get a de-fragmented frame, use `newframe = frame.copy()`\n",
      "  df[f\"{col}_day\"] = df[col].dt.day\n",
      "C:\\Users\\shahp\\AppData\\Local\\Temp\\ipykernel_12448\\3743807202.py:9: PerformanceWarning: DataFrame is highly fragmented.  This is usually the result of calling `frame.insert` many times, which has poor performance.  Consider joining all columns at once using pd.concat(axis=1) instead. To get a de-fragmented frame, use `newframe = frame.copy()`\n",
      "  df[f\"{col}_year\"] = df[col].dt.year\n",
      "C:\\Users\\shahp\\AppData\\Local\\Temp\\ipykernel_12448\\3743807202.py:10: PerformanceWarning: DataFrame is highly fragmented.  This is usually the result of calling `frame.insert` many times, which has poor performance.  Consider joining all columns at once using pd.concat(axis=1) instead. To get a de-fragmented frame, use `newframe = frame.copy()`\n",
      "  df[f\"{col}_month\"] = df[col].dt.month\n",
      "C:\\Users\\shahp\\AppData\\Local\\Temp\\ipykernel_12448\\3743807202.py:11: PerformanceWarning: DataFrame is highly fragmented.  This is usually the result of calling `frame.insert` many times, which has poor performance.  Consider joining all columns at once using pd.concat(axis=1) instead. To get a de-fragmented frame, use `newframe = frame.copy()`\n",
      "  df[f\"{col}_day\"] = df[col].dt.day\n"
     ]
    },
    {
     "name": "stdout",
     "output_type": "stream",
     "text": [
      "Processed datetime column: PropertyField4\n"
     ]
    },
    {
     "name": "stderr",
     "output_type": "stream",
     "text": [
      "C:\\Users\\shahp\\AppData\\Local\\Temp\\ipykernel_12448\\3743807202.py:4: UserWarning: Could not infer format, so each element will be parsed individually, falling back to `dateutil`. To ensure parsing is consistent and as-expected, please specify a format.\n",
      "  X_train[col] = pd.to_datetime(X_train[col], errors='coerce')\n",
      "C:\\Users\\shahp\\AppData\\Local\\Temp\\ipykernel_12448\\3743807202.py:5: UserWarning: Could not infer format, so each element will be parsed individually, falling back to `dateutil`. To ensure parsing is consistent and as-expected, please specify a format.\n",
      "  X_valid[col] = pd.to_datetime(X_valid[col], errors='coerce')\n",
      "C:\\Users\\shahp\\AppData\\Local\\Temp\\ipykernel_12448\\3743807202.py:6: UserWarning: Could not infer format, so each element will be parsed individually, falling back to `dateutil`. To ensure parsing is consistent and as-expected, please specify a format.\n",
      "  test_data[col] = pd.to_datetime(test_data[col], errors='coerce')\n",
      "C:\\Users\\shahp\\AppData\\Local\\Temp\\ipykernel_12448\\3743807202.py:9: PerformanceWarning: DataFrame is highly fragmented.  This is usually the result of calling `frame.insert` many times, which has poor performance.  Consider joining all columns at once using pd.concat(axis=1) instead. To get a de-fragmented frame, use `newframe = frame.copy()`\n",
      "  df[f\"{col}_year\"] = df[col].dt.year\n",
      "C:\\Users\\shahp\\AppData\\Local\\Temp\\ipykernel_12448\\3743807202.py:10: PerformanceWarning: DataFrame is highly fragmented.  This is usually the result of calling `frame.insert` many times, which has poor performance.  Consider joining all columns at once using pd.concat(axis=1) instead. To get a de-fragmented frame, use `newframe = frame.copy()`\n",
      "  df[f\"{col}_month\"] = df[col].dt.month\n",
      "C:\\Users\\shahp\\AppData\\Local\\Temp\\ipykernel_12448\\3743807202.py:11: PerformanceWarning: DataFrame is highly fragmented.  This is usually the result of calling `frame.insert` many times, which has poor performance.  Consider joining all columns at once using pd.concat(axis=1) instead. To get a de-fragmented frame, use `newframe = frame.copy()`\n",
      "  df[f\"{col}_day\"] = df[col].dt.day\n",
      "C:\\Users\\shahp\\AppData\\Local\\Temp\\ipykernel_12448\\3743807202.py:9: PerformanceWarning: DataFrame is highly fragmented.  This is usually the result of calling `frame.insert` many times, which has poor performance.  Consider joining all columns at once using pd.concat(axis=1) instead. To get a de-fragmented frame, use `newframe = frame.copy()`\n",
      "  df[f\"{col}_year\"] = df[col].dt.year\n",
      "C:\\Users\\shahp\\AppData\\Local\\Temp\\ipykernel_12448\\3743807202.py:10: PerformanceWarning: DataFrame is highly fragmented.  This is usually the result of calling `frame.insert` many times, which has poor performance.  Consider joining all columns at once using pd.concat(axis=1) instead. To get a de-fragmented frame, use `newframe = frame.copy()`\n",
      "  df[f\"{col}_month\"] = df[col].dt.month\n",
      "C:\\Users\\shahp\\AppData\\Local\\Temp\\ipykernel_12448\\3743807202.py:11: PerformanceWarning: DataFrame is highly fragmented.  This is usually the result of calling `frame.insert` many times, which has poor performance.  Consider joining all columns at once using pd.concat(axis=1) instead. To get a de-fragmented frame, use `newframe = frame.copy()`\n",
      "  df[f\"{col}_day\"] = df[col].dt.day\n",
      "C:\\Users\\shahp\\AppData\\Local\\Temp\\ipykernel_12448\\3743807202.py:9: PerformanceWarning: DataFrame is highly fragmented.  This is usually the result of calling `frame.insert` many times, which has poor performance.  Consider joining all columns at once using pd.concat(axis=1) instead. To get a de-fragmented frame, use `newframe = frame.copy()`\n",
      "  df[f\"{col}_year\"] = df[col].dt.year\n",
      "C:\\Users\\shahp\\AppData\\Local\\Temp\\ipykernel_12448\\3743807202.py:10: PerformanceWarning: DataFrame is highly fragmented.  This is usually the result of calling `frame.insert` many times, which has poor performance.  Consider joining all columns at once using pd.concat(axis=1) instead. To get a de-fragmented frame, use `newframe = frame.copy()`\n",
      "  df[f\"{col}_month\"] = df[col].dt.month\n",
      "C:\\Users\\shahp\\AppData\\Local\\Temp\\ipykernel_12448\\3743807202.py:11: PerformanceWarning: DataFrame is highly fragmented.  This is usually the result of calling `frame.insert` many times, which has poor performance.  Consider joining all columns at once using pd.concat(axis=1) instead. To get a de-fragmented frame, use `newframe = frame.copy()`\n",
      "  df[f\"{col}_day\"] = df[col].dt.day\n"
     ]
    },
    {
     "name": "stdout",
     "output_type": "stream",
     "text": [
      "Processed datetime column: PropertyField5\n"
     ]
    },
    {
     "name": "stderr",
     "output_type": "stream",
     "text": [
      "C:\\Users\\shahp\\AppData\\Local\\Temp\\ipykernel_12448\\3743807202.py:4: UserWarning: Could not infer format, so each element will be parsed individually, falling back to `dateutil`. To ensure parsing is consistent and as-expected, please specify a format.\n",
      "  X_train[col] = pd.to_datetime(X_train[col], errors='coerce')\n",
      "C:\\Users\\shahp\\AppData\\Local\\Temp\\ipykernel_12448\\3743807202.py:5: UserWarning: Could not infer format, so each element will be parsed individually, falling back to `dateutil`. To ensure parsing is consistent and as-expected, please specify a format.\n",
      "  X_valid[col] = pd.to_datetime(X_valid[col], errors='coerce')\n",
      "C:\\Users\\shahp\\AppData\\Local\\Temp\\ipykernel_12448\\3743807202.py:6: UserWarning: Could not infer format, so each element will be parsed individually, falling back to `dateutil`. To ensure parsing is consistent and as-expected, please specify a format.\n",
      "  test_data[col] = pd.to_datetime(test_data[col], errors='coerce')\n",
      "C:\\Users\\shahp\\AppData\\Local\\Temp\\ipykernel_12448\\3743807202.py:9: PerformanceWarning: DataFrame is highly fragmented.  This is usually the result of calling `frame.insert` many times, which has poor performance.  Consider joining all columns at once using pd.concat(axis=1) instead. To get a de-fragmented frame, use `newframe = frame.copy()`\n",
      "  df[f\"{col}_year\"] = df[col].dt.year\n",
      "C:\\Users\\shahp\\AppData\\Local\\Temp\\ipykernel_12448\\3743807202.py:10: PerformanceWarning: DataFrame is highly fragmented.  This is usually the result of calling `frame.insert` many times, which has poor performance.  Consider joining all columns at once using pd.concat(axis=1) instead. To get a de-fragmented frame, use `newframe = frame.copy()`\n",
      "  df[f\"{col}_month\"] = df[col].dt.month\n",
      "C:\\Users\\shahp\\AppData\\Local\\Temp\\ipykernel_12448\\3743807202.py:11: PerformanceWarning: DataFrame is highly fragmented.  This is usually the result of calling `frame.insert` many times, which has poor performance.  Consider joining all columns at once using pd.concat(axis=1) instead. To get a de-fragmented frame, use `newframe = frame.copy()`\n",
      "  df[f\"{col}_day\"] = df[col].dt.day\n",
      "C:\\Users\\shahp\\AppData\\Local\\Temp\\ipykernel_12448\\3743807202.py:9: PerformanceWarning: DataFrame is highly fragmented.  This is usually the result of calling `frame.insert` many times, which has poor performance.  Consider joining all columns at once using pd.concat(axis=1) instead. To get a de-fragmented frame, use `newframe = frame.copy()`\n",
      "  df[f\"{col}_year\"] = df[col].dt.year\n",
      "C:\\Users\\shahp\\AppData\\Local\\Temp\\ipykernel_12448\\3743807202.py:10: PerformanceWarning: DataFrame is highly fragmented.  This is usually the result of calling `frame.insert` many times, which has poor performance.  Consider joining all columns at once using pd.concat(axis=1) instead. To get a de-fragmented frame, use `newframe = frame.copy()`\n",
      "  df[f\"{col}_month\"] = df[col].dt.month\n",
      "C:\\Users\\shahp\\AppData\\Local\\Temp\\ipykernel_12448\\3743807202.py:11: PerformanceWarning: DataFrame is highly fragmented.  This is usually the result of calling `frame.insert` many times, which has poor performance.  Consider joining all columns at once using pd.concat(axis=1) instead. To get a de-fragmented frame, use `newframe = frame.copy()`\n",
      "  df[f\"{col}_day\"] = df[col].dt.day\n",
      "C:\\Users\\shahp\\AppData\\Local\\Temp\\ipykernel_12448\\3743807202.py:9: PerformanceWarning: DataFrame is highly fragmented.  This is usually the result of calling `frame.insert` many times, which has poor performance.  Consider joining all columns at once using pd.concat(axis=1) instead. To get a de-fragmented frame, use `newframe = frame.copy()`\n",
      "  df[f\"{col}_year\"] = df[col].dt.year\n",
      "C:\\Users\\shahp\\AppData\\Local\\Temp\\ipykernel_12448\\3743807202.py:10: PerformanceWarning: DataFrame is highly fragmented.  This is usually the result of calling `frame.insert` many times, which has poor performance.  Consider joining all columns at once using pd.concat(axis=1) instead. To get a de-fragmented frame, use `newframe = frame.copy()`\n",
      "  df[f\"{col}_month\"] = df[col].dt.month\n",
      "C:\\Users\\shahp\\AppData\\Local\\Temp\\ipykernel_12448\\3743807202.py:11: PerformanceWarning: DataFrame is highly fragmented.  This is usually the result of calling `frame.insert` many times, which has poor performance.  Consider joining all columns at once using pd.concat(axis=1) instead. To get a de-fragmented frame, use `newframe = frame.copy()`\n",
      "  df[f\"{col}_day\"] = df[col].dt.day\n"
     ]
    },
    {
     "name": "stdout",
     "output_type": "stream",
     "text": [
      "Processed datetime column: PropertyField7\n"
     ]
    },
    {
     "name": "stderr",
     "output_type": "stream",
     "text": [
      "C:\\Users\\shahp\\AppData\\Local\\Temp\\ipykernel_12448\\3743807202.py:4: UserWarning: Could not infer format, so each element will be parsed individually, falling back to `dateutil`. To ensure parsing is consistent and as-expected, please specify a format.\n",
      "  X_train[col] = pd.to_datetime(X_train[col], errors='coerce')\n",
      "C:\\Users\\shahp\\AppData\\Local\\Temp\\ipykernel_12448\\3743807202.py:5: UserWarning: Could not infer format, so each element will be parsed individually, falling back to `dateutil`. To ensure parsing is consistent and as-expected, please specify a format.\n",
      "  X_valid[col] = pd.to_datetime(X_valid[col], errors='coerce')\n",
      "C:\\Users\\shahp\\AppData\\Local\\Temp\\ipykernel_12448\\3743807202.py:6: UserWarning: Could not infer format, so each element will be parsed individually, falling back to `dateutil`. To ensure parsing is consistent and as-expected, please specify a format.\n",
      "  test_data[col] = pd.to_datetime(test_data[col], errors='coerce')\n",
      "C:\\Users\\shahp\\AppData\\Local\\Temp\\ipykernel_12448\\3743807202.py:9: PerformanceWarning: DataFrame is highly fragmented.  This is usually the result of calling `frame.insert` many times, which has poor performance.  Consider joining all columns at once using pd.concat(axis=1) instead. To get a de-fragmented frame, use `newframe = frame.copy()`\n",
      "  df[f\"{col}_year\"] = df[col].dt.year\n",
      "C:\\Users\\shahp\\AppData\\Local\\Temp\\ipykernel_12448\\3743807202.py:10: PerformanceWarning: DataFrame is highly fragmented.  This is usually the result of calling `frame.insert` many times, which has poor performance.  Consider joining all columns at once using pd.concat(axis=1) instead. To get a de-fragmented frame, use `newframe = frame.copy()`\n",
      "  df[f\"{col}_month\"] = df[col].dt.month\n",
      "C:\\Users\\shahp\\AppData\\Local\\Temp\\ipykernel_12448\\3743807202.py:11: PerformanceWarning: DataFrame is highly fragmented.  This is usually the result of calling `frame.insert` many times, which has poor performance.  Consider joining all columns at once using pd.concat(axis=1) instead. To get a de-fragmented frame, use `newframe = frame.copy()`\n",
      "  df[f\"{col}_day\"] = df[col].dt.day\n",
      "C:\\Users\\shahp\\AppData\\Local\\Temp\\ipykernel_12448\\3743807202.py:9: PerformanceWarning: DataFrame is highly fragmented.  This is usually the result of calling `frame.insert` many times, which has poor performance.  Consider joining all columns at once using pd.concat(axis=1) instead. To get a de-fragmented frame, use `newframe = frame.copy()`\n",
      "  df[f\"{col}_year\"] = df[col].dt.year\n",
      "C:\\Users\\shahp\\AppData\\Local\\Temp\\ipykernel_12448\\3743807202.py:10: PerformanceWarning: DataFrame is highly fragmented.  This is usually the result of calling `frame.insert` many times, which has poor performance.  Consider joining all columns at once using pd.concat(axis=1) instead. To get a de-fragmented frame, use `newframe = frame.copy()`\n",
      "  df[f\"{col}_month\"] = df[col].dt.month\n",
      "C:\\Users\\shahp\\AppData\\Local\\Temp\\ipykernel_12448\\3743807202.py:11: PerformanceWarning: DataFrame is highly fragmented.  This is usually the result of calling `frame.insert` many times, which has poor performance.  Consider joining all columns at once using pd.concat(axis=1) instead. To get a de-fragmented frame, use `newframe = frame.copy()`\n",
      "  df[f\"{col}_day\"] = df[col].dt.day\n",
      "C:\\Users\\shahp\\AppData\\Local\\Temp\\ipykernel_12448\\3743807202.py:9: PerformanceWarning: DataFrame is highly fragmented.  This is usually the result of calling `frame.insert` many times, which has poor performance.  Consider joining all columns at once using pd.concat(axis=1) instead. To get a de-fragmented frame, use `newframe = frame.copy()`\n",
      "  df[f\"{col}_year\"] = df[col].dt.year\n",
      "C:\\Users\\shahp\\AppData\\Local\\Temp\\ipykernel_12448\\3743807202.py:10: PerformanceWarning: DataFrame is highly fragmented.  This is usually the result of calling `frame.insert` many times, which has poor performance.  Consider joining all columns at once using pd.concat(axis=1) instead. To get a de-fragmented frame, use `newframe = frame.copy()`\n",
      "  df[f\"{col}_month\"] = df[col].dt.month\n",
      "C:\\Users\\shahp\\AppData\\Local\\Temp\\ipykernel_12448\\3743807202.py:11: PerformanceWarning: DataFrame is highly fragmented.  This is usually the result of calling `frame.insert` many times, which has poor performance.  Consider joining all columns at once using pd.concat(axis=1) instead. To get a de-fragmented frame, use `newframe = frame.copy()`\n",
      "  df[f\"{col}_day\"] = df[col].dt.day\n"
     ]
    },
    {
     "name": "stdout",
     "output_type": "stream",
     "text": [
      "Processed datetime column: PropertyField14\n"
     ]
    },
    {
     "name": "stderr",
     "output_type": "stream",
     "text": [
      "C:\\Users\\shahp\\AppData\\Local\\Temp\\ipykernel_12448\\3743807202.py:4: UserWarning: Could not infer format, so each element will be parsed individually, falling back to `dateutil`. To ensure parsing is consistent and as-expected, please specify a format.\n",
      "  X_train[col] = pd.to_datetime(X_train[col], errors='coerce')\n",
      "C:\\Users\\shahp\\AppData\\Local\\Temp\\ipykernel_12448\\3743807202.py:5: UserWarning: Could not infer format, so each element will be parsed individually, falling back to `dateutil`. To ensure parsing is consistent and as-expected, please specify a format.\n",
      "  X_valid[col] = pd.to_datetime(X_valid[col], errors='coerce')\n",
      "C:\\Users\\shahp\\AppData\\Local\\Temp\\ipykernel_12448\\3743807202.py:6: UserWarning: Could not infer format, so each element will be parsed individually, falling back to `dateutil`. To ensure parsing is consistent and as-expected, please specify a format.\n",
      "  test_data[col] = pd.to_datetime(test_data[col], errors='coerce')\n",
      "C:\\Users\\shahp\\AppData\\Local\\Temp\\ipykernel_12448\\3743807202.py:9: PerformanceWarning: DataFrame is highly fragmented.  This is usually the result of calling `frame.insert` many times, which has poor performance.  Consider joining all columns at once using pd.concat(axis=1) instead. To get a de-fragmented frame, use `newframe = frame.copy()`\n",
      "  df[f\"{col}_year\"] = df[col].dt.year\n",
      "C:\\Users\\shahp\\AppData\\Local\\Temp\\ipykernel_12448\\3743807202.py:10: PerformanceWarning: DataFrame is highly fragmented.  This is usually the result of calling `frame.insert` many times, which has poor performance.  Consider joining all columns at once using pd.concat(axis=1) instead. To get a de-fragmented frame, use `newframe = frame.copy()`\n",
      "  df[f\"{col}_month\"] = df[col].dt.month\n",
      "C:\\Users\\shahp\\AppData\\Local\\Temp\\ipykernel_12448\\3743807202.py:11: PerformanceWarning: DataFrame is highly fragmented.  This is usually the result of calling `frame.insert` many times, which has poor performance.  Consider joining all columns at once using pd.concat(axis=1) instead. To get a de-fragmented frame, use `newframe = frame.copy()`\n",
      "  df[f\"{col}_day\"] = df[col].dt.day\n",
      "C:\\Users\\shahp\\AppData\\Local\\Temp\\ipykernel_12448\\3743807202.py:9: PerformanceWarning: DataFrame is highly fragmented.  This is usually the result of calling `frame.insert` many times, which has poor performance.  Consider joining all columns at once using pd.concat(axis=1) instead. To get a de-fragmented frame, use `newframe = frame.copy()`\n",
      "  df[f\"{col}_year\"] = df[col].dt.year\n",
      "C:\\Users\\shahp\\AppData\\Local\\Temp\\ipykernel_12448\\3743807202.py:10: PerformanceWarning: DataFrame is highly fragmented.  This is usually the result of calling `frame.insert` many times, which has poor performance.  Consider joining all columns at once using pd.concat(axis=1) instead. To get a de-fragmented frame, use `newframe = frame.copy()`\n",
      "  df[f\"{col}_month\"] = df[col].dt.month\n",
      "C:\\Users\\shahp\\AppData\\Local\\Temp\\ipykernel_12448\\3743807202.py:11: PerformanceWarning: DataFrame is highly fragmented.  This is usually the result of calling `frame.insert` many times, which has poor performance.  Consider joining all columns at once using pd.concat(axis=1) instead. To get a de-fragmented frame, use `newframe = frame.copy()`\n",
      "  df[f\"{col}_day\"] = df[col].dt.day\n",
      "C:\\Users\\shahp\\AppData\\Local\\Temp\\ipykernel_12448\\3743807202.py:9: PerformanceWarning: DataFrame is highly fragmented.  This is usually the result of calling `frame.insert` many times, which has poor performance.  Consider joining all columns at once using pd.concat(axis=1) instead. To get a de-fragmented frame, use `newframe = frame.copy()`\n",
      "  df[f\"{col}_year\"] = df[col].dt.year\n",
      "C:\\Users\\shahp\\AppData\\Local\\Temp\\ipykernel_12448\\3743807202.py:10: PerformanceWarning: DataFrame is highly fragmented.  This is usually the result of calling `frame.insert` many times, which has poor performance.  Consider joining all columns at once using pd.concat(axis=1) instead. To get a de-fragmented frame, use `newframe = frame.copy()`\n",
      "  df[f\"{col}_month\"] = df[col].dt.month\n",
      "C:\\Users\\shahp\\AppData\\Local\\Temp\\ipykernel_12448\\3743807202.py:11: PerformanceWarning: DataFrame is highly fragmented.  This is usually the result of calling `frame.insert` many times, which has poor performance.  Consider joining all columns at once using pd.concat(axis=1) instead. To get a de-fragmented frame, use `newframe = frame.copy()`\n",
      "  df[f\"{col}_day\"] = df[col].dt.day\n"
     ]
    },
    {
     "name": "stdout",
     "output_type": "stream",
     "text": [
      "Processed datetime column: PropertyField28\n"
     ]
    },
    {
     "name": "stderr",
     "output_type": "stream",
     "text": [
      "C:\\Users\\shahp\\AppData\\Local\\Temp\\ipykernel_12448\\3743807202.py:4: UserWarning: Could not infer format, so each element will be parsed individually, falling back to `dateutil`. To ensure parsing is consistent and as-expected, please specify a format.\n",
      "  X_train[col] = pd.to_datetime(X_train[col], errors='coerce')\n",
      "C:\\Users\\shahp\\AppData\\Local\\Temp\\ipykernel_12448\\3743807202.py:5: UserWarning: Could not infer format, so each element will be parsed individually, falling back to `dateutil`. To ensure parsing is consistent and as-expected, please specify a format.\n",
      "  X_valid[col] = pd.to_datetime(X_valid[col], errors='coerce')\n",
      "C:\\Users\\shahp\\AppData\\Local\\Temp\\ipykernel_12448\\3743807202.py:6: UserWarning: Could not infer format, so each element will be parsed individually, falling back to `dateutil`. To ensure parsing is consistent and as-expected, please specify a format.\n",
      "  test_data[col] = pd.to_datetime(test_data[col], errors='coerce')\n",
      "C:\\Users\\shahp\\AppData\\Local\\Temp\\ipykernel_12448\\3743807202.py:9: PerformanceWarning: DataFrame is highly fragmented.  This is usually the result of calling `frame.insert` many times, which has poor performance.  Consider joining all columns at once using pd.concat(axis=1) instead. To get a de-fragmented frame, use `newframe = frame.copy()`\n",
      "  df[f\"{col}_year\"] = df[col].dt.year\n",
      "C:\\Users\\shahp\\AppData\\Local\\Temp\\ipykernel_12448\\3743807202.py:10: PerformanceWarning: DataFrame is highly fragmented.  This is usually the result of calling `frame.insert` many times, which has poor performance.  Consider joining all columns at once using pd.concat(axis=1) instead. To get a de-fragmented frame, use `newframe = frame.copy()`\n",
      "  df[f\"{col}_month\"] = df[col].dt.month\n",
      "C:\\Users\\shahp\\AppData\\Local\\Temp\\ipykernel_12448\\3743807202.py:11: PerformanceWarning: DataFrame is highly fragmented.  This is usually the result of calling `frame.insert` many times, which has poor performance.  Consider joining all columns at once using pd.concat(axis=1) instead. To get a de-fragmented frame, use `newframe = frame.copy()`\n",
      "  df[f\"{col}_day\"] = df[col].dt.day\n",
      "C:\\Users\\shahp\\AppData\\Local\\Temp\\ipykernel_12448\\3743807202.py:9: PerformanceWarning: DataFrame is highly fragmented.  This is usually the result of calling `frame.insert` many times, which has poor performance.  Consider joining all columns at once using pd.concat(axis=1) instead. To get a de-fragmented frame, use `newframe = frame.copy()`\n",
      "  df[f\"{col}_year\"] = df[col].dt.year\n",
      "C:\\Users\\shahp\\AppData\\Local\\Temp\\ipykernel_12448\\3743807202.py:10: PerformanceWarning: DataFrame is highly fragmented.  This is usually the result of calling `frame.insert` many times, which has poor performance.  Consider joining all columns at once using pd.concat(axis=1) instead. To get a de-fragmented frame, use `newframe = frame.copy()`\n",
      "  df[f\"{col}_month\"] = df[col].dt.month\n",
      "C:\\Users\\shahp\\AppData\\Local\\Temp\\ipykernel_12448\\3743807202.py:11: PerformanceWarning: DataFrame is highly fragmented.  This is usually the result of calling `frame.insert` many times, which has poor performance.  Consider joining all columns at once using pd.concat(axis=1) instead. To get a de-fragmented frame, use `newframe = frame.copy()`\n",
      "  df[f\"{col}_day\"] = df[col].dt.day\n",
      "C:\\Users\\shahp\\AppData\\Local\\Temp\\ipykernel_12448\\3743807202.py:9: PerformanceWarning: DataFrame is highly fragmented.  This is usually the result of calling `frame.insert` many times, which has poor performance.  Consider joining all columns at once using pd.concat(axis=1) instead. To get a de-fragmented frame, use `newframe = frame.copy()`\n",
      "  df[f\"{col}_year\"] = df[col].dt.year\n",
      "C:\\Users\\shahp\\AppData\\Local\\Temp\\ipykernel_12448\\3743807202.py:10: PerformanceWarning: DataFrame is highly fragmented.  This is usually the result of calling `frame.insert` many times, which has poor performance.  Consider joining all columns at once using pd.concat(axis=1) instead. To get a de-fragmented frame, use `newframe = frame.copy()`\n",
      "  df[f\"{col}_month\"] = df[col].dt.month\n",
      "C:\\Users\\shahp\\AppData\\Local\\Temp\\ipykernel_12448\\3743807202.py:11: PerformanceWarning: DataFrame is highly fragmented.  This is usually the result of calling `frame.insert` many times, which has poor performance.  Consider joining all columns at once using pd.concat(axis=1) instead. To get a de-fragmented frame, use `newframe = frame.copy()`\n",
      "  df[f\"{col}_day\"] = df[col].dt.day\n"
     ]
    },
    {
     "name": "stdout",
     "output_type": "stream",
     "text": [
      "Processed datetime column: PropertyField30\n"
     ]
    },
    {
     "name": "stderr",
     "output_type": "stream",
     "text": [
      "C:\\Users\\shahp\\AppData\\Local\\Temp\\ipykernel_12448\\3743807202.py:4: UserWarning: Could not infer format, so each element will be parsed individually, falling back to `dateutil`. To ensure parsing is consistent and as-expected, please specify a format.\n",
      "  X_train[col] = pd.to_datetime(X_train[col], errors='coerce')\n",
      "C:\\Users\\shahp\\AppData\\Local\\Temp\\ipykernel_12448\\3743807202.py:5: UserWarning: Could not infer format, so each element will be parsed individually, falling back to `dateutil`. To ensure parsing is consistent and as-expected, please specify a format.\n",
      "  X_valid[col] = pd.to_datetime(X_valid[col], errors='coerce')\n",
      "C:\\Users\\shahp\\AppData\\Local\\Temp\\ipykernel_12448\\3743807202.py:6: UserWarning: Could not infer format, so each element will be parsed individually, falling back to `dateutil`. To ensure parsing is consistent and as-expected, please specify a format.\n",
      "  test_data[col] = pd.to_datetime(test_data[col], errors='coerce')\n",
      "C:\\Users\\shahp\\AppData\\Local\\Temp\\ipykernel_12448\\3743807202.py:9: PerformanceWarning: DataFrame is highly fragmented.  This is usually the result of calling `frame.insert` many times, which has poor performance.  Consider joining all columns at once using pd.concat(axis=1) instead. To get a de-fragmented frame, use `newframe = frame.copy()`\n",
      "  df[f\"{col}_year\"] = df[col].dt.year\n",
      "C:\\Users\\shahp\\AppData\\Local\\Temp\\ipykernel_12448\\3743807202.py:10: PerformanceWarning: DataFrame is highly fragmented.  This is usually the result of calling `frame.insert` many times, which has poor performance.  Consider joining all columns at once using pd.concat(axis=1) instead. To get a de-fragmented frame, use `newframe = frame.copy()`\n",
      "  df[f\"{col}_month\"] = df[col].dt.month\n",
      "C:\\Users\\shahp\\AppData\\Local\\Temp\\ipykernel_12448\\3743807202.py:11: PerformanceWarning: DataFrame is highly fragmented.  This is usually the result of calling `frame.insert` many times, which has poor performance.  Consider joining all columns at once using pd.concat(axis=1) instead. To get a de-fragmented frame, use `newframe = frame.copy()`\n",
      "  df[f\"{col}_day\"] = df[col].dt.day\n",
      "C:\\Users\\shahp\\AppData\\Local\\Temp\\ipykernel_12448\\3743807202.py:9: PerformanceWarning: DataFrame is highly fragmented.  This is usually the result of calling `frame.insert` many times, which has poor performance.  Consider joining all columns at once using pd.concat(axis=1) instead. To get a de-fragmented frame, use `newframe = frame.copy()`\n",
      "  df[f\"{col}_year\"] = df[col].dt.year\n",
      "C:\\Users\\shahp\\AppData\\Local\\Temp\\ipykernel_12448\\3743807202.py:10: PerformanceWarning: DataFrame is highly fragmented.  This is usually the result of calling `frame.insert` many times, which has poor performance.  Consider joining all columns at once using pd.concat(axis=1) instead. To get a de-fragmented frame, use `newframe = frame.copy()`\n",
      "  df[f\"{col}_month\"] = df[col].dt.month\n",
      "C:\\Users\\shahp\\AppData\\Local\\Temp\\ipykernel_12448\\3743807202.py:11: PerformanceWarning: DataFrame is highly fragmented.  This is usually the result of calling `frame.insert` many times, which has poor performance.  Consider joining all columns at once using pd.concat(axis=1) instead. To get a de-fragmented frame, use `newframe = frame.copy()`\n",
      "  df[f\"{col}_day\"] = df[col].dt.day\n",
      "C:\\Users\\shahp\\AppData\\Local\\Temp\\ipykernel_12448\\3743807202.py:9: PerformanceWarning: DataFrame is highly fragmented.  This is usually the result of calling `frame.insert` many times, which has poor performance.  Consider joining all columns at once using pd.concat(axis=1) instead. To get a de-fragmented frame, use `newframe = frame.copy()`\n",
      "  df[f\"{col}_year\"] = df[col].dt.year\n",
      "C:\\Users\\shahp\\AppData\\Local\\Temp\\ipykernel_12448\\3743807202.py:10: PerformanceWarning: DataFrame is highly fragmented.  This is usually the result of calling `frame.insert` many times, which has poor performance.  Consider joining all columns at once using pd.concat(axis=1) instead. To get a de-fragmented frame, use `newframe = frame.copy()`\n",
      "  df[f\"{col}_month\"] = df[col].dt.month\n",
      "C:\\Users\\shahp\\AppData\\Local\\Temp\\ipykernel_12448\\3743807202.py:11: PerformanceWarning: DataFrame is highly fragmented.  This is usually the result of calling `frame.insert` many times, which has poor performance.  Consider joining all columns at once using pd.concat(axis=1) instead. To get a de-fragmented frame, use `newframe = frame.copy()`\n",
      "  df[f\"{col}_day\"] = df[col].dt.day\n"
     ]
    },
    {
     "name": "stdout",
     "output_type": "stream",
     "text": [
      "Processed datetime column: PropertyField31\n"
     ]
    },
    {
     "name": "stderr",
     "output_type": "stream",
     "text": [
      "C:\\Users\\shahp\\AppData\\Local\\Temp\\ipykernel_12448\\3743807202.py:4: UserWarning: Could not infer format, so each element will be parsed individually, falling back to `dateutil`. To ensure parsing is consistent and as-expected, please specify a format.\n",
      "  X_train[col] = pd.to_datetime(X_train[col], errors='coerce')\n",
      "C:\\Users\\shahp\\AppData\\Local\\Temp\\ipykernel_12448\\3743807202.py:5: UserWarning: Could not infer format, so each element will be parsed individually, falling back to `dateutil`. To ensure parsing is consistent and as-expected, please specify a format.\n",
      "  X_valid[col] = pd.to_datetime(X_valid[col], errors='coerce')\n",
      "C:\\Users\\shahp\\AppData\\Local\\Temp\\ipykernel_12448\\3743807202.py:6: UserWarning: Could not infer format, so each element will be parsed individually, falling back to `dateutil`. To ensure parsing is consistent and as-expected, please specify a format.\n",
      "  test_data[col] = pd.to_datetime(test_data[col], errors='coerce')\n",
      "C:\\Users\\shahp\\AppData\\Local\\Temp\\ipykernel_12448\\3743807202.py:9: PerformanceWarning: DataFrame is highly fragmented.  This is usually the result of calling `frame.insert` many times, which has poor performance.  Consider joining all columns at once using pd.concat(axis=1) instead. To get a de-fragmented frame, use `newframe = frame.copy()`\n",
      "  df[f\"{col}_year\"] = df[col].dt.year\n",
      "C:\\Users\\shahp\\AppData\\Local\\Temp\\ipykernel_12448\\3743807202.py:10: PerformanceWarning: DataFrame is highly fragmented.  This is usually the result of calling `frame.insert` many times, which has poor performance.  Consider joining all columns at once using pd.concat(axis=1) instead. To get a de-fragmented frame, use `newframe = frame.copy()`\n",
      "  df[f\"{col}_month\"] = df[col].dt.month\n",
      "C:\\Users\\shahp\\AppData\\Local\\Temp\\ipykernel_12448\\3743807202.py:11: PerformanceWarning: DataFrame is highly fragmented.  This is usually the result of calling `frame.insert` many times, which has poor performance.  Consider joining all columns at once using pd.concat(axis=1) instead. To get a de-fragmented frame, use `newframe = frame.copy()`\n",
      "  df[f\"{col}_day\"] = df[col].dt.day\n",
      "C:\\Users\\shahp\\AppData\\Local\\Temp\\ipykernel_12448\\3743807202.py:9: PerformanceWarning: DataFrame is highly fragmented.  This is usually the result of calling `frame.insert` many times, which has poor performance.  Consider joining all columns at once using pd.concat(axis=1) instead. To get a de-fragmented frame, use `newframe = frame.copy()`\n",
      "  df[f\"{col}_year\"] = df[col].dt.year\n",
      "C:\\Users\\shahp\\AppData\\Local\\Temp\\ipykernel_12448\\3743807202.py:10: PerformanceWarning: DataFrame is highly fragmented.  This is usually the result of calling `frame.insert` many times, which has poor performance.  Consider joining all columns at once using pd.concat(axis=1) instead. To get a de-fragmented frame, use `newframe = frame.copy()`\n",
      "  df[f\"{col}_month\"] = df[col].dt.month\n",
      "C:\\Users\\shahp\\AppData\\Local\\Temp\\ipykernel_12448\\3743807202.py:11: PerformanceWarning: DataFrame is highly fragmented.  This is usually the result of calling `frame.insert` many times, which has poor performance.  Consider joining all columns at once using pd.concat(axis=1) instead. To get a de-fragmented frame, use `newframe = frame.copy()`\n",
      "  df[f\"{col}_day\"] = df[col].dt.day\n",
      "C:\\Users\\shahp\\AppData\\Local\\Temp\\ipykernel_12448\\3743807202.py:9: PerformanceWarning: DataFrame is highly fragmented.  This is usually the result of calling `frame.insert` many times, which has poor performance.  Consider joining all columns at once using pd.concat(axis=1) instead. To get a de-fragmented frame, use `newframe = frame.copy()`\n",
      "  df[f\"{col}_year\"] = df[col].dt.year\n",
      "C:\\Users\\shahp\\AppData\\Local\\Temp\\ipykernel_12448\\3743807202.py:10: PerformanceWarning: DataFrame is highly fragmented.  This is usually the result of calling `frame.insert` many times, which has poor performance.  Consider joining all columns at once using pd.concat(axis=1) instead. To get a de-fragmented frame, use `newframe = frame.copy()`\n",
      "  df[f\"{col}_month\"] = df[col].dt.month\n",
      "C:\\Users\\shahp\\AppData\\Local\\Temp\\ipykernel_12448\\3743807202.py:11: PerformanceWarning: DataFrame is highly fragmented.  This is usually the result of calling `frame.insert` many times, which has poor performance.  Consider joining all columns at once using pd.concat(axis=1) instead. To get a de-fragmented frame, use `newframe = frame.copy()`\n",
      "  df[f\"{col}_day\"] = df[col].dt.day\n"
     ]
    },
    {
     "name": "stdout",
     "output_type": "stream",
     "text": [
      "Processed datetime column: PropertyField32\n"
     ]
    },
    {
     "name": "stderr",
     "output_type": "stream",
     "text": [
      "C:\\Users\\shahp\\AppData\\Local\\Temp\\ipykernel_12448\\3743807202.py:4: UserWarning: Could not infer format, so each element will be parsed individually, falling back to `dateutil`. To ensure parsing is consistent and as-expected, please specify a format.\n",
      "  X_train[col] = pd.to_datetime(X_train[col], errors='coerce')\n",
      "C:\\Users\\shahp\\AppData\\Local\\Temp\\ipykernel_12448\\3743807202.py:5: UserWarning: Could not infer format, so each element will be parsed individually, falling back to `dateutil`. To ensure parsing is consistent and as-expected, please specify a format.\n",
      "  X_valid[col] = pd.to_datetime(X_valid[col], errors='coerce')\n",
      "C:\\Users\\shahp\\AppData\\Local\\Temp\\ipykernel_12448\\3743807202.py:6: UserWarning: Could not infer format, so each element will be parsed individually, falling back to `dateutil`. To ensure parsing is consistent and as-expected, please specify a format.\n",
      "  test_data[col] = pd.to_datetime(test_data[col], errors='coerce')\n",
      "C:\\Users\\shahp\\AppData\\Local\\Temp\\ipykernel_12448\\3743807202.py:9: PerformanceWarning: DataFrame is highly fragmented.  This is usually the result of calling `frame.insert` many times, which has poor performance.  Consider joining all columns at once using pd.concat(axis=1) instead. To get a de-fragmented frame, use `newframe = frame.copy()`\n",
      "  df[f\"{col}_year\"] = df[col].dt.year\n",
      "C:\\Users\\shahp\\AppData\\Local\\Temp\\ipykernel_12448\\3743807202.py:10: PerformanceWarning: DataFrame is highly fragmented.  This is usually the result of calling `frame.insert` many times, which has poor performance.  Consider joining all columns at once using pd.concat(axis=1) instead. To get a de-fragmented frame, use `newframe = frame.copy()`\n",
      "  df[f\"{col}_month\"] = df[col].dt.month\n",
      "C:\\Users\\shahp\\AppData\\Local\\Temp\\ipykernel_12448\\3743807202.py:11: PerformanceWarning: DataFrame is highly fragmented.  This is usually the result of calling `frame.insert` many times, which has poor performance.  Consider joining all columns at once using pd.concat(axis=1) instead. To get a de-fragmented frame, use `newframe = frame.copy()`\n",
      "  df[f\"{col}_day\"] = df[col].dt.day\n",
      "C:\\Users\\shahp\\AppData\\Local\\Temp\\ipykernel_12448\\3743807202.py:9: PerformanceWarning: DataFrame is highly fragmented.  This is usually the result of calling `frame.insert` many times, which has poor performance.  Consider joining all columns at once using pd.concat(axis=1) instead. To get a de-fragmented frame, use `newframe = frame.copy()`\n",
      "  df[f\"{col}_year\"] = df[col].dt.year\n",
      "C:\\Users\\shahp\\AppData\\Local\\Temp\\ipykernel_12448\\3743807202.py:10: PerformanceWarning: DataFrame is highly fragmented.  This is usually the result of calling `frame.insert` many times, which has poor performance.  Consider joining all columns at once using pd.concat(axis=1) instead. To get a de-fragmented frame, use `newframe = frame.copy()`\n",
      "  df[f\"{col}_month\"] = df[col].dt.month\n",
      "C:\\Users\\shahp\\AppData\\Local\\Temp\\ipykernel_12448\\3743807202.py:11: PerformanceWarning: DataFrame is highly fragmented.  This is usually the result of calling `frame.insert` many times, which has poor performance.  Consider joining all columns at once using pd.concat(axis=1) instead. To get a de-fragmented frame, use `newframe = frame.copy()`\n",
      "  df[f\"{col}_day\"] = df[col].dt.day\n",
      "C:\\Users\\shahp\\AppData\\Local\\Temp\\ipykernel_12448\\3743807202.py:9: PerformanceWarning: DataFrame is highly fragmented.  This is usually the result of calling `frame.insert` many times, which has poor performance.  Consider joining all columns at once using pd.concat(axis=1) instead. To get a de-fragmented frame, use `newframe = frame.copy()`\n",
      "  df[f\"{col}_year\"] = df[col].dt.year\n",
      "C:\\Users\\shahp\\AppData\\Local\\Temp\\ipykernel_12448\\3743807202.py:10: PerformanceWarning: DataFrame is highly fragmented.  This is usually the result of calling `frame.insert` many times, which has poor performance.  Consider joining all columns at once using pd.concat(axis=1) instead. To get a de-fragmented frame, use `newframe = frame.copy()`\n",
      "  df[f\"{col}_month\"] = df[col].dt.month\n",
      "C:\\Users\\shahp\\AppData\\Local\\Temp\\ipykernel_12448\\3743807202.py:11: PerformanceWarning: DataFrame is highly fragmented.  This is usually the result of calling `frame.insert` many times, which has poor performance.  Consider joining all columns at once using pd.concat(axis=1) instead. To get a de-fragmented frame, use `newframe = frame.copy()`\n",
      "  df[f\"{col}_day\"] = df[col].dt.day\n"
     ]
    },
    {
     "name": "stdout",
     "output_type": "stream",
     "text": [
      "Processed datetime column: PropertyField33\n"
     ]
    },
    {
     "name": "stderr",
     "output_type": "stream",
     "text": [
      "C:\\Users\\shahp\\AppData\\Local\\Temp\\ipykernel_12448\\3743807202.py:4: UserWarning: Could not infer format, so each element will be parsed individually, falling back to `dateutil`. To ensure parsing is consistent and as-expected, please specify a format.\n",
      "  X_train[col] = pd.to_datetime(X_train[col], errors='coerce')\n",
      "C:\\Users\\shahp\\AppData\\Local\\Temp\\ipykernel_12448\\3743807202.py:5: UserWarning: Could not infer format, so each element will be parsed individually, falling back to `dateutil`. To ensure parsing is consistent and as-expected, please specify a format.\n",
      "  X_valid[col] = pd.to_datetime(X_valid[col], errors='coerce')\n",
      "C:\\Users\\shahp\\AppData\\Local\\Temp\\ipykernel_12448\\3743807202.py:6: UserWarning: Could not infer format, so each element will be parsed individually, falling back to `dateutil`. To ensure parsing is consistent and as-expected, please specify a format.\n",
      "  test_data[col] = pd.to_datetime(test_data[col], errors='coerce')\n",
      "C:\\Users\\shahp\\AppData\\Local\\Temp\\ipykernel_12448\\3743807202.py:9: PerformanceWarning: DataFrame is highly fragmented.  This is usually the result of calling `frame.insert` many times, which has poor performance.  Consider joining all columns at once using pd.concat(axis=1) instead. To get a de-fragmented frame, use `newframe = frame.copy()`\n",
      "  df[f\"{col}_year\"] = df[col].dt.year\n",
      "C:\\Users\\shahp\\AppData\\Local\\Temp\\ipykernel_12448\\3743807202.py:10: PerformanceWarning: DataFrame is highly fragmented.  This is usually the result of calling `frame.insert` many times, which has poor performance.  Consider joining all columns at once using pd.concat(axis=1) instead. To get a de-fragmented frame, use `newframe = frame.copy()`\n",
      "  df[f\"{col}_month\"] = df[col].dt.month\n",
      "C:\\Users\\shahp\\AppData\\Local\\Temp\\ipykernel_12448\\3743807202.py:11: PerformanceWarning: DataFrame is highly fragmented.  This is usually the result of calling `frame.insert` many times, which has poor performance.  Consider joining all columns at once using pd.concat(axis=1) instead. To get a de-fragmented frame, use `newframe = frame.copy()`\n",
      "  df[f\"{col}_day\"] = df[col].dt.day\n",
      "C:\\Users\\shahp\\AppData\\Local\\Temp\\ipykernel_12448\\3743807202.py:9: PerformanceWarning: DataFrame is highly fragmented.  This is usually the result of calling `frame.insert` many times, which has poor performance.  Consider joining all columns at once using pd.concat(axis=1) instead. To get a de-fragmented frame, use `newframe = frame.copy()`\n",
      "  df[f\"{col}_year\"] = df[col].dt.year\n",
      "C:\\Users\\shahp\\AppData\\Local\\Temp\\ipykernel_12448\\3743807202.py:10: PerformanceWarning: DataFrame is highly fragmented.  This is usually the result of calling `frame.insert` many times, which has poor performance.  Consider joining all columns at once using pd.concat(axis=1) instead. To get a de-fragmented frame, use `newframe = frame.copy()`\n",
      "  df[f\"{col}_month\"] = df[col].dt.month\n",
      "C:\\Users\\shahp\\AppData\\Local\\Temp\\ipykernel_12448\\3743807202.py:11: PerformanceWarning: DataFrame is highly fragmented.  This is usually the result of calling `frame.insert` many times, which has poor performance.  Consider joining all columns at once using pd.concat(axis=1) instead. To get a de-fragmented frame, use `newframe = frame.copy()`\n",
      "  df[f\"{col}_day\"] = df[col].dt.day\n",
      "C:\\Users\\shahp\\AppData\\Local\\Temp\\ipykernel_12448\\3743807202.py:9: PerformanceWarning: DataFrame is highly fragmented.  This is usually the result of calling `frame.insert` many times, which has poor performance.  Consider joining all columns at once using pd.concat(axis=1) instead. To get a de-fragmented frame, use `newframe = frame.copy()`\n",
      "  df[f\"{col}_year\"] = df[col].dt.year\n",
      "C:\\Users\\shahp\\AppData\\Local\\Temp\\ipykernel_12448\\3743807202.py:10: PerformanceWarning: DataFrame is highly fragmented.  This is usually the result of calling `frame.insert` many times, which has poor performance.  Consider joining all columns at once using pd.concat(axis=1) instead. To get a de-fragmented frame, use `newframe = frame.copy()`\n",
      "  df[f\"{col}_month\"] = df[col].dt.month\n",
      "C:\\Users\\shahp\\AppData\\Local\\Temp\\ipykernel_12448\\3743807202.py:11: PerformanceWarning: DataFrame is highly fragmented.  This is usually the result of calling `frame.insert` many times, which has poor performance.  Consider joining all columns at once using pd.concat(axis=1) instead. To get a de-fragmented frame, use `newframe = frame.copy()`\n",
      "  df[f\"{col}_day\"] = df[col].dt.day\n"
     ]
    },
    {
     "name": "stdout",
     "output_type": "stream",
     "text": [
      "Processed datetime column: PropertyField34\n"
     ]
    },
    {
     "name": "stderr",
     "output_type": "stream",
     "text": [
      "C:\\Users\\shahp\\AppData\\Local\\Temp\\ipykernel_12448\\3743807202.py:4: UserWarning: Could not infer format, so each element will be parsed individually, falling back to `dateutil`. To ensure parsing is consistent and as-expected, please specify a format.\n",
      "  X_train[col] = pd.to_datetime(X_train[col], errors='coerce')\n",
      "C:\\Users\\shahp\\AppData\\Local\\Temp\\ipykernel_12448\\3743807202.py:5: UserWarning: Could not infer format, so each element will be parsed individually, falling back to `dateutil`. To ensure parsing is consistent and as-expected, please specify a format.\n",
      "  X_valid[col] = pd.to_datetime(X_valid[col], errors='coerce')\n",
      "C:\\Users\\shahp\\AppData\\Local\\Temp\\ipykernel_12448\\3743807202.py:6: UserWarning: Could not infer format, so each element will be parsed individually, falling back to `dateutil`. To ensure parsing is consistent and as-expected, please specify a format.\n",
      "  test_data[col] = pd.to_datetime(test_data[col], errors='coerce')\n",
      "C:\\Users\\shahp\\AppData\\Local\\Temp\\ipykernel_12448\\3743807202.py:9: PerformanceWarning: DataFrame is highly fragmented.  This is usually the result of calling `frame.insert` many times, which has poor performance.  Consider joining all columns at once using pd.concat(axis=1) instead. To get a de-fragmented frame, use `newframe = frame.copy()`\n",
      "  df[f\"{col}_year\"] = df[col].dt.year\n",
      "C:\\Users\\shahp\\AppData\\Local\\Temp\\ipykernel_12448\\3743807202.py:10: PerformanceWarning: DataFrame is highly fragmented.  This is usually the result of calling `frame.insert` many times, which has poor performance.  Consider joining all columns at once using pd.concat(axis=1) instead. To get a de-fragmented frame, use `newframe = frame.copy()`\n",
      "  df[f\"{col}_month\"] = df[col].dt.month\n",
      "C:\\Users\\shahp\\AppData\\Local\\Temp\\ipykernel_12448\\3743807202.py:11: PerformanceWarning: DataFrame is highly fragmented.  This is usually the result of calling `frame.insert` many times, which has poor performance.  Consider joining all columns at once using pd.concat(axis=1) instead. To get a de-fragmented frame, use `newframe = frame.copy()`\n",
      "  df[f\"{col}_day\"] = df[col].dt.day\n",
      "C:\\Users\\shahp\\AppData\\Local\\Temp\\ipykernel_12448\\3743807202.py:9: PerformanceWarning: DataFrame is highly fragmented.  This is usually the result of calling `frame.insert` many times, which has poor performance.  Consider joining all columns at once using pd.concat(axis=1) instead. To get a de-fragmented frame, use `newframe = frame.copy()`\n",
      "  df[f\"{col}_year\"] = df[col].dt.year\n",
      "C:\\Users\\shahp\\AppData\\Local\\Temp\\ipykernel_12448\\3743807202.py:10: PerformanceWarning: DataFrame is highly fragmented.  This is usually the result of calling `frame.insert` many times, which has poor performance.  Consider joining all columns at once using pd.concat(axis=1) instead. To get a de-fragmented frame, use `newframe = frame.copy()`\n",
      "  df[f\"{col}_month\"] = df[col].dt.month\n",
      "C:\\Users\\shahp\\AppData\\Local\\Temp\\ipykernel_12448\\3743807202.py:11: PerformanceWarning: DataFrame is highly fragmented.  This is usually the result of calling `frame.insert` many times, which has poor performance.  Consider joining all columns at once using pd.concat(axis=1) instead. To get a de-fragmented frame, use `newframe = frame.copy()`\n",
      "  df[f\"{col}_day\"] = df[col].dt.day\n",
      "C:\\Users\\shahp\\AppData\\Local\\Temp\\ipykernel_12448\\3743807202.py:9: PerformanceWarning: DataFrame is highly fragmented.  This is usually the result of calling `frame.insert` many times, which has poor performance.  Consider joining all columns at once using pd.concat(axis=1) instead. To get a de-fragmented frame, use `newframe = frame.copy()`\n",
      "  df[f\"{col}_year\"] = df[col].dt.year\n",
      "C:\\Users\\shahp\\AppData\\Local\\Temp\\ipykernel_12448\\3743807202.py:10: PerformanceWarning: DataFrame is highly fragmented.  This is usually the result of calling `frame.insert` many times, which has poor performance.  Consider joining all columns at once using pd.concat(axis=1) instead. To get a de-fragmented frame, use `newframe = frame.copy()`\n",
      "  df[f\"{col}_month\"] = df[col].dt.month\n",
      "C:\\Users\\shahp\\AppData\\Local\\Temp\\ipykernel_12448\\3743807202.py:11: PerformanceWarning: DataFrame is highly fragmented.  This is usually the result of calling `frame.insert` many times, which has poor performance.  Consider joining all columns at once using pd.concat(axis=1) instead. To get a de-fragmented frame, use `newframe = frame.copy()`\n",
      "  df[f\"{col}_day\"] = df[col].dt.day\n"
     ]
    },
    {
     "name": "stdout",
     "output_type": "stream",
     "text": [
      "Processed datetime column: PropertyField36\n"
     ]
    },
    {
     "name": "stderr",
     "output_type": "stream",
     "text": [
      "C:\\Users\\shahp\\AppData\\Local\\Temp\\ipykernel_12448\\3743807202.py:4: UserWarning: Could not infer format, so each element will be parsed individually, falling back to `dateutil`. To ensure parsing is consistent and as-expected, please specify a format.\n",
      "  X_train[col] = pd.to_datetime(X_train[col], errors='coerce')\n",
      "C:\\Users\\shahp\\AppData\\Local\\Temp\\ipykernel_12448\\3743807202.py:5: UserWarning: Could not infer format, so each element will be parsed individually, falling back to `dateutil`. To ensure parsing is consistent and as-expected, please specify a format.\n",
      "  X_valid[col] = pd.to_datetime(X_valid[col], errors='coerce')\n",
      "C:\\Users\\shahp\\AppData\\Local\\Temp\\ipykernel_12448\\3743807202.py:6: UserWarning: Could not infer format, so each element will be parsed individually, falling back to `dateutil`. To ensure parsing is consistent and as-expected, please specify a format.\n",
      "  test_data[col] = pd.to_datetime(test_data[col], errors='coerce')\n",
      "C:\\Users\\shahp\\AppData\\Local\\Temp\\ipykernel_12448\\3743807202.py:9: PerformanceWarning: DataFrame is highly fragmented.  This is usually the result of calling `frame.insert` many times, which has poor performance.  Consider joining all columns at once using pd.concat(axis=1) instead. To get a de-fragmented frame, use `newframe = frame.copy()`\n",
      "  df[f\"{col}_year\"] = df[col].dt.year\n",
      "C:\\Users\\shahp\\AppData\\Local\\Temp\\ipykernel_12448\\3743807202.py:10: PerformanceWarning: DataFrame is highly fragmented.  This is usually the result of calling `frame.insert` many times, which has poor performance.  Consider joining all columns at once using pd.concat(axis=1) instead. To get a de-fragmented frame, use `newframe = frame.copy()`\n",
      "  df[f\"{col}_month\"] = df[col].dt.month\n",
      "C:\\Users\\shahp\\AppData\\Local\\Temp\\ipykernel_12448\\3743807202.py:11: PerformanceWarning: DataFrame is highly fragmented.  This is usually the result of calling `frame.insert` many times, which has poor performance.  Consider joining all columns at once using pd.concat(axis=1) instead. To get a de-fragmented frame, use `newframe = frame.copy()`\n",
      "  df[f\"{col}_day\"] = df[col].dt.day\n",
      "C:\\Users\\shahp\\AppData\\Local\\Temp\\ipykernel_12448\\3743807202.py:9: PerformanceWarning: DataFrame is highly fragmented.  This is usually the result of calling `frame.insert` many times, which has poor performance.  Consider joining all columns at once using pd.concat(axis=1) instead. To get a de-fragmented frame, use `newframe = frame.copy()`\n",
      "  df[f\"{col}_year\"] = df[col].dt.year\n",
      "C:\\Users\\shahp\\AppData\\Local\\Temp\\ipykernel_12448\\3743807202.py:10: PerformanceWarning: DataFrame is highly fragmented.  This is usually the result of calling `frame.insert` many times, which has poor performance.  Consider joining all columns at once using pd.concat(axis=1) instead. To get a de-fragmented frame, use `newframe = frame.copy()`\n",
      "  df[f\"{col}_month\"] = df[col].dt.month\n",
      "C:\\Users\\shahp\\AppData\\Local\\Temp\\ipykernel_12448\\3743807202.py:11: PerformanceWarning: DataFrame is highly fragmented.  This is usually the result of calling `frame.insert` many times, which has poor performance.  Consider joining all columns at once using pd.concat(axis=1) instead. To get a de-fragmented frame, use `newframe = frame.copy()`\n",
      "  df[f\"{col}_day\"] = df[col].dt.day\n",
      "C:\\Users\\shahp\\AppData\\Local\\Temp\\ipykernel_12448\\3743807202.py:9: PerformanceWarning: DataFrame is highly fragmented.  This is usually the result of calling `frame.insert` many times, which has poor performance.  Consider joining all columns at once using pd.concat(axis=1) instead. To get a de-fragmented frame, use `newframe = frame.copy()`\n",
      "  df[f\"{col}_year\"] = df[col].dt.year\n",
      "C:\\Users\\shahp\\AppData\\Local\\Temp\\ipykernel_12448\\3743807202.py:10: PerformanceWarning: DataFrame is highly fragmented.  This is usually the result of calling `frame.insert` many times, which has poor performance.  Consider joining all columns at once using pd.concat(axis=1) instead. To get a de-fragmented frame, use `newframe = frame.copy()`\n",
      "  df[f\"{col}_month\"] = df[col].dt.month\n",
      "C:\\Users\\shahp\\AppData\\Local\\Temp\\ipykernel_12448\\3743807202.py:11: PerformanceWarning: DataFrame is highly fragmented.  This is usually the result of calling `frame.insert` many times, which has poor performance.  Consider joining all columns at once using pd.concat(axis=1) instead. To get a de-fragmented frame, use `newframe = frame.copy()`\n",
      "  df[f\"{col}_day\"] = df[col].dt.day\n"
     ]
    },
    {
     "name": "stdout",
     "output_type": "stream",
     "text": [
      "Processed datetime column: PropertyField37\n"
     ]
    },
    {
     "name": "stderr",
     "output_type": "stream",
     "text": [
      "C:\\Users\\shahp\\AppData\\Local\\Temp\\ipykernel_12448\\3743807202.py:4: UserWarning: Could not infer format, so each element will be parsed individually, falling back to `dateutil`. To ensure parsing is consistent and as-expected, please specify a format.\n",
      "  X_train[col] = pd.to_datetime(X_train[col], errors='coerce')\n",
      "C:\\Users\\shahp\\AppData\\Local\\Temp\\ipykernel_12448\\3743807202.py:5: UserWarning: Could not infer format, so each element will be parsed individually, falling back to `dateutil`. To ensure parsing is consistent and as-expected, please specify a format.\n",
      "  X_valid[col] = pd.to_datetime(X_valid[col], errors='coerce')\n",
      "C:\\Users\\shahp\\AppData\\Local\\Temp\\ipykernel_12448\\3743807202.py:6: UserWarning: Could not infer format, so each element will be parsed individually, falling back to `dateutil`. To ensure parsing is consistent and as-expected, please specify a format.\n",
      "  test_data[col] = pd.to_datetime(test_data[col], errors='coerce')\n",
      "C:\\Users\\shahp\\AppData\\Local\\Temp\\ipykernel_12448\\3743807202.py:9: PerformanceWarning: DataFrame is highly fragmented.  This is usually the result of calling `frame.insert` many times, which has poor performance.  Consider joining all columns at once using pd.concat(axis=1) instead. To get a de-fragmented frame, use `newframe = frame.copy()`\n",
      "  df[f\"{col}_year\"] = df[col].dt.year\n",
      "C:\\Users\\shahp\\AppData\\Local\\Temp\\ipykernel_12448\\3743807202.py:10: PerformanceWarning: DataFrame is highly fragmented.  This is usually the result of calling `frame.insert` many times, which has poor performance.  Consider joining all columns at once using pd.concat(axis=1) instead. To get a de-fragmented frame, use `newframe = frame.copy()`\n",
      "  df[f\"{col}_month\"] = df[col].dt.month\n",
      "C:\\Users\\shahp\\AppData\\Local\\Temp\\ipykernel_12448\\3743807202.py:11: PerformanceWarning: DataFrame is highly fragmented.  This is usually the result of calling `frame.insert` many times, which has poor performance.  Consider joining all columns at once using pd.concat(axis=1) instead. To get a de-fragmented frame, use `newframe = frame.copy()`\n",
      "  df[f\"{col}_day\"] = df[col].dt.day\n",
      "C:\\Users\\shahp\\AppData\\Local\\Temp\\ipykernel_12448\\3743807202.py:9: PerformanceWarning: DataFrame is highly fragmented.  This is usually the result of calling `frame.insert` many times, which has poor performance.  Consider joining all columns at once using pd.concat(axis=1) instead. To get a de-fragmented frame, use `newframe = frame.copy()`\n",
      "  df[f\"{col}_year\"] = df[col].dt.year\n",
      "C:\\Users\\shahp\\AppData\\Local\\Temp\\ipykernel_12448\\3743807202.py:10: PerformanceWarning: DataFrame is highly fragmented.  This is usually the result of calling `frame.insert` many times, which has poor performance.  Consider joining all columns at once using pd.concat(axis=1) instead. To get a de-fragmented frame, use `newframe = frame.copy()`\n",
      "  df[f\"{col}_month\"] = df[col].dt.month\n",
      "C:\\Users\\shahp\\AppData\\Local\\Temp\\ipykernel_12448\\3743807202.py:11: PerformanceWarning: DataFrame is highly fragmented.  This is usually the result of calling `frame.insert` many times, which has poor performance.  Consider joining all columns at once using pd.concat(axis=1) instead. To get a de-fragmented frame, use `newframe = frame.copy()`\n",
      "  df[f\"{col}_day\"] = df[col].dt.day\n",
      "C:\\Users\\shahp\\AppData\\Local\\Temp\\ipykernel_12448\\3743807202.py:9: PerformanceWarning: DataFrame is highly fragmented.  This is usually the result of calling `frame.insert` many times, which has poor performance.  Consider joining all columns at once using pd.concat(axis=1) instead. To get a de-fragmented frame, use `newframe = frame.copy()`\n",
      "  df[f\"{col}_year\"] = df[col].dt.year\n",
      "C:\\Users\\shahp\\AppData\\Local\\Temp\\ipykernel_12448\\3743807202.py:10: PerformanceWarning: DataFrame is highly fragmented.  This is usually the result of calling `frame.insert` many times, which has poor performance.  Consider joining all columns at once using pd.concat(axis=1) instead. To get a de-fragmented frame, use `newframe = frame.copy()`\n",
      "  df[f\"{col}_month\"] = df[col].dt.month\n",
      "C:\\Users\\shahp\\AppData\\Local\\Temp\\ipykernel_12448\\3743807202.py:11: PerformanceWarning: DataFrame is highly fragmented.  This is usually the result of calling `frame.insert` many times, which has poor performance.  Consider joining all columns at once using pd.concat(axis=1) instead. To get a de-fragmented frame, use `newframe = frame.copy()`\n",
      "  df[f\"{col}_day\"] = df[col].dt.day\n"
     ]
    },
    {
     "name": "stdout",
     "output_type": "stream",
     "text": [
      "Processed datetime column: PropertyField38\n"
     ]
    },
    {
     "name": "stderr",
     "output_type": "stream",
     "text": [
      "C:\\Users\\shahp\\AppData\\Local\\Temp\\ipykernel_12448\\3743807202.py:4: UserWarning: Could not infer format, so each element will be parsed individually, falling back to `dateutil`. To ensure parsing is consistent and as-expected, please specify a format.\n",
      "  X_train[col] = pd.to_datetime(X_train[col], errors='coerce')\n",
      "C:\\Users\\shahp\\AppData\\Local\\Temp\\ipykernel_12448\\3743807202.py:5: UserWarning: Could not infer format, so each element will be parsed individually, falling back to `dateutil`. To ensure parsing is consistent and as-expected, please specify a format.\n",
      "  X_valid[col] = pd.to_datetime(X_valid[col], errors='coerce')\n",
      "C:\\Users\\shahp\\AppData\\Local\\Temp\\ipykernel_12448\\3743807202.py:6: UserWarning: Could not infer format, so each element will be parsed individually, falling back to `dateutil`. To ensure parsing is consistent and as-expected, please specify a format.\n",
      "  test_data[col] = pd.to_datetime(test_data[col], errors='coerce')\n",
      "C:\\Users\\shahp\\AppData\\Local\\Temp\\ipykernel_12448\\3743807202.py:9: PerformanceWarning: DataFrame is highly fragmented.  This is usually the result of calling `frame.insert` many times, which has poor performance.  Consider joining all columns at once using pd.concat(axis=1) instead. To get a de-fragmented frame, use `newframe = frame.copy()`\n",
      "  df[f\"{col}_year\"] = df[col].dt.year\n",
      "C:\\Users\\shahp\\AppData\\Local\\Temp\\ipykernel_12448\\3743807202.py:10: PerformanceWarning: DataFrame is highly fragmented.  This is usually the result of calling `frame.insert` many times, which has poor performance.  Consider joining all columns at once using pd.concat(axis=1) instead. To get a de-fragmented frame, use `newframe = frame.copy()`\n",
      "  df[f\"{col}_month\"] = df[col].dt.month\n",
      "C:\\Users\\shahp\\AppData\\Local\\Temp\\ipykernel_12448\\3743807202.py:11: PerformanceWarning: DataFrame is highly fragmented.  This is usually the result of calling `frame.insert` many times, which has poor performance.  Consider joining all columns at once using pd.concat(axis=1) instead. To get a de-fragmented frame, use `newframe = frame.copy()`\n",
      "  df[f\"{col}_day\"] = df[col].dt.day\n",
      "C:\\Users\\shahp\\AppData\\Local\\Temp\\ipykernel_12448\\3743807202.py:9: PerformanceWarning: DataFrame is highly fragmented.  This is usually the result of calling `frame.insert` many times, which has poor performance.  Consider joining all columns at once using pd.concat(axis=1) instead. To get a de-fragmented frame, use `newframe = frame.copy()`\n",
      "  df[f\"{col}_year\"] = df[col].dt.year\n",
      "C:\\Users\\shahp\\AppData\\Local\\Temp\\ipykernel_12448\\3743807202.py:10: PerformanceWarning: DataFrame is highly fragmented.  This is usually the result of calling `frame.insert` many times, which has poor performance.  Consider joining all columns at once using pd.concat(axis=1) instead. To get a de-fragmented frame, use `newframe = frame.copy()`\n",
      "  df[f\"{col}_month\"] = df[col].dt.month\n",
      "C:\\Users\\shahp\\AppData\\Local\\Temp\\ipykernel_12448\\3743807202.py:11: PerformanceWarning: DataFrame is highly fragmented.  This is usually the result of calling `frame.insert` many times, which has poor performance.  Consider joining all columns at once using pd.concat(axis=1) instead. To get a de-fragmented frame, use `newframe = frame.copy()`\n",
      "  df[f\"{col}_day\"] = df[col].dt.day\n",
      "C:\\Users\\shahp\\AppData\\Local\\Temp\\ipykernel_12448\\3743807202.py:9: PerformanceWarning: DataFrame is highly fragmented.  This is usually the result of calling `frame.insert` many times, which has poor performance.  Consider joining all columns at once using pd.concat(axis=1) instead. To get a de-fragmented frame, use `newframe = frame.copy()`\n",
      "  df[f\"{col}_year\"] = df[col].dt.year\n",
      "C:\\Users\\shahp\\AppData\\Local\\Temp\\ipykernel_12448\\3743807202.py:10: PerformanceWarning: DataFrame is highly fragmented.  This is usually the result of calling `frame.insert` many times, which has poor performance.  Consider joining all columns at once using pd.concat(axis=1) instead. To get a de-fragmented frame, use `newframe = frame.copy()`\n",
      "  df[f\"{col}_month\"] = df[col].dt.month\n",
      "C:\\Users\\shahp\\AppData\\Local\\Temp\\ipykernel_12448\\3743807202.py:11: PerformanceWarning: DataFrame is highly fragmented.  This is usually the result of calling `frame.insert` many times, which has poor performance.  Consider joining all columns at once using pd.concat(axis=1) instead. To get a de-fragmented frame, use `newframe = frame.copy()`\n",
      "  df[f\"{col}_day\"] = df[col].dt.day\n"
     ]
    },
    {
     "name": "stdout",
     "output_type": "stream",
     "text": [
      "Processed datetime column: GeographicField63\n"
     ]
    },
    {
     "name": "stderr",
     "output_type": "stream",
     "text": [
      "C:\\Users\\shahp\\AppData\\Local\\Temp\\ipykernel_12448\\3743807202.py:4: UserWarning: Could not infer format, so each element will be parsed individually, falling back to `dateutil`. To ensure parsing is consistent and as-expected, please specify a format.\n",
      "  X_train[col] = pd.to_datetime(X_train[col], errors='coerce')\n",
      "C:\\Users\\shahp\\AppData\\Local\\Temp\\ipykernel_12448\\3743807202.py:5: UserWarning: Could not infer format, so each element will be parsed individually, falling back to `dateutil`. To ensure parsing is consistent and as-expected, please specify a format.\n",
      "  X_valid[col] = pd.to_datetime(X_valid[col], errors='coerce')\n",
      "C:\\Users\\shahp\\AppData\\Local\\Temp\\ipykernel_12448\\3743807202.py:6: UserWarning: Could not infer format, so each element will be parsed individually, falling back to `dateutil`. To ensure parsing is consistent and as-expected, please specify a format.\n",
      "  test_data[col] = pd.to_datetime(test_data[col], errors='coerce')\n",
      "C:\\Users\\shahp\\AppData\\Local\\Temp\\ipykernel_12448\\3743807202.py:9: PerformanceWarning: DataFrame is highly fragmented.  This is usually the result of calling `frame.insert` many times, which has poor performance.  Consider joining all columns at once using pd.concat(axis=1) instead. To get a de-fragmented frame, use `newframe = frame.copy()`\n",
      "  df[f\"{col}_year\"] = df[col].dt.year\n",
      "C:\\Users\\shahp\\AppData\\Local\\Temp\\ipykernel_12448\\3743807202.py:10: PerformanceWarning: DataFrame is highly fragmented.  This is usually the result of calling `frame.insert` many times, which has poor performance.  Consider joining all columns at once using pd.concat(axis=1) instead. To get a de-fragmented frame, use `newframe = frame.copy()`\n",
      "  df[f\"{col}_month\"] = df[col].dt.month\n",
      "C:\\Users\\shahp\\AppData\\Local\\Temp\\ipykernel_12448\\3743807202.py:11: PerformanceWarning: DataFrame is highly fragmented.  This is usually the result of calling `frame.insert` many times, which has poor performance.  Consider joining all columns at once using pd.concat(axis=1) instead. To get a de-fragmented frame, use `newframe = frame.copy()`\n",
      "  df[f\"{col}_day\"] = df[col].dt.day\n",
      "C:\\Users\\shahp\\AppData\\Local\\Temp\\ipykernel_12448\\3743807202.py:9: PerformanceWarning: DataFrame is highly fragmented.  This is usually the result of calling `frame.insert` many times, which has poor performance.  Consider joining all columns at once using pd.concat(axis=1) instead. To get a de-fragmented frame, use `newframe = frame.copy()`\n",
      "  df[f\"{col}_year\"] = df[col].dt.year\n",
      "C:\\Users\\shahp\\AppData\\Local\\Temp\\ipykernel_12448\\3743807202.py:10: PerformanceWarning: DataFrame is highly fragmented.  This is usually the result of calling `frame.insert` many times, which has poor performance.  Consider joining all columns at once using pd.concat(axis=1) instead. To get a de-fragmented frame, use `newframe = frame.copy()`\n",
      "  df[f\"{col}_month\"] = df[col].dt.month\n",
      "C:\\Users\\shahp\\AppData\\Local\\Temp\\ipykernel_12448\\3743807202.py:11: PerformanceWarning: DataFrame is highly fragmented.  This is usually the result of calling `frame.insert` many times, which has poor performance.  Consider joining all columns at once using pd.concat(axis=1) instead. To get a de-fragmented frame, use `newframe = frame.copy()`\n",
      "  df[f\"{col}_day\"] = df[col].dt.day\n",
      "C:\\Users\\shahp\\AppData\\Local\\Temp\\ipykernel_12448\\3743807202.py:9: PerformanceWarning: DataFrame is highly fragmented.  This is usually the result of calling `frame.insert` many times, which has poor performance.  Consider joining all columns at once using pd.concat(axis=1) instead. To get a de-fragmented frame, use `newframe = frame.copy()`\n",
      "  df[f\"{col}_year\"] = df[col].dt.year\n",
      "C:\\Users\\shahp\\AppData\\Local\\Temp\\ipykernel_12448\\3743807202.py:10: PerformanceWarning: DataFrame is highly fragmented.  This is usually the result of calling `frame.insert` many times, which has poor performance.  Consider joining all columns at once using pd.concat(axis=1) instead. To get a de-fragmented frame, use `newframe = frame.copy()`\n",
      "  df[f\"{col}_month\"] = df[col].dt.month\n",
      "C:\\Users\\shahp\\AppData\\Local\\Temp\\ipykernel_12448\\3743807202.py:11: PerformanceWarning: DataFrame is highly fragmented.  This is usually the result of calling `frame.insert` many times, which has poor performance.  Consider joining all columns at once using pd.concat(axis=1) instead. To get a de-fragmented frame, use `newframe = frame.copy()`\n",
      "  df[f\"{col}_day\"] = df[col].dt.day\n"
     ]
    },
    {
     "name": "stdout",
     "output_type": "stream",
     "text": [
      "Processed datetime column: GeographicField64\n"
     ]
    }
   ],
   "source": [
    "# Process potential date columns\n",
    "for col in non_numeric_cols:\n",
    "    try:\n",
    "        X_train[col] = pd.to_datetime(X_train[col], errors='coerce')\n",
    "        X_valid[col] = pd.to_datetime(X_valid[col], errors='coerce')\n",
    "        test_data[col] = pd.to_datetime(test_data[col], errors='coerce')\n",
    "\n",
    "        for df in [X_train, X_valid, test_data]:\n",
    "            df[f\"{col}_year\"] = df[col].dt.year\n",
    "            df[f\"{col}_month\"] = df[col].dt.month\n",
    "            df[f\"{col}_day\"] = df[col].dt.day\n",
    "            df.drop(columns=col, inplace=True)\n",
    "\n",
    "        print(f\"Processed datetime column: {col}\")\n",
    "\n",
    "    except Exception:\n",
    "        continue\n",
    "\n",
    "# Drop all-NaN columns\n",
    "def drop_all_nan(df_list):\n",
    "    nan_cols = df_list[0].columns[df_list[0].isnull().all()]\n",
    "    for df in df_list:\n",
    "        df.drop(columns=nan_cols, inplace=True)\n",
    "\n",
    "drop_all_nan([X_train, X_valid, test_data])"
   ]
  },
  {
   "cell_type": "code",
   "execution_count": 28,
   "id": "dbfa7fb3",
   "metadata": {},
   "outputs": [],
   "source": [
    "# Re-impute numeric columns\n",
    "numeric_cols = X_train.select_dtypes(include=['int64', 'float64']).columns\n",
    "X_train[numeric_cols] = num_imputer.fit_transform(X_train[numeric_cols])\n",
    "X_valid[numeric_cols] = num_imputer.transform(X_valid[numeric_cols])\n",
    "test_data[numeric_cols] = num_imputer.transform(test_data[numeric_cols])"
   ]
  },
  {
   "cell_type": "code",
   "execution_count": 29,
   "id": "54b68e9b",
   "metadata": {},
   "outputs": [
    {
     "name": "stdout",
     "output_type": "stream",
     "text": [
      "Scaling complete.\n"
     ]
    }
   ],
   "source": [
    "# Scaling numeric features\n",
    "scaler = StandardScaler()\n",
    "X_train_scaled = scaler.fit_transform(X_train[numeric_cols])\n",
    "X_valid_scaled = scaler.transform(X_valid[numeric_cols])\n",
    "X_test_scaled = scaler.transform(test_data[numeric_cols])\n",
    "\n",
    "print(\"Scaling complete.\")"
   ]
  },
  {
   "cell_type": "code",
   "execution_count": 30,
   "id": "5330fc15",
   "metadata": {},
   "outputs": [
    {
     "name": "stdout",
     "output_type": "stream",
     "text": [
      "PCA complete. Reduced to 50 components.\n"
     ]
    }
   ],
   "source": [
    "# Dimensionality reduction to speed up\n",
    "pca = PCA(n_components=50, random_state=42)\n",
    "X_train_pca = pca.fit_transform(X_train_scaled)\n",
    "X_valid_pca = pca.transform(X_valid_scaled)\n",
    "X_test_pca = pca.transform(X_test_scaled)\n",
    "\n",
    "print(\"PCA complete. Reduced to 50 components.\")"
   ]
  },
  {
   "cell_type": "code",
   "execution_count": 31,
   "id": "5b8b8f12",
   "metadata": {},
   "outputs": [
    {
     "name": "stderr",
     "output_type": "stream",
     "text": [
      "c:\\ProgramData\\anaconda3\\Lib\\site-packages\\imblearn\\over_sampling\\_smote\\base.py:370: FutureWarning: The parameter `n_jobs` has been deprecated in 0.10 and will be removed in 0.12. You can pass an nearest neighbors estimator where `n_jobs` is already set instead.\n",
      "  warnings.warn(\n"
     ]
    },
    {
     "name": "stdout",
     "output_type": "stream",
     "text": [
      "Post-SMOTE class distribution:\n",
      " QuoteConversion_Flag\n",
      "0    169487\n",
      "1    169487\n",
      "Name: count, dtype: int64\n"
     ]
    }
   ],
   "source": [
    "# SMOTE for class imbalance\n",
    "smote = SMOTE(random_state=42, sampling_strategy='minority', n_jobs=-1)\n",
    "X_train_resampled, y_train_resampled = smote.fit_resample(X_train_pca, y_train)\n",
    "\n",
    "print(\"Post-SMOTE class distribution:\\n\", pd.Series(y_train_resampled).value_counts())"
   ]
  },
  {
   "cell_type": "code",
   "execution_count": 32,
   "id": "fa22361a",
   "metadata": {},
   "outputs": [
    {
     "name": "stdout",
     "output_type": "stream",
     "text": [
      "\n",
      "Logistic Regression Classification Report:\n",
      "              precision    recall  f1-score   support\n",
      "\n",
      "           0       0.94      0.74      0.83     42372\n",
      "           1       0.41      0.78      0.54      9779\n",
      "\n",
      "    accuracy                           0.75     52151\n",
      "   macro avg       0.67      0.76      0.68     52151\n",
      "weighted avg       0.84      0.75      0.77     52151\n",
      "\n",
      "ROC-AUC Score: 0.8379\n"
     ]
    }
   ],
   "source": [
    "# Model Training — Option 1: Logistic Regression (with Regularization)\n",
    "log_reg = LogisticRegression(max_iter=1000, penalty='l2', C=1.0, solver='lbfgs')\n",
    "log_reg.fit(X_train_resampled, y_train_resampled)\n",
    "\n",
    "# Evaluation\n",
    "y_valid_pred = log_reg.predict(X_valid_pca)\n",
    "y_valid_proba = log_reg.predict_proba(X_valid_pca)[:, 1]\n",
    "\n",
    "print(\"\\nLogistic Regression Classification Report:\")\n",
    "print(classification_report(y_valid, y_valid_pred))\n",
    "print(f\"ROC-AUC Score: {roc_auc_score(y_valid, y_valid_proba):.4f}\")"
   ]
  },
  {
   "cell_type": "code",
   "execution_count": 33,
   "id": "17ac7cf7",
   "metadata": {},
   "outputs": [
    {
     "name": "stdout",
     "output_type": "stream",
     "text": [
      "\n",
      "Random Forest Classification Report:\n",
      "              precision    recall  f1-score   support\n",
      "\n",
      "           0       0.94      0.72      0.81     42372\n",
      "           1       0.40      0.81      0.53      9779\n",
      "\n",
      "    accuracy                           0.73     52151\n",
      "   macro avg       0.67      0.76      0.67     52151\n",
      "weighted avg       0.84      0.73      0.76     52151\n",
      "\n",
      "ROC-AUC Score: 0.8427\n"
     ]
    }
   ],
   "source": [
    "# Model Training — Option 2: Random Forest \n",
    "rf = RandomForestClassifier(n_estimators=100, max_depth=10, random_state=42, n_jobs=-1)\n",
    "rf.fit(X_train_resampled, y_train_resampled)\n",
    "\n",
    "# Evaluation\n",
    "y_valid_rf_pred = rf.predict(X_valid_pca)\n",
    "y_valid_rf_proba = rf.predict_proba(X_valid_pca)[:, 1]\n",
    "\n",
    "print(\"\\nRandom Forest Classification Report:\")\n",
    "print(classification_report(y_valid, y_valid_rf_pred))\n",
    "print(f\"ROC-AUC Score: {roc_auc_score(y_valid, y_valid_rf_proba):.4f}\")"
   ]
  },
  {
   "cell_type": "code",
   "execution_count": 34,
   "id": "d6b9f6f1",
   "metadata": {},
   "outputs": [
    {
     "name": "stdout",
     "output_type": "stream",
     "text": [
      "\n",
      "Predictions exported to test_predictions.csv\n"
     ]
    }
   ],
   "source": [
    "# Predict on Test Data using best model\n",
    "test_predictions = rf.predict(X_test_pca)\n",
    "\n",
    "# Export predictions\n",
    "submission = pd.DataFrame({\n",
    "    \"Id\": test_data.index,\n",
    "    \"QuoteConversion_Flag\": test_predictions\n",
    "})\n",
    "\n",
    "submission.to_csv(\"C:/Users/shahp/OneDrive/Desktop/test_predictions.csv\", index=False)\n",
    "print(\"\\nPredictions exported to test_predictions.csv\")"
   ]
  },
  {
   "cell_type": "code",
   "execution_count": 35,
   "id": "bea11baa",
   "metadata": {},
   "outputs": [
    {
     "name": "stdout",
     "output_type": "stream",
     "text": [
      "\n",
      "Pipeline completed in 244.91 seconds.\n"
     ]
    }
   ],
   "source": [
    "# Timer end\n",
    "end_time = time.time()\n",
    "print(f\"\\nPipeline completed in {(end_time - start_time):.2f} seconds.\")"
   ]
  }
 ],
 "metadata": {
  "kernelspec": {
   "display_name": "base",
   "language": "python",
   "name": "python3"
  },
  "language_info": {
   "codemirror_mode": {
    "name": "ipython",
    "version": 3
   },
   "file_extension": ".py",
   "mimetype": "text/x-python",
   "name": "python",
   "nbconvert_exporter": "python",
   "pygments_lexer": "ipython3",
   "version": "3.12.4"
  }
 },
 "nbformat": 4,
 "nbformat_minor": 5
}
